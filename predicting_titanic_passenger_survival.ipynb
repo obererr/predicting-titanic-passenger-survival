{
 "cells": [
  {
   "cell_type": "markdown",
   "id": "b64adf05-3c60-4cdd-a010-22beb999b0d1",
   "metadata": {},
   "source": [
    "# Executive Summary"
   ]
  },
  {
   "cell_type": "markdown",
   "id": "556cca48-d0f2-46f6-be5f-f77b922093fe",
   "metadata": {},
   "source": [
    "Five classification algorithms, namely Logistic Regression, K-Nearest Neighbors Classifier, Decision Tree Classifier, Random Forest Classifier, and Gradient Boosting Classifier, were explored during model development. Of the 20 models that were developed and tested, the model that yielded the highest test accuracy was a Logistic Regression model that uses 12 features ('Pclass', 'Title', 'AgeGroup', 'IsMr', 'FamilySize', 'FareGroup', 'SibSp', 'IsAlone', 'Embarked', 'Sex', 'Parch', 'IsElderly'). \n",
    "\n",
    "This model has the following parameters: {'solver': 'saga', 'max_iter': 300, 'C': 0.1}. It has a mean cross-validation accuracy of 81.60%, a training set accuracy of 81.82%, and according to Kaggle, a test set accuracy of 78.95%. 'Pclass', 'Title', 'AgeGroup', 'IsMr', 'FamilySize', and 'FareGroup' are its six features with the highest absolute coefficient values.\n",
    "\n",
    "Given this, the demographics of Titanic passengers who are more likely to survive are those who belong to a higher ticket class, do not have a title of Mr, are female, are not elderly, or are traveling with 1 to 3 other family members.\n",
    "\n",
    "There were Random Forest Classifier and Gradient Boosting Classifier models that had higher mean cross-validation accuracies but they did not perform as well as the aforementioned Logistic Regression model on the test set.  "
   ]
  },
  {
   "cell_type": "markdown",
   "id": "b2bf5d17-6b61-4f7e-be05-6d0180541f22",
   "metadata": {},
   "source": [
    "# Project Background"
   ]
  },
  {
   "cell_type": "markdown",
   "id": "7e4d4f69-8831-4682-8ad8-52fe428a7509",
   "metadata": {},
   "source": [
    "The sinking of the Titanic stands out as one of the most notorious maritime disasters in history.\n",
    "\n",
    "During its maiden voyage on April 15, 1912, the RMS Titanic, widely believed to be unsinkable, met its tragic fate when it collided with an iceberg. Regrettably, the ship did not have sufficient lifeboats for all passengers and crew, resulting in the loss of 1502 lives out of 2224 onboard.\n",
    "\n",
    "While chance played a role in survival, certain demographics appeared to have higher chances of surviving than others."
   ]
  },
  {
   "cell_type": "markdown",
   "id": "2184442b-8d02-4bce-91c6-8fb6bf120947",
   "metadata": {},
   "source": [
    "# Project Objectives"
   ]
  },
  {
   "cell_type": "markdown",
   "id": "c6ccdeb6-4f5d-46f3-9149-b4b3f0466cb7",
   "metadata": {},
   "source": [
    "The objectives of this project are to develop a model that predicts survival for each passenger on the RMS Titanic and to determine the demographics that are more likely to survive. \n",
    "\n",
    "Model performance will be evaluated using the test accuracy metric. Model accuracy should be as high as possible. Model accuracy on the test set will be provided by Kaggle each time predictions using the test set are submitted."
   ]
  },
  {
   "cell_type": "markdown",
   "id": "f81cac54-da8b-4dcd-97a7-fd952f77e890",
   "metadata": {},
   "source": [
    "# Data Source"
   ]
  },
  {
   "cell_type": "markdown",
   "id": "1c28f85c-4ac6-41b0-9aa6-647391223b28",
   "metadata": {},
   "source": [
    "The datasets (train.csv and test.csv) were sourced from https://www.kaggle.com/competitions/titanic/data."
   ]
  },
  {
   "cell_type": "markdown",
   "id": "8060b43c-5631-4bf7-a775-2a3a5be04f64",
   "metadata": {},
   "source": [
    "# Importation of Necessary Packages"
   ]
  },
  {
   "cell_type": "code",
   "execution_count": 687,
   "id": "3c96ddbc-6774-4440-b9e4-8da883f5262d",
   "metadata": {},
   "outputs": [],
   "source": [
    "import pandas as pd\n",
    "from matplotlib import pyplot as plt\n",
    "import seaborn as sns\n",
    "from scipy.stats import skew\n",
    "from sklearn.linear_model import LogisticRegression\n",
    "from sklearn.neighbors import KNeighborsClassifier\n",
    "from sklearn.tree import DecisionTreeClassifier\n",
    "from sklearn.ensemble import RandomForestClassifier, GradientBoostingClassifier\n",
    "from sklearn.model_selection import RandomizedSearchCV, GridSearchCV, KFold, cross_val_score\n",
    "\n",
    "import warnings\n",
    "warnings.filterwarnings(\"ignore\")\n",
    "from IPython.display import display"
   ]
  },
  {
   "cell_type": "markdown",
   "id": "7f63e3f9-8f23-42f5-b1a9-7ebf580310b8",
   "metadata": {},
   "source": [
    "# Initial Data Exploration"
   ]
  },
  {
   "cell_type": "markdown",
   "id": "7442a1ae-f302-4a66-a92a-252c5891565d",
   "metadata": {},
   "source": [
    "## Training Data"
   ]
  },
  {
   "cell_type": "code",
   "execution_count": 688,
   "id": "61943227-c432-4c94-a205-baca135d341b",
   "metadata": {},
   "outputs": [],
   "source": [
    "# Read the csv file into train_data dataframe\n",
    "train_data = pd.read_csv(\"train.csv\")"
   ]
  },
  {
   "cell_type": "code",
   "execution_count": 689,
   "id": "3d3a3756-717f-4f84-80d9-4688aa98d1ff",
   "metadata": {},
   "outputs": [
    {
     "data": {
      "text/html": [
       "<div>\n",
       "<style scoped>\n",
       "    .dataframe tbody tr th:only-of-type {\n",
       "        vertical-align: middle;\n",
       "    }\n",
       "\n",
       "    .dataframe tbody tr th {\n",
       "        vertical-align: top;\n",
       "    }\n",
       "\n",
       "    .dataframe thead th {\n",
       "        text-align: right;\n",
       "    }\n",
       "</style>\n",
       "<table border=\"1\" class=\"dataframe\">\n",
       "  <thead>\n",
       "    <tr style=\"text-align: right;\">\n",
       "      <th></th>\n",
       "      <th>PassengerId</th>\n",
       "      <th>Survived</th>\n",
       "      <th>Pclass</th>\n",
       "      <th>Name</th>\n",
       "      <th>Sex</th>\n",
       "      <th>Age</th>\n",
       "      <th>SibSp</th>\n",
       "      <th>Parch</th>\n",
       "      <th>Ticket</th>\n",
       "      <th>Fare</th>\n",
       "      <th>Cabin</th>\n",
       "      <th>Embarked</th>\n",
       "    </tr>\n",
       "  </thead>\n",
       "  <tbody>\n",
       "    <tr>\n",
       "      <th>0</th>\n",
       "      <td>1</td>\n",
       "      <td>0</td>\n",
       "      <td>3</td>\n",
       "      <td>Braund, Mr. Owen Harris</td>\n",
       "      <td>male</td>\n",
       "      <td>22.0</td>\n",
       "      <td>1</td>\n",
       "      <td>0</td>\n",
       "      <td>A/5 21171</td>\n",
       "      <td>7.2500</td>\n",
       "      <td>NaN</td>\n",
       "      <td>S</td>\n",
       "    </tr>\n",
       "    <tr>\n",
       "      <th>1</th>\n",
       "      <td>2</td>\n",
       "      <td>1</td>\n",
       "      <td>1</td>\n",
       "      <td>Cumings, Mrs. John Bradley (Florence Briggs Th...</td>\n",
       "      <td>female</td>\n",
       "      <td>38.0</td>\n",
       "      <td>1</td>\n",
       "      <td>0</td>\n",
       "      <td>PC 17599</td>\n",
       "      <td>71.2833</td>\n",
       "      <td>C85</td>\n",
       "      <td>C</td>\n",
       "    </tr>\n",
       "    <tr>\n",
       "      <th>2</th>\n",
       "      <td>3</td>\n",
       "      <td>1</td>\n",
       "      <td>3</td>\n",
       "      <td>Heikkinen, Miss. Laina</td>\n",
       "      <td>female</td>\n",
       "      <td>26.0</td>\n",
       "      <td>0</td>\n",
       "      <td>0</td>\n",
       "      <td>STON/O2. 3101282</td>\n",
       "      <td>7.9250</td>\n",
       "      <td>NaN</td>\n",
       "      <td>S</td>\n",
       "    </tr>\n",
       "    <tr>\n",
       "      <th>3</th>\n",
       "      <td>4</td>\n",
       "      <td>1</td>\n",
       "      <td>1</td>\n",
       "      <td>Futrelle, Mrs. Jacques Heath (Lily May Peel)</td>\n",
       "      <td>female</td>\n",
       "      <td>35.0</td>\n",
       "      <td>1</td>\n",
       "      <td>0</td>\n",
       "      <td>113803</td>\n",
       "      <td>53.1000</td>\n",
       "      <td>C123</td>\n",
       "      <td>S</td>\n",
       "    </tr>\n",
       "    <tr>\n",
       "      <th>4</th>\n",
       "      <td>5</td>\n",
       "      <td>0</td>\n",
       "      <td>3</td>\n",
       "      <td>Allen, Mr. William Henry</td>\n",
       "      <td>male</td>\n",
       "      <td>35.0</td>\n",
       "      <td>0</td>\n",
       "      <td>0</td>\n",
       "      <td>373450</td>\n",
       "      <td>8.0500</td>\n",
       "      <td>NaN</td>\n",
       "      <td>S</td>\n",
       "    </tr>\n",
       "  </tbody>\n",
       "</table>\n",
       "</div>"
      ],
      "text/plain": [
       "   PassengerId  Survived  Pclass  \\\n",
       "0            1         0       3   \n",
       "1            2         1       1   \n",
       "2            3         1       3   \n",
       "3            4         1       1   \n",
       "4            5         0       3   \n",
       "\n",
       "                                                Name     Sex   Age  SibSp  \\\n",
       "0                            Braund, Mr. Owen Harris    male  22.0      1   \n",
       "1  Cumings, Mrs. John Bradley (Florence Briggs Th...  female  38.0      1   \n",
       "2                             Heikkinen, Miss. Laina  female  26.0      0   \n",
       "3       Futrelle, Mrs. Jacques Heath (Lily May Peel)  female  35.0      1   \n",
       "4                           Allen, Mr. William Henry    male  35.0      0   \n",
       "\n",
       "   Parch            Ticket     Fare Cabin Embarked  \n",
       "0      0         A/5 21171   7.2500   NaN        S  \n",
       "1      0          PC 17599  71.2833   C85        C  \n",
       "2      0  STON/O2. 3101282   7.9250   NaN        S  \n",
       "3      0            113803  53.1000  C123        S  \n",
       "4      0            373450   8.0500   NaN        S  "
      ]
     },
     "execution_count": 689,
     "metadata": {},
     "output_type": "execute_result"
    }
   ],
   "source": [
    "# Check first five rows of train_data\n",
    "train_data.head()"
   ]
  },
  {
   "cell_type": "code",
   "execution_count": 690,
   "id": "58e76bee-5de3-4e2a-a346-b9c9e5007639",
   "metadata": {},
   "outputs": [
    {
     "name": "stdout",
     "output_type": "stream",
     "text": [
      "<class 'pandas.core.frame.DataFrame'>\n",
      "RangeIndex: 891 entries, 0 to 890\n",
      "Data columns (total 12 columns):\n",
      " #   Column       Non-Null Count  Dtype  \n",
      "---  ------       --------------  -----  \n",
      " 0   PassengerId  891 non-null    int64  \n",
      " 1   Survived     891 non-null    int64  \n",
      " 2   Pclass       891 non-null    int64  \n",
      " 3   Name         891 non-null    object \n",
      " 4   Sex          891 non-null    object \n",
      " 5   Age          714 non-null    float64\n",
      " 6   SibSp        891 non-null    int64  \n",
      " 7   Parch        891 non-null    int64  \n",
      " 8   Ticket       891 non-null    object \n",
      " 9   Fare         891 non-null    float64\n",
      " 10  Cabin        204 non-null    object \n",
      " 11  Embarked     889 non-null    object \n",
      "dtypes: float64(2), int64(5), object(5)\n",
      "memory usage: 83.7+ KB\n"
     ]
    }
   ],
   "source": [
    "# Get an overview of train_data\n",
    "train_data.info()"
   ]
  },
  {
   "cell_type": "markdown",
   "id": "568bb64b-217f-4c9f-a6f2-15993555cd10",
   "metadata": {},
   "source": [
    "The train_data dataframe has 891 rows and 12 columns. Of the 12 columns, 7 are  numerical, and 5 are non-numerical. There are missing values in the following columns: Age, Cabin, and Embarked."
   ]
  },
  {
   "cell_type": "code",
   "execution_count": 691,
   "id": "10cd36de-53b1-4788-a03f-969788903be0",
   "metadata": {},
   "outputs": [
    {
     "data": {
      "text/html": [
       "<div>\n",
       "<style scoped>\n",
       "    .dataframe tbody tr th:only-of-type {\n",
       "        vertical-align: middle;\n",
       "    }\n",
       "\n",
       "    .dataframe tbody tr th {\n",
       "        vertical-align: top;\n",
       "    }\n",
       "\n",
       "    .dataframe thead th {\n",
       "        text-align: right;\n",
       "    }\n",
       "</style>\n",
       "<table border=\"1\" class=\"dataframe\">\n",
       "  <thead>\n",
       "    <tr style=\"text-align: right;\">\n",
       "      <th></th>\n",
       "      <th>PassengerId</th>\n",
       "      <th>Survived</th>\n",
       "      <th>Pclass</th>\n",
       "      <th>Age</th>\n",
       "      <th>SibSp</th>\n",
       "      <th>Parch</th>\n",
       "      <th>Fare</th>\n",
       "    </tr>\n",
       "  </thead>\n",
       "  <tbody>\n",
       "    <tr>\n",
       "      <th>count</th>\n",
       "      <td>891.000000</td>\n",
       "      <td>891.000000</td>\n",
       "      <td>891.000000</td>\n",
       "      <td>714.000000</td>\n",
       "      <td>891.000000</td>\n",
       "      <td>891.000000</td>\n",
       "      <td>891.000000</td>\n",
       "    </tr>\n",
       "    <tr>\n",
       "      <th>mean</th>\n",
       "      <td>446.000000</td>\n",
       "      <td>0.383838</td>\n",
       "      <td>2.308642</td>\n",
       "      <td>29.699118</td>\n",
       "      <td>0.523008</td>\n",
       "      <td>0.381594</td>\n",
       "      <td>32.204208</td>\n",
       "    </tr>\n",
       "    <tr>\n",
       "      <th>std</th>\n",
       "      <td>257.353842</td>\n",
       "      <td>0.486592</td>\n",
       "      <td>0.836071</td>\n",
       "      <td>14.526497</td>\n",
       "      <td>1.102743</td>\n",
       "      <td>0.806057</td>\n",
       "      <td>49.693429</td>\n",
       "    </tr>\n",
       "    <tr>\n",
       "      <th>min</th>\n",
       "      <td>1.000000</td>\n",
       "      <td>0.000000</td>\n",
       "      <td>1.000000</td>\n",
       "      <td>0.420000</td>\n",
       "      <td>0.000000</td>\n",
       "      <td>0.000000</td>\n",
       "      <td>0.000000</td>\n",
       "    </tr>\n",
       "    <tr>\n",
       "      <th>25%</th>\n",
       "      <td>223.500000</td>\n",
       "      <td>0.000000</td>\n",
       "      <td>2.000000</td>\n",
       "      <td>20.125000</td>\n",
       "      <td>0.000000</td>\n",
       "      <td>0.000000</td>\n",
       "      <td>7.910400</td>\n",
       "    </tr>\n",
       "    <tr>\n",
       "      <th>50%</th>\n",
       "      <td>446.000000</td>\n",
       "      <td>0.000000</td>\n",
       "      <td>3.000000</td>\n",
       "      <td>28.000000</td>\n",
       "      <td>0.000000</td>\n",
       "      <td>0.000000</td>\n",
       "      <td>14.454200</td>\n",
       "    </tr>\n",
       "    <tr>\n",
       "      <th>75%</th>\n",
       "      <td>668.500000</td>\n",
       "      <td>1.000000</td>\n",
       "      <td>3.000000</td>\n",
       "      <td>38.000000</td>\n",
       "      <td>1.000000</td>\n",
       "      <td>0.000000</td>\n",
       "      <td>31.000000</td>\n",
       "    </tr>\n",
       "    <tr>\n",
       "      <th>max</th>\n",
       "      <td>891.000000</td>\n",
       "      <td>1.000000</td>\n",
       "      <td>3.000000</td>\n",
       "      <td>80.000000</td>\n",
       "      <td>8.000000</td>\n",
       "      <td>6.000000</td>\n",
       "      <td>512.329200</td>\n",
       "    </tr>\n",
       "  </tbody>\n",
       "</table>\n",
       "</div>"
      ],
      "text/plain": [
       "       PassengerId    Survived      Pclass         Age       SibSp  \\\n",
       "count   891.000000  891.000000  891.000000  714.000000  891.000000   \n",
       "mean    446.000000    0.383838    2.308642   29.699118    0.523008   \n",
       "std     257.353842    0.486592    0.836071   14.526497    1.102743   \n",
       "min       1.000000    0.000000    1.000000    0.420000    0.000000   \n",
       "25%     223.500000    0.000000    2.000000   20.125000    0.000000   \n",
       "50%     446.000000    0.000000    3.000000   28.000000    0.000000   \n",
       "75%     668.500000    1.000000    3.000000   38.000000    1.000000   \n",
       "max     891.000000    1.000000    3.000000   80.000000    8.000000   \n",
       "\n",
       "            Parch        Fare  \n",
       "count  891.000000  891.000000  \n",
       "mean     0.381594   32.204208  \n",
       "std      0.806057   49.693429  \n",
       "min      0.000000    0.000000  \n",
       "25%      0.000000    7.910400  \n",
       "50%      0.000000   14.454200  \n",
       "75%      0.000000   31.000000  \n",
       "max      6.000000  512.329200  "
      ]
     },
     "execution_count": 691,
     "metadata": {},
     "output_type": "execute_result"
    }
   ],
   "source": [
    "# Get summary statistics of the numerical columns of train_data\n",
    "train_data.describe()"
   ]
  },
  {
   "cell_type": "markdown",
   "id": "89e5fd67-b8d3-4365-937a-43dff3314fcc",
   "metadata": {},
   "source": [
    "The range of values in each numerical column of train_data makes sense."
   ]
  },
  {
   "cell_type": "code",
   "execution_count": 692,
   "id": "de75a0a0-5736-42d2-8910-8aca0e40be74",
   "metadata": {},
   "outputs": [
    {
     "data": {
      "text/html": [
       "<div>\n",
       "<style scoped>\n",
       "    .dataframe tbody tr th:only-of-type {\n",
       "        vertical-align: middle;\n",
       "    }\n",
       "\n",
       "    .dataframe tbody tr th {\n",
       "        vertical-align: top;\n",
       "    }\n",
       "\n",
       "    .dataframe thead th {\n",
       "        text-align: right;\n",
       "    }\n",
       "</style>\n",
       "<table border=\"1\" class=\"dataframe\">\n",
       "  <thead>\n",
       "    <tr style=\"text-align: right;\">\n",
       "      <th></th>\n",
       "      <th>Name</th>\n",
       "      <th>Sex</th>\n",
       "      <th>Ticket</th>\n",
       "      <th>Cabin</th>\n",
       "      <th>Embarked</th>\n",
       "    </tr>\n",
       "  </thead>\n",
       "  <tbody>\n",
       "    <tr>\n",
       "      <th>count</th>\n",
       "      <td>891</td>\n",
       "      <td>891</td>\n",
       "      <td>891</td>\n",
       "      <td>204</td>\n",
       "      <td>889</td>\n",
       "    </tr>\n",
       "    <tr>\n",
       "      <th>unique</th>\n",
       "      <td>891</td>\n",
       "      <td>2</td>\n",
       "      <td>681</td>\n",
       "      <td>147</td>\n",
       "      <td>3</td>\n",
       "    </tr>\n",
       "    <tr>\n",
       "      <th>top</th>\n",
       "      <td>Braund, Mr. Owen Harris</td>\n",
       "      <td>male</td>\n",
       "      <td>347082</td>\n",
       "      <td>B96 B98</td>\n",
       "      <td>S</td>\n",
       "    </tr>\n",
       "    <tr>\n",
       "      <th>freq</th>\n",
       "      <td>1</td>\n",
       "      <td>577</td>\n",
       "      <td>7</td>\n",
       "      <td>4</td>\n",
       "      <td>644</td>\n",
       "    </tr>\n",
       "  </tbody>\n",
       "</table>\n",
       "</div>"
      ],
      "text/plain": [
       "                           Name   Sex  Ticket    Cabin Embarked\n",
       "count                       891   891     891      204      889\n",
       "unique                      891     2     681      147        3\n",
       "top     Braund, Mr. Owen Harris  male  347082  B96 B98        S\n",
       "freq                          1   577       7        4      644"
      ]
     },
     "execution_count": 692,
     "metadata": {},
     "output_type": "execute_result"
    }
   ],
   "source": [
    "# Get summary statistics of the object columns of train_data\n",
    "train_data.describe(include=['O'])"
   ]
  },
  {
   "cell_type": "markdown",
   "id": "0770cda1-9c64-4393-adf9-45d1acda053c",
   "metadata": {},
   "source": [
    "The most frequent class in the Sex column is male, while the most frequent class in the Embarked column is S for Southampton."
   ]
  },
  {
   "cell_type": "code",
   "execution_count": 693,
   "id": "c6838f9c-a9bd-408e-8cb1-d7ea395c005a",
   "metadata": {},
   "outputs": [
    {
     "data": {
      "text/plain": [
       "PassengerId    891\n",
       "Survived         2\n",
       "Pclass           3\n",
       "Name           891\n",
       "Sex              2\n",
       "Age             88\n",
       "SibSp            7\n",
       "Parch            7\n",
       "Ticket         681\n",
       "Fare           248\n",
       "Cabin          147\n",
       "Embarked         3\n",
       "dtype: int64"
      ]
     },
     "execution_count": 693,
     "metadata": {},
     "output_type": "execute_result"
    }
   ],
   "source": [
    "# Check number of unique values in each column of train_data\n",
    "train_data.nunique()"
   ]
  },
  {
   "cell_type": "markdown",
   "id": "0cdfd169-a4b3-4734-baee-8326bac73a95",
   "metadata": {},
   "source": [
    "The number of unique values in each of the Survived, Pclass, Sex, and Embarked columns of train_data is as expected."
   ]
  },
  {
   "cell_type": "code",
   "execution_count": 694,
   "id": "5d8120a0-12e2-497d-a0a8-dcb8393ca538",
   "metadata": {},
   "outputs": [
    {
     "name": "stdout",
     "output_type": "stream",
     "text": [
      "Unique values in Survived: [0 1]\n",
      "Unique values in Pclass: [3 1 2]\n",
      "Unique values in Sex: ['male' 'female']\n",
      "Unique values in SibSp: [1 0 3 4 2 5 8]\n",
      "Unique values in Parch: [0 1 2 5 3 4 6]\n",
      "Unique values in Embarked: ['S' 'C' 'Q' nan]\n"
     ]
    }
   ],
   "source": [
    "# See unique values in select columns of train_data\n",
    "for col in ['Survived', 'Pclass', 'Sex', 'SibSp', 'Parch', 'Embarked']:\n",
    "    print(\"Unique values in {}: {}\".format(col, train_data[col].unique()))"
   ]
  },
  {
   "cell_type": "markdown",
   "id": "c1bc2b61-b802-4ae9-86e7-6682176a8adb",
   "metadata": {},
   "source": [
    "## Test Data"
   ]
  },
  {
   "cell_type": "code",
   "execution_count": 695,
   "id": "fe6984cc-fbfd-4db1-b879-648d78e78311",
   "metadata": {},
   "outputs": [],
   "source": [
    "# Read the csv file into test_data dataframe\n",
    "test_data = pd.read_csv(\"test.csv\")"
   ]
  },
  {
   "cell_type": "code",
   "execution_count": 696,
   "id": "5d4a19a9-8ae2-47bc-8fe6-636e10321fc1",
   "metadata": {},
   "outputs": [
    {
     "data": {
      "text/html": [
       "<div>\n",
       "<style scoped>\n",
       "    .dataframe tbody tr th:only-of-type {\n",
       "        vertical-align: middle;\n",
       "    }\n",
       "\n",
       "    .dataframe tbody tr th {\n",
       "        vertical-align: top;\n",
       "    }\n",
       "\n",
       "    .dataframe thead th {\n",
       "        text-align: right;\n",
       "    }\n",
       "</style>\n",
       "<table border=\"1\" class=\"dataframe\">\n",
       "  <thead>\n",
       "    <tr style=\"text-align: right;\">\n",
       "      <th></th>\n",
       "      <th>PassengerId</th>\n",
       "      <th>Pclass</th>\n",
       "      <th>Name</th>\n",
       "      <th>Sex</th>\n",
       "      <th>Age</th>\n",
       "      <th>SibSp</th>\n",
       "      <th>Parch</th>\n",
       "      <th>Ticket</th>\n",
       "      <th>Fare</th>\n",
       "      <th>Cabin</th>\n",
       "      <th>Embarked</th>\n",
       "    </tr>\n",
       "  </thead>\n",
       "  <tbody>\n",
       "    <tr>\n",
       "      <th>0</th>\n",
       "      <td>892</td>\n",
       "      <td>3</td>\n",
       "      <td>Kelly, Mr. James</td>\n",
       "      <td>male</td>\n",
       "      <td>34.5</td>\n",
       "      <td>0</td>\n",
       "      <td>0</td>\n",
       "      <td>330911</td>\n",
       "      <td>7.8292</td>\n",
       "      <td>NaN</td>\n",
       "      <td>Q</td>\n",
       "    </tr>\n",
       "    <tr>\n",
       "      <th>1</th>\n",
       "      <td>893</td>\n",
       "      <td>3</td>\n",
       "      <td>Wilkes, Mrs. James (Ellen Needs)</td>\n",
       "      <td>female</td>\n",
       "      <td>47.0</td>\n",
       "      <td>1</td>\n",
       "      <td>0</td>\n",
       "      <td>363272</td>\n",
       "      <td>7.0000</td>\n",
       "      <td>NaN</td>\n",
       "      <td>S</td>\n",
       "    </tr>\n",
       "    <tr>\n",
       "      <th>2</th>\n",
       "      <td>894</td>\n",
       "      <td>2</td>\n",
       "      <td>Myles, Mr. Thomas Francis</td>\n",
       "      <td>male</td>\n",
       "      <td>62.0</td>\n",
       "      <td>0</td>\n",
       "      <td>0</td>\n",
       "      <td>240276</td>\n",
       "      <td>9.6875</td>\n",
       "      <td>NaN</td>\n",
       "      <td>Q</td>\n",
       "    </tr>\n",
       "    <tr>\n",
       "      <th>3</th>\n",
       "      <td>895</td>\n",
       "      <td>3</td>\n",
       "      <td>Wirz, Mr. Albert</td>\n",
       "      <td>male</td>\n",
       "      <td>27.0</td>\n",
       "      <td>0</td>\n",
       "      <td>0</td>\n",
       "      <td>315154</td>\n",
       "      <td>8.6625</td>\n",
       "      <td>NaN</td>\n",
       "      <td>S</td>\n",
       "    </tr>\n",
       "    <tr>\n",
       "      <th>4</th>\n",
       "      <td>896</td>\n",
       "      <td>3</td>\n",
       "      <td>Hirvonen, Mrs. Alexander (Helga E Lindqvist)</td>\n",
       "      <td>female</td>\n",
       "      <td>22.0</td>\n",
       "      <td>1</td>\n",
       "      <td>1</td>\n",
       "      <td>3101298</td>\n",
       "      <td>12.2875</td>\n",
       "      <td>NaN</td>\n",
       "      <td>S</td>\n",
       "    </tr>\n",
       "  </tbody>\n",
       "</table>\n",
       "</div>"
      ],
      "text/plain": [
       "   PassengerId  Pclass                                          Name     Sex  \\\n",
       "0          892       3                              Kelly, Mr. James    male   \n",
       "1          893       3              Wilkes, Mrs. James (Ellen Needs)  female   \n",
       "2          894       2                     Myles, Mr. Thomas Francis    male   \n",
       "3          895       3                              Wirz, Mr. Albert    male   \n",
       "4          896       3  Hirvonen, Mrs. Alexander (Helga E Lindqvist)  female   \n",
       "\n",
       "    Age  SibSp  Parch   Ticket     Fare Cabin Embarked  \n",
       "0  34.5      0      0   330911   7.8292   NaN        Q  \n",
       "1  47.0      1      0   363272   7.0000   NaN        S  \n",
       "2  62.0      0      0   240276   9.6875   NaN        Q  \n",
       "3  27.0      0      0   315154   8.6625   NaN        S  \n",
       "4  22.0      1      1  3101298  12.2875   NaN        S  "
      ]
     },
     "execution_count": 696,
     "metadata": {},
     "output_type": "execute_result"
    }
   ],
   "source": [
    "# Check first five rows of test_data\n",
    "test_data.head()"
   ]
  },
  {
   "cell_type": "code",
   "execution_count": 697,
   "id": "4bb2b381-8595-41cb-9272-dfe415c160ad",
   "metadata": {},
   "outputs": [
    {
     "name": "stdout",
     "output_type": "stream",
     "text": [
      "<class 'pandas.core.frame.DataFrame'>\n",
      "RangeIndex: 418 entries, 0 to 417\n",
      "Data columns (total 11 columns):\n",
      " #   Column       Non-Null Count  Dtype  \n",
      "---  ------       --------------  -----  \n",
      " 0   PassengerId  418 non-null    int64  \n",
      " 1   Pclass       418 non-null    int64  \n",
      " 2   Name         418 non-null    object \n",
      " 3   Sex          418 non-null    object \n",
      " 4   Age          332 non-null    float64\n",
      " 5   SibSp        418 non-null    int64  \n",
      " 6   Parch        418 non-null    int64  \n",
      " 7   Ticket       418 non-null    object \n",
      " 8   Fare         417 non-null    float64\n",
      " 9   Cabin        91 non-null     object \n",
      " 10  Embarked     418 non-null    object \n",
      "dtypes: float64(2), int64(4), object(5)\n",
      "memory usage: 36.1+ KB\n"
     ]
    }
   ],
   "source": [
    "# Get an overview of test_data\n",
    "test_data.info()"
   ]
  },
  {
   "cell_type": "markdown",
   "id": "0d7b8059-1d13-4680-8e23-b499733b6725",
   "metadata": {},
   "source": [
    "The test_data dataframe has 418 rows and 11 columns. Unlike train_data, it has no Survived column. Of the 11 columns it has, 6 are  numerical, and 4 are non-numerical. There are missing values in the following columns: Age, Fare, Cabin, and Embarked."
   ]
  },
  {
   "cell_type": "code",
   "execution_count": 698,
   "id": "21f92128-28c8-42c8-aa2d-00816a0d3acc",
   "metadata": {},
   "outputs": [
    {
     "data": {
      "text/html": [
       "<div>\n",
       "<style scoped>\n",
       "    .dataframe tbody tr th:only-of-type {\n",
       "        vertical-align: middle;\n",
       "    }\n",
       "\n",
       "    .dataframe tbody tr th {\n",
       "        vertical-align: top;\n",
       "    }\n",
       "\n",
       "    .dataframe thead th {\n",
       "        text-align: right;\n",
       "    }\n",
       "</style>\n",
       "<table border=\"1\" class=\"dataframe\">\n",
       "  <thead>\n",
       "    <tr style=\"text-align: right;\">\n",
       "      <th></th>\n",
       "      <th>PassengerId</th>\n",
       "      <th>Pclass</th>\n",
       "      <th>Age</th>\n",
       "      <th>SibSp</th>\n",
       "      <th>Parch</th>\n",
       "      <th>Fare</th>\n",
       "    </tr>\n",
       "  </thead>\n",
       "  <tbody>\n",
       "    <tr>\n",
       "      <th>count</th>\n",
       "      <td>418.000000</td>\n",
       "      <td>418.000000</td>\n",
       "      <td>332.000000</td>\n",
       "      <td>418.000000</td>\n",
       "      <td>418.000000</td>\n",
       "      <td>417.000000</td>\n",
       "    </tr>\n",
       "    <tr>\n",
       "      <th>mean</th>\n",
       "      <td>1100.500000</td>\n",
       "      <td>2.265550</td>\n",
       "      <td>30.272590</td>\n",
       "      <td>0.447368</td>\n",
       "      <td>0.392344</td>\n",
       "      <td>35.627188</td>\n",
       "    </tr>\n",
       "    <tr>\n",
       "      <th>std</th>\n",
       "      <td>120.810458</td>\n",
       "      <td>0.841838</td>\n",
       "      <td>14.181209</td>\n",
       "      <td>0.896760</td>\n",
       "      <td>0.981429</td>\n",
       "      <td>55.907576</td>\n",
       "    </tr>\n",
       "    <tr>\n",
       "      <th>min</th>\n",
       "      <td>892.000000</td>\n",
       "      <td>1.000000</td>\n",
       "      <td>0.170000</td>\n",
       "      <td>0.000000</td>\n",
       "      <td>0.000000</td>\n",
       "      <td>0.000000</td>\n",
       "    </tr>\n",
       "    <tr>\n",
       "      <th>25%</th>\n",
       "      <td>996.250000</td>\n",
       "      <td>1.000000</td>\n",
       "      <td>21.000000</td>\n",
       "      <td>0.000000</td>\n",
       "      <td>0.000000</td>\n",
       "      <td>7.895800</td>\n",
       "    </tr>\n",
       "    <tr>\n",
       "      <th>50%</th>\n",
       "      <td>1100.500000</td>\n",
       "      <td>3.000000</td>\n",
       "      <td>27.000000</td>\n",
       "      <td>0.000000</td>\n",
       "      <td>0.000000</td>\n",
       "      <td>14.454200</td>\n",
       "    </tr>\n",
       "    <tr>\n",
       "      <th>75%</th>\n",
       "      <td>1204.750000</td>\n",
       "      <td>3.000000</td>\n",
       "      <td>39.000000</td>\n",
       "      <td>1.000000</td>\n",
       "      <td>0.000000</td>\n",
       "      <td>31.500000</td>\n",
       "    </tr>\n",
       "    <tr>\n",
       "      <th>max</th>\n",
       "      <td>1309.000000</td>\n",
       "      <td>3.000000</td>\n",
       "      <td>76.000000</td>\n",
       "      <td>8.000000</td>\n",
       "      <td>9.000000</td>\n",
       "      <td>512.329200</td>\n",
       "    </tr>\n",
       "  </tbody>\n",
       "</table>\n",
       "</div>"
      ],
      "text/plain": [
       "       PassengerId      Pclass         Age       SibSp       Parch        Fare\n",
       "count   418.000000  418.000000  332.000000  418.000000  418.000000  417.000000\n",
       "mean   1100.500000    2.265550   30.272590    0.447368    0.392344   35.627188\n",
       "std     120.810458    0.841838   14.181209    0.896760    0.981429   55.907576\n",
       "min     892.000000    1.000000    0.170000    0.000000    0.000000    0.000000\n",
       "25%     996.250000    1.000000   21.000000    0.000000    0.000000    7.895800\n",
       "50%    1100.500000    3.000000   27.000000    0.000000    0.000000   14.454200\n",
       "75%    1204.750000    3.000000   39.000000    1.000000    0.000000   31.500000\n",
       "max    1309.000000    3.000000   76.000000    8.000000    9.000000  512.329200"
      ]
     },
     "execution_count": 698,
     "metadata": {},
     "output_type": "execute_result"
    }
   ],
   "source": [
    "# Get summary statistics of the numerical columns of test_data\n",
    "test_data.describe()"
   ]
  },
  {
   "cell_type": "markdown",
   "id": "694e1e33-d681-44bd-94cc-90f5613850d0",
   "metadata": {},
   "source": [
    "The range of values in each numerical column of test_data makes sense."
   ]
  },
  {
   "cell_type": "code",
   "execution_count": 699,
   "id": "34408c35-70af-48f6-a69b-0749ed102ecf",
   "metadata": {},
   "outputs": [
    {
     "data": {
      "text/html": [
       "<div>\n",
       "<style scoped>\n",
       "    .dataframe tbody tr th:only-of-type {\n",
       "        vertical-align: middle;\n",
       "    }\n",
       "\n",
       "    .dataframe tbody tr th {\n",
       "        vertical-align: top;\n",
       "    }\n",
       "\n",
       "    .dataframe thead th {\n",
       "        text-align: right;\n",
       "    }\n",
       "</style>\n",
       "<table border=\"1\" class=\"dataframe\">\n",
       "  <thead>\n",
       "    <tr style=\"text-align: right;\">\n",
       "      <th></th>\n",
       "      <th>Name</th>\n",
       "      <th>Sex</th>\n",
       "      <th>Ticket</th>\n",
       "      <th>Cabin</th>\n",
       "      <th>Embarked</th>\n",
       "    </tr>\n",
       "  </thead>\n",
       "  <tbody>\n",
       "    <tr>\n",
       "      <th>count</th>\n",
       "      <td>418</td>\n",
       "      <td>418</td>\n",
       "      <td>418</td>\n",
       "      <td>91</td>\n",
       "      <td>418</td>\n",
       "    </tr>\n",
       "    <tr>\n",
       "      <th>unique</th>\n",
       "      <td>418</td>\n",
       "      <td>2</td>\n",
       "      <td>363</td>\n",
       "      <td>76</td>\n",
       "      <td>3</td>\n",
       "    </tr>\n",
       "    <tr>\n",
       "      <th>top</th>\n",
       "      <td>Kelly, Mr. James</td>\n",
       "      <td>male</td>\n",
       "      <td>PC 17608</td>\n",
       "      <td>B57 B59 B63 B66</td>\n",
       "      <td>S</td>\n",
       "    </tr>\n",
       "    <tr>\n",
       "      <th>freq</th>\n",
       "      <td>1</td>\n",
       "      <td>266</td>\n",
       "      <td>5</td>\n",
       "      <td>3</td>\n",
       "      <td>270</td>\n",
       "    </tr>\n",
       "  </tbody>\n",
       "</table>\n",
       "</div>"
      ],
      "text/plain": [
       "                    Name   Sex    Ticket            Cabin Embarked\n",
       "count                418   418       418               91      418\n",
       "unique               418     2       363               76        3\n",
       "top     Kelly, Mr. James  male  PC 17608  B57 B59 B63 B66        S\n",
       "freq                   1   266         5                3      270"
      ]
     },
     "execution_count": 699,
     "metadata": {},
     "output_type": "execute_result"
    }
   ],
   "source": [
    "# Get summary statistics of the object columns of test_data\n",
    "test_data.describe(include=['O'])"
   ]
  },
  {
   "cell_type": "markdown",
   "id": "10b21ed1-29bd-448e-827c-69d0c7631be1",
   "metadata": {},
   "source": [
    "Similar to train_data, the most frequent class in the Sex column of test_data is male, while the most frequent class in the Embarked column of test_data is S for Southampton."
   ]
  },
  {
   "cell_type": "code",
   "execution_count": 700,
   "id": "ee3aa905-33bf-423b-b840-7cda9e910aec",
   "metadata": {},
   "outputs": [
    {
     "data": {
      "text/plain": [
       "PassengerId    418\n",
       "Pclass           3\n",
       "Name           418\n",
       "Sex              2\n",
       "Age             79\n",
       "SibSp            7\n",
       "Parch            8\n",
       "Ticket         363\n",
       "Fare           169\n",
       "Cabin           76\n",
       "Embarked         3\n",
       "dtype: int64"
      ]
     },
     "execution_count": 700,
     "metadata": {},
     "output_type": "execute_result"
    }
   ],
   "source": [
    "# Check number of unique values in each column of test_data\n",
    "test_data.nunique()"
   ]
  },
  {
   "cell_type": "markdown",
   "id": "6962b95d-8fcc-4ddd-a1cc-39e2efaa077e",
   "metadata": {},
   "source": [
    "The number of unique values in each of the Pclass, Sex, and Embarked columns of test_data is as expected."
   ]
  },
  {
   "cell_type": "code",
   "execution_count": 701,
   "id": "30044bf7-8ae8-4507-8cc4-fe60ceb41ed3",
   "metadata": {},
   "outputs": [
    {
     "name": "stdout",
     "output_type": "stream",
     "text": [
      "Unique values in Pclass: [3 2 1]\n",
      "Unique values in Sex: ['male' 'female']\n",
      "Unique values in SibSp: [0 1 2 3 4 5 8]\n",
      "Unique values in Parch: [0 1 3 2 4 6 5 9]\n",
      "Unique values in Embarked: ['Q' 'S' 'C']\n"
     ]
    }
   ],
   "source": [
    "# See unique values in select columns of test_data\n",
    "for col in ['Pclass', 'Sex', 'SibSp', 'Parch', 'Embarked']:\n",
    "    print(\"Unique values in {}: {}\".format(col, test_data[col].unique()))"
   ]
  },
  {
   "cell_type": "markdown",
   "id": "2a0d5582-4f6f-4932-b28d-43922fc30299",
   "metadata": {},
   "source": [
    "# Data Preprocessing"
   ]
  },
  {
   "cell_type": "markdown",
   "id": "a06ce0d5-aaee-456e-9f07-32e556d779db",
   "metadata": {},
   "source": [
    "## Handling Missing Values"
   ]
  },
  {
   "cell_type": "code",
   "execution_count": 702,
   "id": "593ff303-7c06-43fb-ba5c-f1f68922a021",
   "metadata": {},
   "outputs": [
    {
     "data": {
      "text/plain": [
       "PassengerId      0\n",
       "Survived         0\n",
       "Pclass           0\n",
       "Name             0\n",
       "Sex              0\n",
       "Age            177\n",
       "SibSp            0\n",
       "Parch            0\n",
       "Ticket           0\n",
       "Fare             0\n",
       "Cabin          687\n",
       "Embarked         2\n",
       "dtype: int64"
      ]
     },
     "execution_count": 702,
     "metadata": {},
     "output_type": "execute_result"
    }
   ],
   "source": [
    "# Determine number of missing values in each column of train_data\n",
    "train_data.isna().sum()"
   ]
  },
  {
   "cell_type": "markdown",
   "id": "3bbf119c-a07e-42fc-82d5-8972438c46b1",
   "metadata": {},
   "source": [
    "In train_data, the Age column has 177 missing values, the Cabin column has 687 missing values, and the Embarked column has 2 missing values. There are too many missing values in the Cabin colum."
   ]
  },
  {
   "cell_type": "code",
   "execution_count": 703,
   "id": "3e58525c-8f7c-4bc6-aa7f-328871cce070",
   "metadata": {},
   "outputs": [
    {
     "data": {
      "text/plain": [
       "PassengerId      0\n",
       "Pclass           0\n",
       "Name             0\n",
       "Sex              0\n",
       "Age             86\n",
       "SibSp            0\n",
       "Parch            0\n",
       "Ticket           0\n",
       "Fare             1\n",
       "Cabin          327\n",
       "Embarked         0\n",
       "dtype: int64"
      ]
     },
     "execution_count": 703,
     "metadata": {},
     "output_type": "execute_result"
    }
   ],
   "source": [
    "# Determine number of missing values in each column of test_data\n",
    "test_data.isna().sum()"
   ]
  },
  {
   "cell_type": "markdown",
   "id": "3040b618-21d2-45a9-96f7-97838aff779f",
   "metadata": {},
   "source": [
    "In test_data, the Age column has 86 missing values, the Fare column has 1 missing value, and the Cabin column has 327 missing values."
   ]
  },
  {
   "cell_type": "code",
   "execution_count": 704,
   "id": "0878ccb3-f215-41fd-8616-13f32e4387aa",
   "metadata": {},
   "outputs": [
    {
     "data": {
      "text/plain": [
       "PassengerId    0.000000\n",
       "Survived       0.000000\n",
       "Pclass         0.000000\n",
       "Name           0.000000\n",
       "Sex            0.000000\n",
       "Age            0.198653\n",
       "SibSp          0.000000\n",
       "Parch          0.000000\n",
       "Ticket         0.000000\n",
       "Fare           0.000000\n",
       "Cabin          0.771044\n",
       "Embarked       0.002245\n",
       "dtype: float64"
      ]
     },
     "execution_count": 704,
     "metadata": {},
     "output_type": "execute_result"
    }
   ],
   "source": [
    "# Determine percentage of missing values in each column of train_data\n",
    "train_data.isna().mean()"
   ]
  },
  {
   "cell_type": "markdown",
   "id": "96472ba8-a98b-4d16-a1e1-6fdc32ee2bed",
   "metadata": {},
   "source": [
    "In train_data, 19.86% of values in the Age column are missing, 77.10% of values in the Cabin column are missing, and 0.22% of values in the Embarked column are missing."
   ]
  },
  {
   "cell_type": "code",
   "execution_count": 705,
   "id": "2354c652-56b5-4d11-8f62-2f6990c8be91",
   "metadata": {},
   "outputs": [
    {
     "data": {
      "text/plain": [
       "PassengerId    0.000000\n",
       "Pclass         0.000000\n",
       "Name           0.000000\n",
       "Sex            0.000000\n",
       "Age            0.205742\n",
       "SibSp          0.000000\n",
       "Parch          0.000000\n",
       "Ticket         0.000000\n",
       "Fare           0.002392\n",
       "Cabin          0.782297\n",
       "Embarked       0.000000\n",
       "dtype: float64"
      ]
     },
     "execution_count": 705,
     "metadata": {},
     "output_type": "execute_result"
    }
   ],
   "source": [
    "# Determine percentage of missing values in each column of test_data\n",
    "test_data.isna().mean()"
   ]
  },
  {
   "cell_type": "markdown",
   "id": "1c5bd121-d918-41f7-bf8f-99390a5d9617",
   "metadata": {},
   "source": [
    "In test_data, 20.57% of values in the Age column are missing, 0.24% of values in the Fare column is missing, and 78.23% of values in the Cabin column are missing."
   ]
  },
  {
   "cell_type": "code",
   "execution_count": 706,
   "id": "98fe6e12-d30c-4a82-a2c0-d6ea96b02176",
   "metadata": {},
   "outputs": [
    {
     "data": {
      "text/plain": [
       "708"
      ]
     },
     "execution_count": 706,
     "metadata": {},
     "output_type": "execute_result"
    }
   ],
   "source": [
    "# Determine number of rows with missing values in train_data\n",
    "train_data.isna().any(axis=1).sum()"
   ]
  },
  {
   "cell_type": "markdown",
   "id": "216e82d9-6f87-4816-a2d3-8c8bea8f6c82",
   "metadata": {},
   "source": [
    "Of 891 rows in train_data, 708 have at least one missing value. "
   ]
  },
  {
   "cell_type": "code",
   "execution_count": 707,
   "id": "25a7cb89-2d59-4ed7-a652-102e111bedc0",
   "metadata": {},
   "outputs": [
    {
     "data": {
      "text/plain": [
       "331"
      ]
     },
     "execution_count": 707,
     "metadata": {},
     "output_type": "execute_result"
    }
   ],
   "source": [
    "# Determine number of rows with missing values in test_data\n",
    "test_data.isna().any(axis=1).sum()"
   ]
  },
  {
   "cell_type": "markdown",
   "id": "a6d16bc0-8bbe-4004-8eb3-6e2e4b38accf",
   "metadata": {},
   "source": [
    "Of 418 rows in test_data, 331 have at least one missing value."
   ]
  },
  {
   "cell_type": "code",
   "execution_count": 708,
   "id": "ab9d6c7e-af7d-4ba4-a59a-01b69b08ce95",
   "metadata": {},
   "outputs": [
    {
     "data": {
      "text/plain": [
       "0.7946127946127947"
      ]
     },
     "execution_count": 708,
     "metadata": {},
     "output_type": "execute_result"
    }
   ],
   "source": [
    "# Determine percentage of rows in train_data with missing values\n",
    "train_data.isna().any(axis=1).mean()"
   ]
  },
  {
   "cell_type": "markdown",
   "id": "1778a560-94a2-4cf6-b6a7-c9a9998be74d",
   "metadata": {},
   "source": [
    "Of 891 rows in train_data, 79.46% have at least one missing value."
   ]
  },
  {
   "cell_type": "code",
   "execution_count": 709,
   "id": "ef10bda9-20ea-4b58-82b1-34d6b4f61a2a",
   "metadata": {},
   "outputs": [
    {
     "data": {
      "text/plain": [
       "0.7918660287081339"
      ]
     },
     "execution_count": 709,
     "metadata": {},
     "output_type": "execute_result"
    }
   ],
   "source": [
    "# Determine percentage of rows in test_data with missing values\n",
    "test_data.isna().any(axis=1).mean()"
   ]
  },
  {
   "cell_type": "markdown",
   "id": "ac56a6af-8d67-4adf-85dc-f297a11c27f3",
   "metadata": {},
   "source": [
    "Of 418 rows in test_data, 79.19% have at least one missing value."
   ]
  },
  {
   "cell_type": "markdown",
   "id": "d3d37b0e-8ad0-420a-85e7-fbbae7126f80",
   "metadata": {},
   "source": [
    "### Age"
   ]
  },
  {
   "cell_type": "code",
   "execution_count": 710,
   "id": "d8bc1d54-7cb3-4e24-80f8-55429a92fa0d",
   "metadata": {},
   "outputs": [
    {
     "data": {
      "text/plain": [
       "<Axes: xlabel='Age', ylabel='Count'>"
      ]
     },
     "execution_count": 710,
     "metadata": {},
     "output_type": "execute_result"
    },
    {
     "data": {
      "image/png": "[encoded data removed]",
      "text/plain": [
       "<Figure size 640x480 with 1 Axes>"
      ]
     },
     "metadata": {},
     "output_type": "display_data"
    }
   ],
   "source": [
    "# Create histogram of Age column of train_data\n",
    "sns.histplot(data=train_data, x='Age')"
   ]
  },
  {
   "cell_type": "markdown",
   "id": "4af5d383-f8cf-47d7-9dff-f2b4f3ae0409",
   "metadata": {},
   "source": [
    "The distribution of Age does not look skewed."
   ]
  },
  {
   "cell_type": "code",
   "execution_count": 711,
   "id": "cc4f0d4a-bab6-4aad-9ca6-05c86486e3cc",
   "metadata": {},
   "outputs": [
    {
     "name": "stdout",
     "output_type": "stream",
     "text": [
      "Skewness of Age: nan\n"
     ]
    }
   ],
   "source": [
    "# Compute skewness of Age column of train_data\n",
    "print(\"Skewness of Age: {}\".format(skew(train_data['Age'])))"
   ]
  },
  {
   "cell_type": "markdown",
   "id": "68685c9c-41e2-42bb-81c6-13a2ca408035",
   "metadata": {},
   "source": [
    "This confirms that the distribution of Age is negligibly skewed."
   ]
  },
  {
   "cell_type": "code",
   "execution_count": 712,
   "id": "d17cabc3-f666-4d5c-b5d9-53c3d22d51b4",
   "metadata": {},
   "outputs": [],
   "source": [
    "# Compute the mean of the Age column of train_data\n",
    "age_mean = train_data['Age'].mean()\n",
    "\n",
    "# Fill missing Age values in train_data and test_data with age_mean\n",
    "train_data['Age'] = train_data['Age'].fillna(age_mean)\n",
    "test_data['Age'] = test_data['Age'].fillna(age_mean)"
   ]
  },
  {
   "cell_type": "markdown",
   "id": "a18f9aba-1796-421b-81f4-bbb10dcc75da",
   "metadata": {},
   "source": [
    "### Fare"
   ]
  },
  {
   "cell_type": "code",
   "execution_count": 713,
   "id": "28498a1d-75ac-4518-b6d6-2a9995d52f27",
   "metadata": {},
   "outputs": [
    {
     "data": {
      "text/plain": [
       "<Axes: xlabel='Fare', ylabel='Count'>"
      ]
     },
     "execution_count": 713,
     "metadata": {},
     "output_type": "execute_result"
    },
    {
     "data": {
      "image/png": "[encoded data removed]",
      "text/plain": [
       "<Figure size 640x480 with 1 Axes>"
      ]
     },
     "metadata": {},
     "output_type": "display_data"
    }
   ],
   "source": [
    "# Create histogram of Fare column of train_data\n",
    "sns.histplot(data=train_data, x='Fare')"
   ]
  },
  {
   "cell_type": "markdown",
   "id": "b273b58a-5f7c-4089-8924-cab626b9f287",
   "metadata": {},
   "source": [
    "The distribution of Fare is skewed to the right."
   ]
  },
  {
   "cell_type": "code",
   "execution_count": 714,
   "id": "9bc4baed-9432-4d84-b2a0-ebbadda6b712",
   "metadata": {},
   "outputs": [
    {
     "name": "stdout",
     "output_type": "stream",
     "text": [
      "Skewness of Fare: 4.7792532923723545\n"
     ]
    }
   ],
   "source": [
    "# Compute skewness of Fare column of train_data\n",
    "print(\"Skewness of Fare: {}\".format(skew(train_data['Fare'])))"
   ]
  },
  {
   "cell_type": "markdown",
   "id": "3d50e419-9c25-44d1-8361-77a4f77dac96",
   "metadata": {},
   "source": [
    "This shows that the distribution of Fare is highly skewed."
   ]
  },
  {
   "cell_type": "code",
   "execution_count": 715,
   "id": "c146b110-5a71-4caf-8216-a1961e12f519",
   "metadata": {},
   "outputs": [],
   "source": [
    "# Compute the median of the Fare column of train_data\n",
    "fare_median = train_data['Fare'].median()\n",
    "\n",
    "# Fill missing Fare values in test_data with fare_median\n",
    "test_data['Fare'] = test_data['Fare'].fillna(fare_median)"
   ]
  },
  {
   "cell_type": "markdown",
   "id": "3b88a2ff-283f-46a1-ab60-93461096c602",
   "metadata": {},
   "source": [
    "### Embarked"
   ]
  },
  {
   "cell_type": "code",
   "execution_count": 716,
   "id": "7216960a-d24a-4ec1-8d18-f749c7c2862f",
   "metadata": {},
   "outputs": [
    {
     "data": {
      "text/plain": [
       "<Axes: xlabel='Embarked', ylabel='count'>"
      ]
     },
     "execution_count": 716,
     "metadata": {},
     "output_type": "execute_result"
    },
    {
     "data": {
      "image/png": "[encoded data removed]",
      "text/plain": [
       "<Figure size 640x480 with 1 Axes>"
      ]
     },
     "metadata": {},
     "output_type": "display_data"
    }
   ],
   "source": [
    "# Create countplot of Embarked column of train_data\n",
    "sns.countplot(data=train_data, x='Embarked')"
   ]
  },
  {
   "cell_type": "markdown",
   "id": "d9528903-3e32-4d67-99e8-334c0309b1e3",
   "metadata": {},
   "source": [
    "The most frequent port of embarkation is S for Southampton."
   ]
  },
  {
   "cell_type": "code",
   "execution_count": 717,
   "id": "d4266d6d-a972-497b-b879-5c60cc823f5f",
   "metadata": {},
   "outputs": [],
   "source": [
    "# Fill missing Embarked values in train_data with mode 'S'\n",
    "train_data['Embarked'] = train_data['Embarked'].fillna('S')"
   ]
  },
  {
   "cell_type": "markdown",
   "id": "4f4c3a63-e8bb-4b6d-9571-ab54b30bb8c7",
   "metadata": {},
   "source": [
    "### Cabin"
   ]
  },
  {
   "cell_type": "markdown",
   "id": "5900e4f8-92b7-4336-8484-d363df766222",
   "metadata": {},
   "source": [
    "The Cabin column may hold some significance in predicting survival, but it has too many missing values for it to be useful. It has to be dropped. There are other features anyway (e.g., Pclass and Fare) that could be used in place of Cabin. The higher the ticket class and fare, the more premium the cabin is expected to be."
   ]
  },
  {
   "cell_type": "code",
   "execution_count": 718,
   "id": "3c833cc1-3f8c-4c7a-a295-ef36c8e12eed",
   "metadata": {},
   "outputs": [],
   "source": [
    "# Drop Cabin column from train_data and test_data\n",
    "for dataset in [train_data, test_data]:\n",
    "    dataset.drop(columns='Cabin', inplace=True)"
   ]
  },
  {
   "cell_type": "code",
   "execution_count": 719,
   "id": "d297c9f7-28fc-4ba6-be85-f324747597ad",
   "metadata": {},
   "outputs": [
    {
     "name": "stdout",
     "output_type": "stream",
     "text": [
      "<class 'pandas.core.frame.DataFrame'>\n",
      "RangeIndex: 891 entries, 0 to 890\n",
      "Data columns (total 11 columns):\n",
      " #   Column       Non-Null Count  Dtype  \n",
      "---  ------       --------------  -----  \n",
      " 0   PassengerId  891 non-null    int64  \n",
      " 1   Survived     891 non-null    int64  \n",
      " 2   Pclass       891 non-null    int64  \n",
      " 3   Name         891 non-null    object \n",
      " 4   Sex          891 non-null    object \n",
      " 5   Age          891 non-null    float64\n",
      " 6   SibSp        891 non-null    int64  \n",
      " 7   Parch        891 non-null    int64  \n",
      " 8   Ticket       891 non-null    object \n",
      " 9   Fare         891 non-null    float64\n",
      " 10  Embarked     891 non-null    object \n",
      "dtypes: float64(2), int64(5), object(4)\n",
      "memory usage: 76.7+ KB\n"
     ]
    }
   ],
   "source": [
    "# Confirm that there are no more columns with missing values in train_data\n",
    "train_data.info()"
   ]
  },
  {
   "cell_type": "code",
   "execution_count": 720,
   "id": "fb8eb99b-1a08-4df6-93ad-65f50ce16d5b",
   "metadata": {},
   "outputs": [
    {
     "name": "stdout",
     "output_type": "stream",
     "text": [
      "<class 'pandas.core.frame.DataFrame'>\n",
      "RangeIndex: 418 entries, 0 to 417\n",
      "Data columns (total 10 columns):\n",
      " #   Column       Non-Null Count  Dtype  \n",
      "---  ------       --------------  -----  \n",
      " 0   PassengerId  418 non-null    int64  \n",
      " 1   Pclass       418 non-null    int64  \n",
      " 2   Name         418 non-null    object \n",
      " 3   Sex          418 non-null    object \n",
      " 4   Age          418 non-null    float64\n",
      " 5   SibSp        418 non-null    int64  \n",
      " 6   Parch        418 non-null    int64  \n",
      " 7   Ticket       418 non-null    object \n",
      " 8   Fare         418 non-null    float64\n",
      " 9   Embarked     418 non-null    object \n",
      "dtypes: float64(2), int64(4), object(4)\n",
      "memory usage: 32.8+ KB\n"
     ]
    }
   ],
   "source": [
    "# Confirm that there are no more columns with missing values in test_data\n",
    "test_data.info()"
   ]
  },
  {
   "cell_type": "markdown",
   "id": "d0a25c75-9865-44a8-89ac-e7aa69fb169a",
   "metadata": {},
   "source": [
    "## Encoding Categorical Variables"
   ]
  },
  {
   "cell_type": "markdown",
   "id": "a5c253ff-9cd6-4144-9853-77ad4057c158",
   "metadata": {},
   "source": [
    "### Sex"
   ]
  },
  {
   "cell_type": "code",
   "execution_count": 721,
   "id": "bf902093-5aa6-4ab0-8166-736a3809249b",
   "metadata": {},
   "outputs": [],
   "source": [
    "# Encode Sex in both train_data and test_data\n",
    "for dataset in [train_data, test_data]:\n",
    "    dataset['Sex'] = dataset['Sex'].map( {'female': 1, 'male': 0} ).astype(int)"
   ]
  },
  {
   "cell_type": "markdown",
   "id": "776f07c3-f4ba-4a61-96c2-d4289002564a",
   "metadata": {},
   "source": [
    "### Embarked"
   ]
  },
  {
   "cell_type": "code",
   "execution_count": 722,
   "id": "997651f5-ccdb-4d68-a6a2-4ab481d2d70c",
   "metadata": {},
   "outputs": [],
   "source": [
    "# Encode Embarked in both train_data and test_data\n",
    "for dataset in [train_data, test_data]:\n",
    "    dataset['Embarked'] = dataset['Embarked'].map( {'S': 0, 'C': 1, 'Q': 2} ).astype(int)"
   ]
  },
  {
   "cell_type": "code",
   "execution_count": 723,
   "id": "37b2697a-bb23-41ad-b423-93b23163d79b",
   "metadata": {},
   "outputs": [
    {
     "name": "stdout",
     "output_type": "stream",
     "text": [
      "<class 'pandas.core.frame.DataFrame'>\n",
      "RangeIndex: 891 entries, 0 to 890\n",
      "Data columns (total 11 columns):\n",
      " #   Column       Non-Null Count  Dtype  \n",
      "---  ------       --------------  -----  \n",
      " 0   PassengerId  891 non-null    int64  \n",
      " 1   Survived     891 non-null    int64  \n",
      " 2   Pclass       891 non-null    int64  \n",
      " 3   Name         891 non-null    object \n",
      " 4   Sex          891 non-null    int32  \n",
      " 5   Age          891 non-null    float64\n",
      " 6   SibSp        891 non-null    int64  \n",
      " 7   Parch        891 non-null    int64  \n",
      " 8   Ticket       891 non-null    object \n",
      " 9   Fare         891 non-null    float64\n",
      " 10  Embarked     891 non-null    int32  \n",
      "dtypes: float64(2), int32(2), int64(5), object(2)\n",
      "memory usage: 69.7+ KB\n"
     ]
    }
   ],
   "source": [
    "# Get overview of train_data\n",
    "train_data.info()"
   ]
  },
  {
   "cell_type": "code",
   "execution_count": 724,
   "id": "7d37e34c-fbb7-4ff7-b8ac-1154e15ae3fb",
   "metadata": {},
   "outputs": [
    {
     "name": "stdout",
     "output_type": "stream",
     "text": [
      "<class 'pandas.core.frame.DataFrame'>\n",
      "RangeIndex: 418 entries, 0 to 417\n",
      "Data columns (total 10 columns):\n",
      " #   Column       Non-Null Count  Dtype  \n",
      "---  ------       --------------  -----  \n",
      " 0   PassengerId  418 non-null    int64  \n",
      " 1   Pclass       418 non-null    int64  \n",
      " 2   Name         418 non-null    object \n",
      " 3   Sex          418 non-null    int32  \n",
      " 4   Age          418 non-null    float64\n",
      " 5   SibSp        418 non-null    int64  \n",
      " 6   Parch        418 non-null    int64  \n",
      " 7   Ticket       418 non-null    object \n",
      " 8   Fare         418 non-null    float64\n",
      " 9   Embarked     418 non-null    int32  \n",
      "dtypes: float64(2), int32(2), int64(4), object(2)\n",
      "memory usage: 29.5+ KB\n"
     ]
    }
   ],
   "source": [
    "# Get overview of test_data\n",
    "test_data.info()"
   ]
  },
  {
   "cell_type": "code",
   "execution_count": 725,
   "id": "916b657e-c44c-4cd3-b040-f5caafb3e062",
   "metadata": {},
   "outputs": [
    {
     "name": "stdout",
     "output_type": "stream",
     "text": [
      "Unique values in Sex: [0 1]\n",
      "Unique values in Embarked: [0 1 2]\n"
     ]
    }
   ],
   "source": [
    "# See unique values in Sex and Embarked columns of train_data\n",
    "for col in ['Sex', 'Embarked']:\n",
    "    print(\"Unique values in {}: {}\".format(col, train_data[col].unique()))"
   ]
  },
  {
   "cell_type": "code",
   "execution_count": 726,
   "id": "86865ebf-415e-4e1d-baa3-2ed1e0937b39",
   "metadata": {},
   "outputs": [
    {
     "name": "stdout",
     "output_type": "stream",
     "text": [
      "Unique values in Sex: [0 1]\n",
      "Unique values in Embarked: [2 0 1]\n"
     ]
    }
   ],
   "source": [
    "# See unique values in Sex and Embarked columns of test_data\n",
    "for col in ['Sex', 'Embarked']:\n",
    "    print(\"Unique values in {}: {}\".format(col, test_data[col].unique()))"
   ]
  },
  {
   "cell_type": "markdown",
   "id": "d7617c91-f1c7-4297-8c0d-970ebad0ab27",
   "metadata": {},
   "source": [
    "# Feature Engineering"
   ]
  },
  {
   "cell_type": "markdown",
   "id": "38824c10-25ab-4f62-bc73-e62fe6bcb7d8",
   "metadata": {},
   "source": [
    "## Title"
   ]
  },
  {
   "cell_type": "markdown",
   "id": "8f534c1e-603c-498d-8456-56b8c67ec9c2",
   "metadata": {},
   "source": [
    "The Title feature may hold some clues to the prediction of survival. For example, those with more prestigious titles and female titles may be prioritized in the evacuation and consequently have a higher chance of survival."
   ]
  },
  {
   "cell_type": "code",
   "execution_count": 727,
   "id": "370db617-9ffa-4541-a191-dbe1832d94e7",
   "metadata": {},
   "outputs": [],
   "source": [
    "# Create Title feature for both train_data and test_data\n",
    "for dataset in [train_data, test_data]:\n",
    "    dataset['Title'] = dataset['Name'].apply(lambda x: x.split(',')[1].split('.')[0].strip())"
   ]
  },
  {
   "cell_type": "code",
   "execution_count": 728,
   "id": "76a4c1a1-4635-4aaa-ad94-b0c209d46882",
   "metadata": {},
   "outputs": [
    {
     "data": {
      "text/plain": [
       "Title\n",
       "Mr              517\n",
       "Miss            182\n",
       "Mrs             125\n",
       "Master           40\n",
       "Dr                7\n",
       "Rev               6\n",
       "Mlle              2\n",
       "Major             2\n",
       "Col               2\n",
       "the Countess      1\n",
       "Capt              1\n",
       "Ms                1\n",
       "Sir               1\n",
       "Lady              1\n",
       "Mme               1\n",
       "Don               1\n",
       "Jonkheer          1\n",
       "Name: count, dtype: int64"
      ]
     },
     "execution_count": 728,
     "metadata": {},
     "output_type": "execute_result"
    }
   ],
   "source": [
    "# Get frequency of each title in train_data\n",
    "train_data['Title'].value_counts()"
   ]
  },
  {
   "cell_type": "code",
   "execution_count": 729,
   "id": "48d6552e-ef41-47ae-9e4d-157d325f1f18",
   "metadata": {},
   "outputs": [
    {
     "name": "stdout",
     "output_type": "stream",
     "text": [
      "<class 'pandas.core.frame.DataFrame'>\n",
      "RangeIndex: 891 entries, 0 to 890\n",
      "Data columns (total 12 columns):\n",
      " #   Column       Non-Null Count  Dtype  \n",
      "---  ------       --------------  -----  \n",
      " 0   PassengerId  891 non-null    int64  \n",
      " 1   Survived     891 non-null    int64  \n",
      " 2   Pclass       891 non-null    int64  \n",
      " 3   Name         891 non-null    object \n",
      " 4   Sex          891 non-null    int32  \n",
      " 5   Age          891 non-null    float64\n",
      " 6   SibSp        891 non-null    int64  \n",
      " 7   Parch        891 non-null    int64  \n",
      " 8   Ticket       891 non-null    object \n",
      " 9   Fare         891 non-null    float64\n",
      " 10  Embarked     891 non-null    int32  \n",
      " 11  Title        891 non-null    object \n",
      "dtypes: float64(2), int32(2), int64(5), object(3)\n",
      "memory usage: 76.7+ KB\n"
     ]
    }
   ],
   "source": [
    "# Check for missing values in Title column of train_data\n",
    "train_data.info()"
   ]
  },
  {
   "cell_type": "code",
   "execution_count": 730,
   "id": "9d0939af-828e-4490-8302-45ee8e1b88f8",
   "metadata": {},
   "outputs": [
    {
     "name": "stdout",
     "output_type": "stream",
     "text": [
      "<class 'pandas.core.frame.DataFrame'>\n",
      "RangeIndex: 418 entries, 0 to 417\n",
      "Data columns (total 11 columns):\n",
      " #   Column       Non-Null Count  Dtype  \n",
      "---  ------       --------------  -----  \n",
      " 0   PassengerId  418 non-null    int64  \n",
      " 1   Pclass       418 non-null    int64  \n",
      " 2   Name         418 non-null    object \n",
      " 3   Sex          418 non-null    int32  \n",
      " 4   Age          418 non-null    float64\n",
      " 5   SibSp        418 non-null    int64  \n",
      " 6   Parch        418 non-null    int64  \n",
      " 7   Ticket       418 non-null    object \n",
      " 8   Fare         418 non-null    float64\n",
      " 9   Embarked     418 non-null    int32  \n",
      " 10  Title        418 non-null    object \n",
      "dtypes: float64(2), int32(2), int64(4), object(3)\n",
      "memory usage: 32.8+ KB\n"
     ]
    }
   ],
   "source": [
    "# Check for missing values in Title column of test_data\n",
    "test_data.info()"
   ]
  },
  {
   "cell_type": "code",
   "execution_count": 731,
   "id": "1aeb27f1-ac03-40bd-a411-2851428a39a2",
   "metadata": {},
   "outputs": [],
   "source": [
    "# Replace Mlle with Miss, Ms with Miss, and Mme with Mrs in both train_data and test_data\n",
    "for dataset in [train_data, test_data]:\n",
    "    dataset['Title'] = dataset['Title'].replace({'Mlle': 'Miss', 'Ms': 'Miss', 'Mme': 'Mrs'})\n",
    "\n",
    "# Replace any other title with 'Other'\n",
    "for dataset in [train_data, test_data]:\n",
    "    dataset.loc[~dataset['Title'].isin(['Mr', 'Miss', 'Mrs', 'Master']), 'Title'] = 'Other'"
   ]
  },
  {
   "cell_type": "code",
   "execution_count": 732,
   "id": "c72f1bd7-32b7-44ae-bb09-80e79875e3ab",
   "metadata": {},
   "outputs": [
    {
     "data": {
      "text/html": [
       "<div>\n",
       "<style scoped>\n",
       "    .dataframe tbody tr th:only-of-type {\n",
       "        vertical-align: middle;\n",
       "    }\n",
       "\n",
       "    .dataframe tbody tr th {\n",
       "        vertical-align: top;\n",
       "    }\n",
       "\n",
       "    .dataframe thead th {\n",
       "        text-align: right;\n",
       "    }\n",
       "</style>\n",
       "<table border=\"1\" class=\"dataframe\">\n",
       "  <thead>\n",
       "    <tr style=\"text-align: right;\">\n",
       "      <th></th>\n",
       "      <th>Title</th>\n",
       "      <th>Survived</th>\n",
       "    </tr>\n",
       "  </thead>\n",
       "  <tbody>\n",
       "    <tr>\n",
       "      <th>0</th>\n",
       "      <td>Mrs</td>\n",
       "      <td>0.793651</td>\n",
       "    </tr>\n",
       "    <tr>\n",
       "      <th>1</th>\n",
       "      <td>Miss</td>\n",
       "      <td>0.702703</td>\n",
       "    </tr>\n",
       "    <tr>\n",
       "      <th>2</th>\n",
       "      <td>Master</td>\n",
       "      <td>0.575000</td>\n",
       "    </tr>\n",
       "    <tr>\n",
       "      <th>3</th>\n",
       "      <td>Other</td>\n",
       "      <td>0.347826</td>\n",
       "    </tr>\n",
       "    <tr>\n",
       "      <th>4</th>\n",
       "      <td>Mr</td>\n",
       "      <td>0.156673</td>\n",
       "    </tr>\n",
       "  </tbody>\n",
       "</table>\n",
       "</div>"
      ],
      "text/plain": [
       "    Title  Survived\n",
       "0     Mrs  0.793651\n",
       "1    Miss  0.702703\n",
       "2  Master  0.575000\n",
       "3   Other  0.347826\n",
       "4      Mr  0.156673"
      ]
     },
     "execution_count": 732,
     "metadata": {},
     "output_type": "execute_result"
    }
   ],
   "source": [
    "# Compute survival rate by title in train_data\n",
    "train_data[['Title', 'Survived']].groupby(['Title'], as_index=False).mean().sort_values(by='Survived', ascending=False).reset_index(drop=True)"
   ]
  },
  {
   "cell_type": "markdown",
   "id": "e00862f5-167e-4dc7-b607-2beb4f33b29b",
   "metadata": {},
   "source": [
    "Passengers with a title of Mr have a far lower chance of survival compared to passengers with the following titles: Mrs, Miss, and Master."
   ]
  },
  {
   "cell_type": "code",
   "execution_count": 733,
   "id": "5eee70e8-f2d7-429d-9525-bf3b7650875a",
   "metadata": {},
   "outputs": [
    {
     "data": {
      "text/plain": [
       "<Axes: xlabel='Title', ylabel='Survived'>"
      ]
     },
     "execution_count": 733,
     "metadata": {},
     "output_type": "execute_result"
    },
    {
     "data": {
      "image/png": "[encoded data removed]",
      "text/plain": [
       "<Figure size 640x480 with 1 Axes>"
      ]
     },
     "metadata": {},
     "output_type": "display_data"
    }
   ],
   "source": [
    "# Create barplot of Title versus Survived in train_data\n",
    "sns.barplot(x='Title', y='Survived', data=train_data, errorbar=None, order=['Mrs', 'Miss', 'Master', 'Other', 'Mr'])"
   ]
  },
  {
   "cell_type": "code",
   "execution_count": 734,
   "id": "4bb40e43-2faa-414d-9e4c-9f2a5246e532",
   "metadata": {},
   "outputs": [],
   "source": [
    "# Map titles to number codes in both train_data and test_data\n",
    "title_mapping = {\"Mrs\": 0, \"Miss\": 1, \"Master\": 2, \"Other\": 3, \"Mr\": 4}\n",
    "for dataset in [train_data, test_data]:\n",
    "    dataset['Title'] = dataset['Title'].map(title_mapping)"
   ]
  },
  {
   "cell_type": "code",
   "execution_count": 735,
   "id": "cb345250-cf21-4439-bf22-071a67ff6af5",
   "metadata": {},
   "outputs": [],
   "source": [
    "# Drop Name column from train_data and test_data\n",
    "for dataset in [train_data, test_data]:\n",
    "    dataset.drop(columns='Name', inplace=True)"
   ]
  },
  {
   "cell_type": "markdown",
   "id": "258b892e-85a8-436c-9690-dfd3ee72b420",
   "metadata": {},
   "source": [
    "## IsMr"
   ]
  },
  {
   "cell_type": "markdown",
   "id": "1803bd10-78e8-454d-8642-a72415084697",
   "metadata": {},
   "source": [
    "IsMr denotes whether the passenger has a title of Mr. IsMr is 1 if title of passenger is Mr. Otherwise, it is 0."
   ]
  },
  {
   "cell_type": "code",
   "execution_count": 736,
   "id": "79b51a03-6f12-44e6-8b32-7a5d99198f1e",
   "metadata": {},
   "outputs": [],
   "source": [
    "# Create IsMr feature for train_data and test_data\n",
    "for dataset in [train_data, test_data]:\n",
    "    dataset['IsMr'] = 0\n",
    "    dataset.loc[dataset['Title'] == 4, 'IsMr'] = 1"
   ]
  },
  {
   "cell_type": "code",
   "execution_count": 737,
   "id": "3f18f2af-36b7-4d40-8c62-46807e6d5a2a",
   "metadata": {},
   "outputs": [
    {
     "name": "stdout",
     "output_type": "stream",
     "text": [
      "   IsMr  Survived\n",
      "0     0  0.697861\n",
      "1     1  0.156673\n"
     ]
    }
   ],
   "source": [
    "# Compute survival rate by IsMr in train_data\n",
    "print (train_data[['IsMr', 'Survived']].groupby(['IsMr'], as_index=False).mean())"
   ]
  },
  {
   "cell_type": "code",
   "execution_count": 738,
   "id": "294a4890-bd37-4955-80ba-6b11c965a842",
   "metadata": {},
   "outputs": [
    {
     "data": {
      "text/plain": [
       "<Axes: xlabel='IsMr', ylabel='Survived'>"
      ]
     },
     "execution_count": 738,
     "metadata": {},
     "output_type": "execute_result"
    },
    {
     "data": {
      "image/png": "[encoded data removed]",
      "text/plain": [
       "<Figure size 640x480 with 1 Axes>"
      ]
     },
     "metadata": {},
     "output_type": "display_data"
    }
   ],
   "source": [
    "# Create barplot of IsMr versus Survived in train_data\n",
    "sns.barplot(x='IsMr', y='Survived', data=train_data, errorbar=None)"
   ]
  },
  {
   "cell_type": "markdown",
   "id": "055b7476-c36f-4302-971f-6cdc29231603",
   "metadata": {},
   "source": [
    "## AgeGroup"
   ]
  },
  {
   "cell_type": "markdown",
   "id": "1400dbd3-c8f9-4320-b405-7f0e1039a6a2",
   "metadata": {},
   "source": [
    "The AgeGroup feature may hold some clues to the prediction of survival. For example, the elderly or senior citizens may have a far lower chance of survival compared to younger passengers."
   ]
  },
  {
   "cell_type": "code",
   "execution_count": 739,
   "id": "9f8b48c7-d06a-44f9-9799-b58e286c56c1",
   "metadata": {},
   "outputs": [
    {
     "name": "stdout",
     "output_type": "stream",
     "text": [
      "         AgeBand  Survived\n",
      "0  (-0.08, 16.0]  0.550000\n",
      "1   (16.0, 32.0]  0.344762\n",
      "2   (32.0, 48.0]  0.403226\n",
      "3   (48.0, 64.0]  0.434783\n",
      "4   (64.0, 80.0]  0.090909\n"
     ]
    }
   ],
   "source": [
    "# Convert data type of Age to integer in both train_data and test_data\n",
    "for dataset in [train_data, test_data]:\n",
    "    dataset['Age'] = dataset['Age'].astype(int)\n",
    "\n",
    "# Set the number of bands (bins)\n",
    "num_age_bands = 5\n",
    "\n",
    "# Create AgeBand using pd.cut()\n",
    "train_data['AgeBand'] = pd.cut(train_data['Age'], bins=num_age_bands)\n",
    "\n",
    "# Compute survival rate by AgeBand\n",
    "print(train_data[['AgeBand', 'Survived']].groupby(['AgeBand'], as_index=False).mean())"
   ]
  },
  {
   "cell_type": "markdown",
   "id": "2bd0dc7e-dc5e-4260-b552-dcafeea87229",
   "metadata": {},
   "source": [
    "Passengers whose age falls within (64.0, 80.0] have a far lower chance of survival compared to younger passengers."
   ]
  },
  {
   "cell_type": "code",
   "execution_count": 740,
   "id": "6022479a-d374-4f89-b48a-86d9323df843",
   "metadata": {},
   "outputs": [
    {
     "data": {
      "text/plain": [
       "<Axes: xlabel='AgeBand', ylabel='Survived'>"
      ]
     },
     "execution_count": 740,
     "metadata": {},
     "output_type": "execute_result"
    },
    {
     "data": {
      "image/png": "[encoded data removed]",
      "text/plain": [
       "<Figure size 640x480 with 1 Axes>"
      ]
     },
     "metadata": {},
     "output_type": "display_data"
    }
   ],
   "source": [
    "# Create barplot of AgeBand versus Survived in train_data\n",
    "sns.barplot(x='AgeBand', y='Survived', data=train_data, errorbar=None)"
   ]
  },
  {
   "cell_type": "code",
   "execution_count": 741,
   "id": "0312849a-b7d7-4056-a7ef-fd1f32e5ee19",
   "metadata": {},
   "outputs": [],
   "source": [
    "# Map Age to AgeGroup in both train_data and test_data\n",
    "for dataset in [train_data, test_data]:\n",
    "    dataset['AgeGroup'] = pd.Series()\n",
    "    dataset.loc[dataset['Age'] <= 16, 'AgeGroup'] = 0\n",
    "    dataset.loc[(dataset['Age'] > 16) & (dataset['Age'] <= 32), 'AgeGroup'] = 1\n",
    "    dataset.loc[(dataset['Age'] > 32) & (dataset['Age'] <= 48), 'AgeGroup'] = 2\n",
    "    dataset.loc[(dataset['Age'] > 48) & (dataset['Age'] <= 64), 'AgeGroup'] = 3\n",
    "    dataset.loc[ dataset['Age'] > 64, 'AgeGroup'] = 4"
   ]
  },
  {
   "cell_type": "code",
   "execution_count": 742,
   "id": "bc0330ea-171f-4a35-a1f8-f06db12e2c68",
   "metadata": {},
   "outputs": [],
   "source": [
    "# Drop AgeBand column from train_data\n",
    "train_data.drop(columns='AgeBand', inplace=True)"
   ]
  },
  {
   "cell_type": "markdown",
   "id": "b8eaf841-349c-4672-981b-0d22813d2f89",
   "metadata": {},
   "source": [
    "## IsElderly"
   ]
  },
  {
   "cell_type": "markdown",
   "id": "4aa82ab0-cef5-4e36-beba-577241600066",
   "metadata": {},
   "source": [
    "IsElderly denotes whether the passenger is an elderly (i.e., 65 years old or older). IsElderly is 1 if age of passenger is at least 65 and 0 if age of passenger is below 65."
   ]
  },
  {
   "cell_type": "code",
   "execution_count": 743,
   "id": "6b38c361-d0e8-4549-bccd-9e6bc355f902",
   "metadata": {},
   "outputs": [],
   "source": [
    "# Create IsElderly feature for train_data and test_data\n",
    "for dataset in [train_data, test_data]:\n",
    "    dataset['IsElderly'] = 0\n",
    "    dataset.loc[dataset['Age'] >= 65, 'IsElderly'] = 1"
   ]
  },
  {
   "cell_type": "code",
   "execution_count": 744,
   "id": "1a4d63d4-9b29-4cd5-9bf4-1b4045441296",
   "metadata": {},
   "outputs": [
    {
     "name": "stdout",
     "output_type": "stream",
     "text": [
      "   IsElderly  Survived\n",
      "0          0  0.387500\n",
      "1          1  0.090909\n"
     ]
    }
   ],
   "source": [
    "# Compute survival rate by IsElderly in train_data\n",
    "print (train_data[['IsElderly', 'Survived']].groupby(['IsElderly'], as_index=False).mean())"
   ]
  },
  {
   "cell_type": "code",
   "execution_count": 745,
   "id": "c679ed68-4576-4c83-ac5d-815c75b9ea26",
   "metadata": {},
   "outputs": [
    {
     "data": {
      "text/plain": [
       "<Axes: xlabel='IsElderly', ylabel='Survived'>"
      ]
     },
     "execution_count": 745,
     "metadata": {},
     "output_type": "execute_result"
    },
    {
     "data": {
      "image/png": "[encoded data removed]",
      "text/plain": [
       "<Figure size 640x480 with 1 Axes>"
      ]
     },
     "metadata": {},
     "output_type": "display_data"
    }
   ],
   "source": [
    "# Create barplot of IsElderly versus Survived in train_data\n",
    "sns.barplot(x='IsElderly', y='Survived', data=train_data, errorbar=None)"
   ]
  },
  {
   "cell_type": "markdown",
   "id": "6397c889-708f-470b-993f-07f5276ff9b5",
   "metadata": {},
   "source": [
    "## FamilySize"
   ]
  },
  {
   "cell_type": "markdown",
   "id": "6f77ddd6-a0bf-4d81-858e-02d298d2e95d",
   "metadata": {},
   "source": [
    "FamilySize represents the number of people who belong to the same family and may hold clues to the prediction of survival. The number of includes the passenger, their siblings and spouse, and their parents and children. Passengers with a stronger support system may have a higher chance of survival."
   ]
  },
  {
   "cell_type": "code",
   "execution_count": 746,
   "id": "dc6a0349-3856-451d-95e2-e9a4b485c65e",
   "metadata": {},
   "outputs": [],
   "source": [
    "# Create FamilySize feature for both train_data and test_data\n",
    "for dataset in [train_data, test_data]:\n",
    "    dataset['FamilySize'] = dataset['SibSp'] + dataset['Parch'] + 1"
   ]
  },
  {
   "cell_type": "code",
   "execution_count": 747,
   "id": "e38600d1-b8fd-4222-9eb2-17746fb894a1",
   "metadata": {},
   "outputs": [
    {
     "name": "stdout",
     "output_type": "stream",
     "text": [
      "   FamilySize  Survived\n",
      "0           1  0.303538\n",
      "1           2  0.552795\n",
      "2           3  0.578431\n",
      "3           4  0.724138\n",
      "4           5  0.200000\n",
      "5           6  0.136364\n",
      "6           7  0.333333\n",
      "7           8  0.000000\n",
      "8          11  0.000000\n"
     ]
    }
   ],
   "source": [
    "# Compute survival rate by FamilySize in train_data\n",
    "print (train_data[['FamilySize', 'Survived']].groupby(['FamilySize'], as_index=False).mean())"
   ]
  },
  {
   "cell_type": "code",
   "execution_count": 748,
   "id": "3521ce70-515e-41b9-880e-7657b2797f16",
   "metadata": {},
   "outputs": [
    {
     "data": {
      "text/plain": [
       "<Axes: xlabel='FamilySize', ylabel='Survived'>"
      ]
     },
     "execution_count": 748,
     "metadata": {},
     "output_type": "execute_result"
    },
    {
     "data": {
      "image/png": "[encoded data removed]",
      "text/plain": [
       "<Figure size 640x480 with 1 Axes>"
      ]
     },
     "metadata": {},
     "output_type": "display_data"
    }
   ],
   "source": [
    "# Create barplot of FamilySize versus Survived in train_data\n",
    "sns.barplot(x='FamilySize', y='Survived', data=train_data, errorbar=None)"
   ]
  },
  {
   "cell_type": "markdown",
   "id": "d0cf1675-3b77-40bf-8eb3-5659ab66b707",
   "metadata": {},
   "source": [
    "Passengers with a family size of 2 to 4 have a higher chance of survival, while passengers who are alone or have a larger family size of 5 to 7 have a lower chance of survival."
   ]
  },
  {
   "cell_type": "markdown",
   "id": "349c5b70-5a42-4861-9e31-44e1b509aade",
   "metadata": {},
   "source": [
    "## IsAlone"
   ]
  },
  {
   "cell_type": "markdown",
   "id": "ed17ac17-3a33-464e-8c4f-bfc41e067ec3",
   "metadata": {},
   "source": [
    "IsAlone denotes whether the passenger is traveling alone or with family. IsAlone is 1 if passenger travels alone and 0 if passenger travels with family."
   ]
  },
  {
   "cell_type": "code",
   "execution_count": 749,
   "id": "3951673a-4686-4eb7-b396-b2977b81e7e6",
   "metadata": {},
   "outputs": [],
   "source": [
    "# Create IsAlone feature for train_data and test_data\n",
    "for dataset in [train_data, test_data]:\n",
    "    dataset['IsAlone'] = 0\n",
    "    dataset.loc[dataset['FamilySize'] == 1, 'IsAlone'] = 1"
   ]
  },
  {
   "cell_type": "code",
   "execution_count": 750,
   "id": "d505ae36-79a7-4c08-aec0-a1b63c67ab18",
   "metadata": {},
   "outputs": [
    {
     "name": "stdout",
     "output_type": "stream",
     "text": [
      "   IsAlone  Survived\n",
      "0        0  0.505650\n",
      "1        1  0.303538\n"
     ]
    }
   ],
   "source": [
    "# Compute survival rate by IsAlone in train_data\n",
    "print (train_data[['IsAlone', 'Survived']].groupby(['IsAlone'], as_index=False).mean())"
   ]
  },
  {
   "cell_type": "code",
   "execution_count": 751,
   "id": "f3484a59-5cb9-4c0f-9308-cfb5923e5c39",
   "metadata": {},
   "outputs": [
    {
     "data": {
      "text/plain": [
       "<Axes: xlabel='IsAlone', ylabel='Survived'>"
      ]
     },
     "execution_count": 751,
     "metadata": {},
     "output_type": "execute_result"
    },
    {
     "data": {
      "image/png": "[encoded data removed]",
      "text/plain": [
       "<Figure size 640x480 with 1 Axes>"
      ]
     },
     "metadata": {},
     "output_type": "display_data"
    }
   ],
   "source": [
    "# Create barplot of IsAlone versus Survived in train_data\n",
    "sns.barplot(x='IsAlone', y='Survived', data=train_data, errorbar=None)"
   ]
  },
  {
   "cell_type": "markdown",
   "id": "18a479df-320e-4263-9552-3da8cf166b64",
   "metadata": {},
   "source": [
    "## FareGroup"
   ]
  },
  {
   "cell_type": "code",
   "execution_count": 752,
   "id": "aa2a7579-2fe7-467f-9ab6-5610516119f9",
   "metadata": {},
   "outputs": [
    {
     "name": "stdout",
     "output_type": "stream",
     "text": [
      "          FareBand  Survived\n",
      "0   (-0.001, 7.91]  0.197309\n",
      "1   (7.91, 14.454]  0.303571\n",
      "2   (14.454, 31.0]  0.454955\n",
      "3  (31.0, 512.329]  0.581081\n"
     ]
    }
   ],
   "source": [
    "# Set the number of quantiles\n",
    "num_fare_quantiles = 4\n",
    "\n",
    "# Create FareBand using pd.cut()\n",
    "train_data['FareBand'] = pd.qcut(train_data['Fare'], q=num_fare_quantiles)\n",
    "\n",
    "# Compute survival rate by AgeBand\n",
    "print(train_data[['FareBand', 'Survived']].groupby(['FareBand'], as_index=False).mean())"
   ]
  },
  {
   "cell_type": "markdown",
   "id": "ecf105a3-78d7-4446-b78c-a92c5d4116fd",
   "metadata": {},
   "source": [
    "The chance of survival increases as the fare band increases."
   ]
  },
  {
   "cell_type": "code",
   "execution_count": 753,
   "id": "3a7e0eaf-c170-49e4-87f4-555fb68992c3",
   "metadata": {},
   "outputs": [
    {
     "data": {
      "text/plain": [
       "<Axes: xlabel='FareBand', ylabel='Survived'>"
      ]
     },
     "execution_count": 753,
     "metadata": {},
     "output_type": "execute_result"
    },
    {
     "data": {
      "image/png": "[encoded data removed]",
      "text/plain": [
       "<Figure size 640x480 with 1 Axes>"
      ]
     },
     "metadata": {},
     "output_type": "display_data"
    }
   ],
   "source": [
    "# Create barplot of FareBand versus Survived in train_data\n",
    "sns.barplot(x='FareBand', y='Survived', data=train_data, errorbar=None)"
   ]
  },
  {
   "cell_type": "code",
   "execution_count": 754,
   "id": "1cbb6dbb-c951-4e89-b937-d4324a13c576",
   "metadata": {},
   "outputs": [],
   "source": [
    "# Map Fare to FareGroup in both train_data and test_data\n",
    "for dataset in [train_data, test_data]:\n",
    "    dataset['FareGroup'] = pd.Series()\n",
    "    dataset.loc[dataset['Fare'] <= 7.91, 'FareGroup'] = 0\n",
    "    dataset.loc[(dataset['Fare'] > 7.91) & (dataset['Fare'] <= 14.454), 'FareGroup'] = 1\n",
    "    dataset.loc[(dataset['Fare'] > 14.454) & (dataset['Fare'] <= 31.0), 'FareGroup'] = 2\n",
    "    dataset.loc[ dataset['Fare'] > 31.0, 'FareGroup'] = 3"
   ]
  },
  {
   "cell_type": "code",
   "execution_count": 755,
   "id": "7b1b4e1b-0338-490f-bbd4-3deec2e048c0",
   "metadata": {},
   "outputs": [],
   "source": [
    "# Drop FareBand column from train_data\n",
    "train_data.drop(columns='FareBand', inplace=True)"
   ]
  },
  {
   "cell_type": "code",
   "execution_count": 756,
   "id": "0e74bdd6-a8f7-4d76-beb4-5f3d08ac429d",
   "metadata": {},
   "outputs": [
    {
     "data": {
      "text/html": [
       "<div>\n",
       "<style scoped>\n",
       "    .dataframe tbody tr th:only-of-type {\n",
       "        vertical-align: middle;\n",
       "    }\n",
       "\n",
       "    .dataframe tbody tr th {\n",
       "        vertical-align: top;\n",
       "    }\n",
       "\n",
       "    .dataframe thead th {\n",
       "        text-align: right;\n",
       "    }\n",
       "</style>\n",
       "<table border=\"1\" class=\"dataframe\">\n",
       "  <thead>\n",
       "    <tr style=\"text-align: right;\">\n",
       "      <th></th>\n",
       "      <th>PassengerId</th>\n",
       "      <th>Survived</th>\n",
       "      <th>Pclass</th>\n",
       "      <th>Sex</th>\n",
       "      <th>Age</th>\n",
       "      <th>SibSp</th>\n",
       "      <th>Parch</th>\n",
       "      <th>Ticket</th>\n",
       "      <th>Fare</th>\n",
       "      <th>Embarked</th>\n",
       "      <th>Title</th>\n",
       "      <th>IsMr</th>\n",
       "      <th>AgeGroup</th>\n",
       "      <th>IsElderly</th>\n",
       "      <th>FamilySize</th>\n",
       "      <th>IsAlone</th>\n",
       "      <th>FareGroup</th>\n",
       "    </tr>\n",
       "  </thead>\n",
       "  <tbody>\n",
       "    <tr>\n",
       "      <th>0</th>\n",
       "      <td>1</td>\n",
       "      <td>0</td>\n",
       "      <td>3</td>\n",
       "      <td>0</td>\n",
       "      <td>22</td>\n",
       "      <td>1</td>\n",
       "      <td>0</td>\n",
       "      <td>A/5 21171</td>\n",
       "      <td>7.2500</td>\n",
       "      <td>0</td>\n",
       "      <td>4</td>\n",
       "      <td>1</td>\n",
       "      <td>1</td>\n",
       "      <td>0</td>\n",
       "      <td>2</td>\n",
       "      <td>0</td>\n",
       "      <td>0</td>\n",
       "    </tr>\n",
       "    <tr>\n",
       "      <th>1</th>\n",
       "      <td>2</td>\n",
       "      <td>1</td>\n",
       "      <td>1</td>\n",
       "      <td>1</td>\n",
       "      <td>38</td>\n",
       "      <td>1</td>\n",
       "      <td>0</td>\n",
       "      <td>PC 17599</td>\n",
       "      <td>71.2833</td>\n",
       "      <td>1</td>\n",
       "      <td>0</td>\n",
       "      <td>0</td>\n",
       "      <td>2</td>\n",
       "      <td>0</td>\n",
       "      <td>2</td>\n",
       "      <td>0</td>\n",
       "      <td>3</td>\n",
       "    </tr>\n",
       "    <tr>\n",
       "      <th>2</th>\n",
       "      <td>3</td>\n",
       "      <td>1</td>\n",
       "      <td>3</td>\n",
       "      <td>1</td>\n",
       "      <td>26</td>\n",
       "      <td>0</td>\n",
       "      <td>0</td>\n",
       "      <td>STON/O2. 3101282</td>\n",
       "      <td>7.9250</td>\n",
       "      <td>0</td>\n",
       "      <td>1</td>\n",
       "      <td>0</td>\n",
       "      <td>1</td>\n",
       "      <td>0</td>\n",
       "      <td>1</td>\n",
       "      <td>1</td>\n",
       "      <td>1</td>\n",
       "    </tr>\n",
       "    <tr>\n",
       "      <th>3</th>\n",
       "      <td>4</td>\n",
       "      <td>1</td>\n",
       "      <td>1</td>\n",
       "      <td>1</td>\n",
       "      <td>35</td>\n",
       "      <td>1</td>\n",
       "      <td>0</td>\n",
       "      <td>113803</td>\n",
       "      <td>53.1000</td>\n",
       "      <td>0</td>\n",
       "      <td>0</td>\n",
       "      <td>0</td>\n",
       "      <td>2</td>\n",
       "      <td>0</td>\n",
       "      <td>2</td>\n",
       "      <td>0</td>\n",
       "      <td>3</td>\n",
       "    </tr>\n",
       "    <tr>\n",
       "      <th>4</th>\n",
       "      <td>5</td>\n",
       "      <td>0</td>\n",
       "      <td>3</td>\n",
       "      <td>0</td>\n",
       "      <td>35</td>\n",
       "      <td>0</td>\n",
       "      <td>0</td>\n",
       "      <td>373450</td>\n",
       "      <td>8.0500</td>\n",
       "      <td>0</td>\n",
       "      <td>4</td>\n",
       "      <td>1</td>\n",
       "      <td>2</td>\n",
       "      <td>0</td>\n",
       "      <td>1</td>\n",
       "      <td>1</td>\n",
       "      <td>1</td>\n",
       "    </tr>\n",
       "  </tbody>\n",
       "</table>\n",
       "</div>"
      ],
      "text/plain": [
       "   PassengerId  Survived  Pclass  Sex  Age  SibSp  Parch            Ticket  \\\n",
       "0            1         0       3    0   22      1      0         A/5 21171   \n",
       "1            2         1       1    1   38      1      0          PC 17599   \n",
       "2            3         1       3    1   26      0      0  STON/O2. 3101282   \n",
       "3            4         1       1    1   35      1      0            113803   \n",
       "4            5         0       3    0   35      0      0            373450   \n",
       "\n",
       "      Fare  Embarked  Title  IsMr AgeGroup  IsElderly  FamilySize  IsAlone  \\\n",
       "0   7.2500         0      4     1        1          0           2        0   \n",
       "1  71.2833         1      0     0        2          0           2        0   \n",
       "2   7.9250         0      1     0        1          0           1        1   \n",
       "3  53.1000         0      0     0        2          0           2        0   \n",
       "4   8.0500         0      4     1        2          0           1        1   \n",
       "\n",
       "  FareGroup  \n",
       "0         0  \n",
       "1         3  \n",
       "2         1  \n",
       "3         3  \n",
       "4         1  "
      ]
     },
     "execution_count": 756,
     "metadata": {},
     "output_type": "execute_result"
    }
   ],
   "source": [
    "# Check first few rows of train_data\n",
    "train_data.head()"
   ]
  },
  {
   "cell_type": "code",
   "execution_count": 757,
   "id": "0eba9d17-10eb-4f15-aea0-a2c117b88a2f",
   "metadata": {},
   "outputs": [
    {
     "data": {
      "text/html": [
       "<div>\n",
       "<style scoped>\n",
       "    .dataframe tbody tr th:only-of-type {\n",
       "        vertical-align: middle;\n",
       "    }\n",
       "\n",
       "    .dataframe tbody tr th {\n",
       "        vertical-align: top;\n",
       "    }\n",
       "\n",
       "    .dataframe thead th {\n",
       "        text-align: right;\n",
       "    }\n",
       "</style>\n",
       "<table border=\"1\" class=\"dataframe\">\n",
       "  <thead>\n",
       "    <tr style=\"text-align: right;\">\n",
       "      <th></th>\n",
       "      <th>PassengerId</th>\n",
       "      <th>Pclass</th>\n",
       "      <th>Sex</th>\n",
       "      <th>Age</th>\n",
       "      <th>SibSp</th>\n",
       "      <th>Parch</th>\n",
       "      <th>Ticket</th>\n",
       "      <th>Fare</th>\n",
       "      <th>Embarked</th>\n",
       "      <th>Title</th>\n",
       "      <th>IsMr</th>\n",
       "      <th>AgeGroup</th>\n",
       "      <th>IsElderly</th>\n",
       "      <th>FamilySize</th>\n",
       "      <th>IsAlone</th>\n",
       "      <th>FareGroup</th>\n",
       "    </tr>\n",
       "  </thead>\n",
       "  <tbody>\n",
       "    <tr>\n",
       "      <th>0</th>\n",
       "      <td>892</td>\n",
       "      <td>3</td>\n",
       "      <td>0</td>\n",
       "      <td>34</td>\n",
       "      <td>0</td>\n",
       "      <td>0</td>\n",
       "      <td>330911</td>\n",
       "      <td>7.8292</td>\n",
       "      <td>2</td>\n",
       "      <td>4</td>\n",
       "      <td>1</td>\n",
       "      <td>2</td>\n",
       "      <td>0</td>\n",
       "      <td>1</td>\n",
       "      <td>1</td>\n",
       "      <td>0</td>\n",
       "    </tr>\n",
       "    <tr>\n",
       "      <th>1</th>\n",
       "      <td>893</td>\n",
       "      <td>3</td>\n",
       "      <td>1</td>\n",
       "      <td>47</td>\n",
       "      <td>1</td>\n",
       "      <td>0</td>\n",
       "      <td>363272</td>\n",
       "      <td>7.0000</td>\n",
       "      <td>0</td>\n",
       "      <td>0</td>\n",
       "      <td>0</td>\n",
       "      <td>2</td>\n",
       "      <td>0</td>\n",
       "      <td>2</td>\n",
       "      <td>0</td>\n",
       "      <td>0</td>\n",
       "    </tr>\n",
       "    <tr>\n",
       "      <th>2</th>\n",
       "      <td>894</td>\n",
       "      <td>2</td>\n",
       "      <td>0</td>\n",
       "      <td>62</td>\n",
       "      <td>0</td>\n",
       "      <td>0</td>\n",
       "      <td>240276</td>\n",
       "      <td>9.6875</td>\n",
       "      <td>2</td>\n",
       "      <td>4</td>\n",
       "      <td>1</td>\n",
       "      <td>3</td>\n",
       "      <td>0</td>\n",
       "      <td>1</td>\n",
       "      <td>1</td>\n",
       "      <td>1</td>\n",
       "    </tr>\n",
       "    <tr>\n",
       "      <th>3</th>\n",
       "      <td>895</td>\n",
       "      <td>3</td>\n",
       "      <td>0</td>\n",
       "      <td>27</td>\n",
       "      <td>0</td>\n",
       "      <td>0</td>\n",
       "      <td>315154</td>\n",
       "      <td>8.6625</td>\n",
       "      <td>0</td>\n",
       "      <td>4</td>\n",
       "      <td>1</td>\n",
       "      <td>1</td>\n",
       "      <td>0</td>\n",
       "      <td>1</td>\n",
       "      <td>1</td>\n",
       "      <td>1</td>\n",
       "    </tr>\n",
       "    <tr>\n",
       "      <th>4</th>\n",
       "      <td>896</td>\n",
       "      <td>3</td>\n",
       "      <td>1</td>\n",
       "      <td>22</td>\n",
       "      <td>1</td>\n",
       "      <td>1</td>\n",
       "      <td>3101298</td>\n",
       "      <td>12.2875</td>\n",
       "      <td>0</td>\n",
       "      <td>0</td>\n",
       "      <td>0</td>\n",
       "      <td>1</td>\n",
       "      <td>0</td>\n",
       "      <td>3</td>\n",
       "      <td>0</td>\n",
       "      <td>1</td>\n",
       "    </tr>\n",
       "  </tbody>\n",
       "</table>\n",
       "</div>"
      ],
      "text/plain": [
       "   PassengerId  Pclass  Sex  Age  SibSp  Parch   Ticket     Fare  Embarked  \\\n",
       "0          892       3    0   34      0      0   330911   7.8292         2   \n",
       "1          893       3    1   47      1      0   363272   7.0000         0   \n",
       "2          894       2    0   62      0      0   240276   9.6875         2   \n",
       "3          895       3    0   27      0      0   315154   8.6625         0   \n",
       "4          896       3    1   22      1      1  3101298  12.2875         0   \n",
       "\n",
       "   Title  IsMr AgeGroup  IsElderly  FamilySize  IsAlone FareGroup  \n",
       "0      4     1        2          0           1        1         0  \n",
       "1      0     0        2          0           2        0         0  \n",
       "2      4     1        3          0           1        1         1  \n",
       "3      4     1        1          0           1        1         1  \n",
       "4      0     0        1          0           3        0         1  "
      ]
     },
     "execution_count": 757,
     "metadata": {},
     "output_type": "execute_result"
    }
   ],
   "source": [
    "# Check first few rows of test_data\n",
    "test_data.head()"
   ]
  },
  {
   "cell_type": "markdown",
   "id": "11365982-a2d1-4b2c-9375-5a0e02084899",
   "metadata": {},
   "source": [
    "PassengerId, which is unique to each passenger and is just an identifier, does not contribute to the prediction of each passenger's survival. Consequently, it has to be dropped from both train_data and test_data.\n",
    "\n",
    "Ticket, which represents the ticket number, has 681 unique values in train_data, which has 891 rows in total. It may hold some clues, but similar to Cabin, it can be dropped from train_data and test_data. Whatever relevant information may be in this column is expected to be better provided by Pclass and Fare. Pclass represents the ticket class.\n",
    "\n",
    "Survived is the target variable so it has to be dropped from train_data. \n",
    "\n",
    "Age can be dropped from train_data and test_data because it is different in scale from the rest of the features and AgeGroup was already created.\n",
    "\n",
    "Fare can be dropped from train_data and test_data because it is different in scale from the rest of the features and FareGroup was already created."
   ]
  },
  {
   "cell_type": "code",
   "execution_count": 758,
   "id": "dfeee717-46df-4830-b1cb-4dfcaaf8d973",
   "metadata": {},
   "outputs": [],
   "source": [
    "# Define X_train, X_test, and y_train\n",
    "X_train = train_data.drop(columns=['PassengerId', 'Survived', 'Age', 'Ticket', 'Fare'], inplace=False)\n",
    "X_test = test_data.drop(columns=['PassengerId', 'Age', 'Ticket', 'Fare'], inplace=False)\n",
    "y_train = train_data['Survived']"
   ]
  },
  {
   "cell_type": "code",
   "execution_count": 759,
   "id": "482e42cb-436d-40b2-ab65-da80c5fc1c68",
   "metadata": {},
   "outputs": [
    {
     "name": "stdout",
     "output_type": "stream",
     "text": [
      "Shape of X_train:  (891, 12)\n",
      "Shape of y_train:  (891,)\n",
      "Shape of X_test:  (418, 12)\n"
     ]
    }
   ],
   "source": [
    "# Check shape of X_train, X_test, and y_train\n",
    "print(\"Shape of X_train: \", X_train.shape)\n",
    "print(\"Shape of y_train: \", y_train.shape)\n",
    "print(\"Shape of X_test: \", X_test.shape)"
   ]
  },
  {
   "cell_type": "code",
   "execution_count": 760,
   "id": "e424919c-3857-4009-b595-0b0a2f67c1a2",
   "metadata": {},
   "outputs": [
    {
     "data": {
      "text/plain": [
       "Index(['Pclass', 'Sex', 'SibSp', 'Parch', 'Embarked', 'Title', 'IsMr',\n",
       "       'AgeGroup', 'IsElderly', 'FamilySize', 'IsAlone', 'FareGroup'],\n",
       "      dtype='object')"
      ]
     },
     "execution_count": 760,
     "metadata": {},
     "output_type": "execute_result"
    }
   ],
   "source": [
    "# Check remaining features in X_train\n",
    "X_train.columns"
   ]
  },
  {
   "cell_type": "code",
   "execution_count": 761,
   "id": "81f7f558-6190-45c0-9bf0-9749719132d7",
   "metadata": {},
   "outputs": [
    {
     "data": {
      "text/plain": [
       "Index(['Pclass', 'Sex', 'SibSp', 'Parch', 'Embarked', 'Title', 'IsMr',\n",
       "       'AgeGroup', 'IsElderly', 'FamilySize', 'IsAlone', 'FareGroup'],\n",
       "      dtype='object')"
      ]
     },
     "execution_count": 761,
     "metadata": {},
     "output_type": "execute_result"
    }
   ],
   "source": [
    "# Check remaining features in X_test\n",
    "X_test.columns"
   ]
  },
  {
   "cell_type": "markdown",
   "id": "a7f22ee4-6bda-4586-9f38-94619f8b994d",
   "metadata": {},
   "source": [
    "# Exploratory Data Analysis"
   ]
  },
  {
   "cell_type": "markdown",
   "id": "69793404-c993-49ab-81eb-956ee6c24387",
   "metadata": {},
   "source": [
    "## Relationships Among Features"
   ]
  },
  {
   "cell_type": "code",
   "execution_count": 762,
   "id": "3e39fcbe-013f-4db4-b6c4-480b4e9d1cfc",
   "metadata": {},
   "outputs": [
    {
     "data": {
      "text/html": [
       "<div>\n",
       "<style scoped>\n",
       "    .dataframe tbody tr th:only-of-type {\n",
       "        vertical-align: middle;\n",
       "    }\n",
       "\n",
       "    .dataframe tbody tr th {\n",
       "        vertical-align: top;\n",
       "    }\n",
       "\n",
       "    .dataframe thead th {\n",
       "        text-align: right;\n",
       "    }\n",
       "</style>\n",
       "<table border=\"1\" class=\"dataframe\">\n",
       "  <thead>\n",
       "    <tr style=\"text-align: right;\">\n",
       "      <th></th>\n",
       "      <th>Pclass</th>\n",
       "      <th>Sex</th>\n",
       "      <th>SibSp</th>\n",
       "      <th>Parch</th>\n",
       "      <th>Embarked</th>\n",
       "      <th>Title</th>\n",
       "      <th>IsMr</th>\n",
       "      <th>AgeGroup</th>\n",
       "      <th>IsElderly</th>\n",
       "      <th>FamilySize</th>\n",
       "      <th>IsAlone</th>\n",
       "      <th>FareGroup</th>\n",
       "    </tr>\n",
       "  </thead>\n",
       "  <tbody>\n",
       "    <tr>\n",
       "      <th>Pclass</th>\n",
       "      <td>1.000000</td>\n",
       "      <td>-0.131900</td>\n",
       "      <td>0.083081</td>\n",
       "      <td>0.018443</td>\n",
       "      <td>0.045702</td>\n",
       "      <td>0.137035</td>\n",
       "      <td>0.142698</td>\n",
       "      <td>-0.358005</td>\n",
       "      <td>-0.077787</td>\n",
       "      <td>0.065997</td>\n",
       "      <td>0.135207</td>\n",
       "      <td>-0.628459</td>\n",
       "    </tr>\n",
       "    <tr>\n",
       "      <th>Sex</th>\n",
       "      <td>-0.131900</td>\n",
       "      <td>1.000000</td>\n",
       "      <td>0.114631</td>\n",
       "      <td>0.245489</td>\n",
       "      <td>0.116569</td>\n",
       "      <td>-0.944195</td>\n",
       "      <td>-0.867334</td>\n",
       "      <td>-0.071125</td>\n",
       "      <td>-0.082477</td>\n",
       "      <td>0.200988</td>\n",
       "      <td>-0.303646</td>\n",
       "      <td>0.248940</td>\n",
       "    </tr>\n",
       "    <tr>\n",
       "      <th>SibSp</th>\n",
       "      <td>0.083081</td>\n",
       "      <td>0.114631</td>\n",
       "      <td>1.000000</td>\n",
       "      <td>0.414838</td>\n",
       "      <td>-0.059961</td>\n",
       "      <td>-0.202135</td>\n",
       "      <td>-0.250489</td>\n",
       "      <td>-0.218846</td>\n",
       "      <td>-0.043834</td>\n",
       "      <td>0.890712</td>\n",
       "      <td>-0.584471</td>\n",
       "      <td>0.394248</td>\n",
       "    </tr>\n",
       "    <tr>\n",
       "      <th>Parch</th>\n",
       "      <td>0.018443</td>\n",
       "      <td>0.245489</td>\n",
       "      <td>0.414838</td>\n",
       "      <td>1.000000</td>\n",
       "      <td>-0.078665</td>\n",
       "      <td>-0.330014</td>\n",
       "      <td>-0.333905</td>\n",
       "      <td>-0.134014</td>\n",
       "      <td>-0.027725</td>\n",
       "      <td>0.783111</td>\n",
       "      <td>-0.583398</td>\n",
       "      <td>0.393048</td>\n",
       "    </tr>\n",
       "    <tr>\n",
       "      <th>Embarked</th>\n",
       "      <td>0.045702</td>\n",
       "      <td>0.116569</td>\n",
       "      <td>-0.059961</td>\n",
       "      <td>-0.078665</td>\n",
       "      <td>1.000000</td>\n",
       "      <td>-0.093645</td>\n",
       "      <td>-0.113971</td>\n",
       "      <td>-0.051975</td>\n",
       "      <td>0.048390</td>\n",
       "      <td>-0.080281</td>\n",
       "      <td>0.017807</td>\n",
       "      <td>-0.091096</td>\n",
       "    </tr>\n",
       "    <tr>\n",
       "      <th>Title</th>\n",
       "      <td>0.137035</td>\n",
       "      <td>-0.944195</td>\n",
       "      <td>-0.202135</td>\n",
       "      <td>-0.330014</td>\n",
       "      <td>-0.093645</td>\n",
       "      <td>1.000000</td>\n",
       "      <td>0.944440</td>\n",
       "      <td>0.097245</td>\n",
       "      <td>0.083549</td>\n",
       "      <td>-0.303022</td>\n",
       "      <td>0.411560</td>\n",
       "      <td>-0.316181</td>\n",
       "    </tr>\n",
       "    <tr>\n",
       "      <th>IsMr</th>\n",
       "      <td>0.142698</td>\n",
       "      <td>-0.867334</td>\n",
       "      <td>-0.250489</td>\n",
       "      <td>-0.333905</td>\n",
       "      <td>-0.113971</td>\n",
       "      <td>0.944440</td>\n",
       "      <td>1.000000</td>\n",
       "      <td>0.145364</td>\n",
       "      <td>0.074497</td>\n",
       "      <td>-0.338014</td>\n",
       "      <td>0.396920</td>\n",
       "      <td>-0.323790</td>\n",
       "    </tr>\n",
       "    <tr>\n",
       "      <th>AgeGroup</th>\n",
       "      <td>-0.358005</td>\n",
       "      <td>-0.071125</td>\n",
       "      <td>-0.218846</td>\n",
       "      <td>-0.134014</td>\n",
       "      <td>-0.051975</td>\n",
       "      <td>0.097245</td>\n",
       "      <td>0.145364</td>\n",
       "      <td>1.000000</td>\n",
       "      <td>0.373544</td>\n",
       "      <td>-0.216525</td>\n",
       "      <td>0.124650</td>\n",
       "      <td>0.096773</td>\n",
       "    </tr>\n",
       "    <tr>\n",
       "      <th>IsElderly</th>\n",
       "      <td>-0.077787</td>\n",
       "      <td>-0.082477</td>\n",
       "      <td>-0.043834</td>\n",
       "      <td>-0.027725</td>\n",
       "      <td>0.048390</td>\n",
       "      <td>0.083549</td>\n",
       "      <td>0.074497</td>\n",
       "      <td>0.373544</td>\n",
       "      <td>1.000000</td>\n",
       "      <td>-0.043810</td>\n",
       "      <td>0.049234</td>\n",
       "      <td>0.013137</td>\n",
       "    </tr>\n",
       "    <tr>\n",
       "      <th>FamilySize</th>\n",
       "      <td>0.065997</td>\n",
       "      <td>0.200988</td>\n",
       "      <td>0.890712</td>\n",
       "      <td>0.783111</td>\n",
       "      <td>-0.080281</td>\n",
       "      <td>-0.303022</td>\n",
       "      <td>-0.338014</td>\n",
       "      <td>-0.216525</td>\n",
       "      <td>-0.043810</td>\n",
       "      <td>1.000000</td>\n",
       "      <td>-0.690922</td>\n",
       "      <td>0.465815</td>\n",
       "    </tr>\n",
       "    <tr>\n",
       "      <th>IsAlone</th>\n",
       "      <td>0.135207</td>\n",
       "      <td>-0.303646</td>\n",
       "      <td>-0.584471</td>\n",
       "      <td>-0.583398</td>\n",
       "      <td>0.017807</td>\n",
       "      <td>0.411560</td>\n",
       "      <td>0.396920</td>\n",
       "      <td>0.124650</td>\n",
       "      <td>0.049234</td>\n",
       "      <td>-0.690922</td>\n",
       "      <td>1.000000</td>\n",
       "      <td>-0.568942</td>\n",
       "    </tr>\n",
       "    <tr>\n",
       "      <th>FareGroup</th>\n",
       "      <td>-0.628459</td>\n",
       "      <td>0.248940</td>\n",
       "      <td>0.394248</td>\n",
       "      <td>0.393048</td>\n",
       "      <td>-0.091096</td>\n",
       "      <td>-0.316181</td>\n",
       "      <td>-0.323790</td>\n",
       "      <td>0.096773</td>\n",
       "      <td>0.013137</td>\n",
       "      <td>0.465815</td>\n",
       "      <td>-0.568942</td>\n",
       "      <td>1.000000</td>\n",
       "    </tr>\n",
       "  </tbody>\n",
       "</table>\n",
       "</div>"
      ],
      "text/plain": [
       "              Pclass       Sex     SibSp     Parch  Embarked     Title  \\\n",
       "Pclass      1.000000 -0.131900  0.083081  0.018443  0.045702  0.137035   \n",
       "Sex        -0.131900  1.000000  0.114631  0.245489  0.116569 -0.944195   \n",
       "SibSp       0.083081  0.114631  1.000000  0.414838 -0.059961 -0.202135   \n",
       "Parch       0.018443  0.245489  0.414838  1.000000 -0.078665 -0.330014   \n",
       "Embarked    0.045702  0.116569 -0.059961 -0.078665  1.000000 -0.093645   \n",
       "Title       0.137035 -0.944195 -0.202135 -0.330014 -0.093645  1.000000   \n",
       "IsMr        0.142698 -0.867334 -0.250489 -0.333905 -0.113971  0.944440   \n",
       "AgeGroup   -0.358005 -0.071125 -0.218846 -0.134014 -0.051975  0.097245   \n",
       "IsElderly  -0.077787 -0.082477 -0.043834 -0.027725  0.048390  0.083549   \n",
       "FamilySize  0.065997  0.200988  0.890712  0.783111 -0.080281 -0.303022   \n",
       "IsAlone     0.135207 -0.303646 -0.584471 -0.583398  0.017807  0.411560   \n",
       "FareGroup  -0.628459  0.248940  0.394248  0.393048 -0.091096 -0.316181   \n",
       "\n",
       "                IsMr  AgeGroup  IsElderly  FamilySize   IsAlone  FareGroup  \n",
       "Pclass      0.142698 -0.358005  -0.077787    0.065997  0.135207  -0.628459  \n",
       "Sex        -0.867334 -0.071125  -0.082477    0.200988 -0.303646   0.248940  \n",
       "SibSp      -0.250489 -0.218846  -0.043834    0.890712 -0.584471   0.394248  \n",
       "Parch      -0.333905 -0.134014  -0.027725    0.783111 -0.583398   0.393048  \n",
       "Embarked   -0.113971 -0.051975   0.048390   -0.080281  0.017807  -0.091096  \n",
       "Title       0.944440  0.097245   0.083549   -0.303022  0.411560  -0.316181  \n",
       "IsMr        1.000000  0.145364   0.074497   -0.338014  0.396920  -0.323790  \n",
       "AgeGroup    0.145364  1.000000   0.373544   -0.216525  0.124650   0.096773  \n",
       "IsElderly   0.074497  0.373544   1.000000   -0.043810  0.049234   0.013137  \n",
       "FamilySize -0.338014 -0.216525  -0.043810    1.000000 -0.690922   0.465815  \n",
       "IsAlone     0.396920  0.124650   0.049234   -0.690922  1.000000  -0.568942  \n",
       "FareGroup  -0.323790  0.096773   0.013137    0.465815 -0.568942   1.000000  "
      ]
     },
     "execution_count": 762,
     "metadata": {},
     "output_type": "execute_result"
    }
   ],
   "source": [
    "# Create a correlation matrix of train_features\n",
    "correlation_matrix_features = X_train.corr()\n",
    "correlation_matrix_features"
   ]
  },
  {
   "cell_type": "code",
   "execution_count": 763,
   "id": "ec9b0495-90d9-4ccb-b22c-ef8d4dcabf13",
   "metadata": {},
   "outputs": [
    {
     "data": {
      "text/plain": [
       "<Axes: >"
      ]
     },
     "execution_count": 763,
     "metadata": {},
     "output_type": "execute_result"
    },
    {
     "data": {
      "image/png": "[encoded data removed]",
      "text/plain": [
       "<Figure size 1000x1000 with 2 Axes>"
      ]
     },
     "metadata": {},
     "output_type": "display_data"
    }
   ],
   "source": [
    "# Create a heatmap of the correlation matrix\n",
    "plt.figure(figsize=(10, 10))\n",
    "sns.heatmap(correlation_matrix_features, annot=True, cmap='coolwarm', fmt='.2f', linewidths=0.5)"
   ]
  },
  {
   "cell_type": "code",
   "execution_count": 764,
   "id": "20544b69-7b6a-4cc8-b49a-21f003bafb3c",
   "metadata": {},
   "outputs": [
    {
     "name": "stdout",
     "output_type": "stream",
     "text": [
      "    Feature 1   Feature 2  Correlation Value      Correlation Level\n",
      "0      Pclass   FareGroup          -0.628459  Moderately correlated\n",
      "1         Sex       Title          -0.944195      Highly correlated\n",
      "2         Sex        IsMr          -0.867334      Highly correlated\n",
      "3       SibSp  FamilySize           0.890712      Highly correlated\n",
      "4       SibSp     IsAlone          -0.584471  Moderately correlated\n",
      "5       Parch  FamilySize           0.783111      Highly correlated\n",
      "6       Parch     IsAlone          -0.583398  Moderately correlated\n",
      "7       Title        IsMr           0.944440      Highly correlated\n",
      "8  FamilySize     IsAlone          -0.690922  Moderately correlated\n",
      "9     IsAlone   FareGroup          -0.568942  Moderately correlated\n"
     ]
    }
   ],
   "source": [
    "# Set correlation thresholds\n",
    "highly_correlated_threshold = 0.7\n",
    "moderately_correlated_threshold = 0.5\n",
    "\n",
    "# List to store correlated pairs, correlation values, and correlation levels\n",
    "correlated_pairs = []\n",
    "\n",
    "# Define function to determine correlation level\n",
    "def get_correlation_level(correlation_value):\n",
    "    if abs(correlation_value) >= highly_correlated_threshold:\n",
    "        return 'Highly correlated'\n",
    "    elif abs(correlation_value) >= moderately_correlated_threshold:\n",
    "        return 'Moderately correlated'\n",
    "    else:\n",
    "        return None\n",
    "\n",
    "# Iterate through pairs of features and accumulate moderately and highly correlated pairs\n",
    "for i in range(len(correlation_matrix_features.columns)):\n",
    "    for j in range(i + 1, len(correlation_matrix_features.columns)):\n",
    "        feature1, feature2 = correlation_matrix_features.columns[i], correlation_matrix_features.columns[j]\n",
    "        correlation_value = correlation_matrix_features.loc[feature1, feature2]\n",
    "        correlation_level = get_correlation_level(correlation_value)\n",
    "        \n",
    "        if correlation_level is not None:\n",
    "            correlated_pairs.append({'Feature 1': feature1,\n",
    "                                     'Feature 2': feature2,\n",
    "                                     'Correlation Value': correlation_value,\n",
    "                                     'Correlation Level': correlation_level})\n",
    "\n",
    "# Convert the list of dictionaries into a DataFrame\n",
    "correlated_pairs_df = pd.DataFrame(correlated_pairs)\n",
    "\n",
    "print(correlated_pairs_df)"
   ]
  },
  {
   "cell_type": "markdown",
   "id": "edd18645-800b-4f02-b610-927b7f245de3",
   "metadata": {},
   "source": [
    "## Relationships Between Target Variable and Each Feature"
   ]
  },
  {
   "cell_type": "code",
   "execution_count": 765,
   "id": "42a0324a-c86b-4c11-8312-879b3ee3128f",
   "metadata": {},
   "outputs": [
    {
     "data": {
      "text/plain": [
       "Sex           0.543351\n",
       "FareGroup     0.295875\n",
       "Embarked      0.106811\n",
       "Parch         0.081629\n",
       "FamilySize    0.016639\n",
       "SibSp        -0.035322\n",
       "AgeGroup     -0.044492\n",
       "IsElderly    -0.067344\n",
       "IsAlone      -0.203367\n",
       "Pclass       -0.338481\n",
       "IsMr         -0.549199\n",
       "Title        -0.565716\n",
       "dtype: float64"
      ]
     },
     "execution_count": 765,
     "metadata": {},
     "output_type": "execute_result"
    }
   ],
   "source": [
    "# Create a matrix of correlation between target variable and each feature\n",
    "correlation_with_target = X_train.apply(lambda feature: feature.corr(y_train)).sort_values(ascending=False)\n",
    "correlation_with_target"
   ]
  },
  {
   "cell_type": "code",
   "execution_count": 766,
   "id": "2d6e7023-228c-4147-804e-02a90007ffa1",
   "metadata": {},
   "outputs": [
    {
     "name": "stdout",
     "output_type": "stream",
     "text": [
      "  Feature Target Variable  Correlation Value      Correlation Level\n",
      "0     Sex        Survived           0.543351  Moderately correlated\n",
      "1    IsMr        Survived          -0.549199  Moderately correlated\n",
      "2   Title        Survived          -0.565716  Moderately correlated\n"
     ]
    }
   ],
   "source": [
    "# List to store correlated pairs, correlation values, and correlation levels\n",
    "correlated_pairs_target = []\n",
    "\n",
    "# Iterate through features and calculate correlation with the target variable 'Survived'\n",
    "for feature in correlation_with_target.index:\n",
    "    correlation_value = correlation_with_target.loc[feature]\n",
    "    correlation_level = get_correlation_level(correlation_value)\n",
    "    \n",
    "    if correlation_level is not None:\n",
    "        correlated_pairs_target.append({'Feature': feature,\n",
    "                                        'Target Variable': 'Survived',\n",
    "                                        'Correlation Value': correlation_value,\n",
    "                                        'Correlation Level': correlation_level})\n",
    "\n",
    "# Convert the list of dictionaries into a DataFrame\n",
    "correlated_pairs_target_df = pd.DataFrame(correlated_pairs_target)\n",
    "\n",
    "print(correlated_pairs_target_df)"
   ]
  },
  {
   "cell_type": "code",
   "execution_count": 767,
   "id": "39776d7a-cd8b-4c92-a5be-ffcf3809b3d4",
   "metadata": {},
   "outputs": [
    {
     "data": {
      "image/png": "[encoded data removed]",
      "text/plain": [
       "<Figure size 640x480 with 1 Axes>"
      ]
     },
     "metadata": {},
     "output_type": "display_data"
    },
    {
     "data": {
      "image/png": "[encoded data removed]",
      "text/plain": [
       "<Figure size 640x480 with 1 Axes>"
      ]
     },
     "metadata": {},
     "output_type": "display_data"
    },
    {
     "data": {
      "image/png": "[encoded data removed]",
      "text/plain": [
       "<Figure size 640x480 with 1 Axes>"
      ]
     },
     "metadata": {},
     "output_type": "display_data"
    },
    {
     "data": {
      "image/png": "[encoded data removed]",
      "text/plain": [
       "<Figure size 640x480 with 1 Axes>"
      ]
     },
     "metadata": {},
     "output_type": "display_data"
    },
    {
     "data": {
      "image/png": "[encoded data removed]",
      "text/plain": [
       "<Figure size 640x480 with 1 Axes>"
      ]
     },
     "metadata": {},
     "output_type": "display_data"
    },
    {
     "data": {
      "image/png": "[encoded data removed]",
      "text/plain": [
       "<Figure size 640x480 with 1 Axes>"
      ]
     },
     "metadata": {},
     "output_type": "display_data"
    },
    {
     "data": {
      "image/png": "[encoded data removed]",
      "text/plain": [
       "<Figure size 640x480 with 1 Axes>"
      ]
     },
     "metadata": {},
     "output_type": "display_data"
    },
    {
     "data": {
      "image/png": "[encoded data removed]",
      "text/plain": [
       "<Figure size 640x480 with 1 Axes>"
      ]
     },
     "metadata": {},
     "output_type": "display_data"
    },
    {
     "data": {
      "image/png": "[encoded data removed]",
      "text/plain": [
       "<Figure size 640x480 with 1 Axes>"
      ]
     },
     "metadata": {},
     "output_type": "display_data"
    },
    {
     "data": {
      "image/png": "[encoded data removed]",
      "text/plain": [
       "<Figure size 640x480 with 1 Axes>"
      ]
     },
     "metadata": {},
     "output_type": "display_data"
    },
    {
     "data": {
      "image/png": "[encoded data removed]",
      "text/plain": [
       "<Figure size 640x480 with 1 Axes>"
      ]
     },
     "metadata": {},
     "output_type": "display_data"
    },
    {
     "data": {
      "image/png": "[encoded data removed]",
      "text/plain": [
       "<Figure size 640x480 with 1 Axes>"
      ]
     },
     "metadata": {},
     "output_type": "display_data"
    }
   ],
   "source": [
    "# Iterate over each feature in X_train\n",
    "for feature in X_train.columns:\n",
    "    # Create barplot for current feature versus Survived\n",
    "    sns.barplot(x=X_train[feature], y=y_train, errorbar=None)\n",
    "    plt.xlabel(feature)\n",
    "    plt.ylabel('Survived')\n",
    "    plt.title(f'{feature} versus Mean of Survived')\n",
    "    plt.show()"
   ]
  },
  {
   "cell_type": "markdown",
   "id": "85f48470-982f-4474-b8bf-c68cd98ba10b",
   "metadata": {},
   "source": [
    "# Model Development and Evaluation"
   ]
  },
  {
   "cell_type": "markdown",
   "id": "73aead19-7a10-4589-a547-be6657756b68",
   "metadata": {},
   "source": [
    "## Model 1 - Logistic Regression, 12 Features, No Cross-Validation, No Hyperparameter Tuning"
   ]
  },
  {
   "cell_type": "code",
   "execution_count": 768,
   "id": "e72b1796-6e8d-49f5-a675-630863678916",
   "metadata": {},
   "outputs": [
    {
     "name": "stdout",
     "output_type": "stream",
     "text": [
      "       Feature  Coefficient\n",
      "0       Pclass    -0.944040\n",
      "1        Title    -0.802429\n",
      "2         IsMr    -0.541504\n",
      "3     AgeGroup    -0.519382\n",
      "4      IsAlone    -0.364732\n",
      "5   FamilySize    -0.317381\n",
      "6        SibSp    -0.261600\n",
      "7     Embarked     0.240587\n",
      "8    FareGroup     0.208249\n",
      "9    IsElderly    -0.205648\n",
      "10         Sex    -0.194167\n",
      "11       Parch    -0.062707\n",
      "\n",
      "\n",
      "Training set accuracy: 0.8148148148148148\n"
     ]
    }
   ],
   "source": [
    "# Select features to be used\n",
    "features_model1 = ['Pclass', 'Sex', 'SibSp', 'Parch', 'Embarked', 'Title', 'IsMr',\n",
    "       'AgeGroup', 'IsElderly', 'FamilySize', 'IsAlone', 'FareGroup']\n",
    "\n",
    "# Define training and test sets\n",
    "X_train_model1 = X_train[features_model1]\n",
    "y_train_model1 = y_train\n",
    "X_test_model1 = X_test[features_model1]\n",
    "\n",
    "# Instantiate model\n",
    "model1 = LogisticRegression()\n",
    "\n",
    "# Train model\n",
    "model1.fit(X_train_model1, y_train_model1)\n",
    "\n",
    "# Get the coefficients of the model\n",
    "coefficients_model1 = model1.coef_[0]\n",
    "\n",
    "# Create a DataFrame to store feature names and corresponding coefficients\n",
    "coefficients_df_model1 = pd.DataFrame({'Feature': X_train_model1.columns, 'Coefficient': coefficients_model1})\n",
    "\n",
    "# Sort the coefficients to identify the most important features\n",
    "coefficients_df_model1 = coefficients_df_model1 = coefficients_df_model1.reindex(coefficients_df_model1['Coefficient'].abs().sort_values(ascending=False).index).reset_index(drop=True)\n",
    "\n",
    "# Print coefficients\n",
    "print(coefficients_df_model1)\n",
    "print(\"\\n\")\n",
    "\n",
    "# Compute training set accuracy of model\n",
    "train_accuracy_model1 = model1.score(X_train_model1, y_train_model1)\n",
    "\n",
    "# Print training set accuracy of model\n",
    "print (\"Training set accuracy:\", train_accuracy_model1)\n",
    "\n",
    "# Predict on the test set using the model\n",
    "y_pred_model1 = model1.predict(X_test_model1)"
   ]
  },
  {
   "cell_type": "code",
   "execution_count": 769,
   "id": "4b0db969-63fc-492a-8233-c51b7e3bcc45",
   "metadata": {},
   "outputs": [
    {
     "data": {
      "text/html": [
       "<div>\n",
       "<style scoped>\n",
       "    .dataframe tbody tr th:only-of-type {\n",
       "        vertical-align: middle;\n",
       "    }\n",
       "\n",
       "    .dataframe tbody tr th {\n",
       "        vertical-align: top;\n",
       "    }\n",
       "\n",
       "    .dataframe thead th {\n",
       "        text-align: right;\n",
       "    }\n",
       "</style>\n",
       "<table border=\"1\" class=\"dataframe\">\n",
       "  <thead>\n",
       "    <tr style=\"text-align: right;\">\n",
       "      <th></th>\n",
       "      <th>PassengerId</th>\n",
       "      <th>Survived</th>\n",
       "    </tr>\n",
       "  </thead>\n",
       "  <tbody>\n",
       "    <tr>\n",
       "      <th>0</th>\n",
       "      <td>892</td>\n",
       "      <td>0</td>\n",
       "    </tr>\n",
       "    <tr>\n",
       "      <th>1</th>\n",
       "      <td>893</td>\n",
       "      <td>1</td>\n",
       "    </tr>\n",
       "    <tr>\n",
       "      <th>2</th>\n",
       "      <td>894</td>\n",
       "      <td>0</td>\n",
       "    </tr>\n",
       "    <tr>\n",
       "      <th>3</th>\n",
       "      <td>895</td>\n",
       "      <td>0</td>\n",
       "    </tr>\n",
       "    <tr>\n",
       "      <th>4</th>\n",
       "      <td>896</td>\n",
       "      <td>1</td>\n",
       "    </tr>\n",
       "    <tr>\n",
       "      <th>...</th>\n",
       "      <td>...</td>\n",
       "      <td>...</td>\n",
       "    </tr>\n",
       "    <tr>\n",
       "      <th>413</th>\n",
       "      <td>1305</td>\n",
       "      <td>0</td>\n",
       "    </tr>\n",
       "    <tr>\n",
       "      <th>414</th>\n",
       "      <td>1306</td>\n",
       "      <td>1</td>\n",
       "    </tr>\n",
       "    <tr>\n",
       "      <th>415</th>\n",
       "      <td>1307</td>\n",
       "      <td>0</td>\n",
       "    </tr>\n",
       "    <tr>\n",
       "      <th>416</th>\n",
       "      <td>1308</td>\n",
       "      <td>0</td>\n",
       "    </tr>\n",
       "    <tr>\n",
       "      <th>417</th>\n",
       "      <td>1309</td>\n",
       "      <td>0</td>\n",
       "    </tr>\n",
       "  </tbody>\n",
       "</table>\n",
       "<p>418 rows × 2 columns</p>\n",
       "</div>"
      ],
      "text/plain": [
       "     PassengerId  Survived\n",
       "0            892         0\n",
       "1            893         1\n",
       "2            894         0\n",
       "3            895         0\n",
       "4            896         1\n",
       "..           ...       ...\n",
       "413         1305         0\n",
       "414         1306         1\n",
       "415         1307         0\n",
       "416         1308         0\n",
       "417         1309         0\n",
       "\n",
       "[418 rows x 2 columns]"
      ]
     },
     "execution_count": 769,
     "metadata": {},
     "output_type": "execute_result"
    }
   ],
   "source": [
    "# Create submission file\n",
    "output_model1 = pd.DataFrame({'PassengerId': test_data['PassengerId'], 'Survived': y_pred_model1})\n",
    "output_model1.to_csv('submission_model1.csv', index=False)\n",
    "\n",
    "# Check contents of submission file\n",
    "submission_model1 = pd.read_csv('submission_model1.csv')\n",
    "submission_model1"
   ]
  },
  {
   "cell_type": "markdown",
   "id": "087324ed-d829-419a-a18e-5df6327737e4",
   "metadata": {},
   "source": [
    "According to Kaggle, the test set accuracy of this model is 0.77990."
   ]
  },
  {
   "cell_type": "markdown",
   "id": "cdb006ac-6278-44ea-a457-93d2b3344425",
   "metadata": {},
   "source": [
    "## Model 2 - K-Nearest Neighbors Classifier, 12 Features, No Cross-Validation, No Hyperparameter Tuning"
   ]
  },
  {
   "cell_type": "code",
   "execution_count": 770,
   "id": "38338342-cefe-4793-bdda-4ffd1b9d7fe7",
   "metadata": {},
   "outputs": [
    {
     "name": "stdout",
     "output_type": "stream",
     "text": [
      "Training set accuracy: 0.8496071829405163\n"
     ]
    }
   ],
   "source": [
    "# Select features to be used\n",
    "features_model2 = ['Pclass', 'Sex', 'SibSp', 'Parch', 'Embarked', 'Title', 'IsMr',\n",
    "       'AgeGroup', 'IsElderly', 'FamilySize', 'IsAlone', 'FareGroup']\n",
    "\n",
    "# Define training and test sets\n",
    "X_train_model2 = X_train[features_model2]\n",
    "y_train_model2 = y_train\n",
    "X_test_model2 = X_test[features_model2]\n",
    "\n",
    "# Instantiate model\n",
    "model2 = KNeighborsClassifier()\n",
    "\n",
    "# Train model\n",
    "model2.fit(X_train_model2, y_train_model2)\n",
    "\n",
    "# Compute training set accuracy of model\n",
    "train_accuracy_model2 = model2.score(X_train_model2, y_train_model2)\n",
    "\n",
    "# Print training set accuracy of model\n",
    "print(\"Training set accuracy:\", train_accuracy_model2)\n",
    "\n",
    "# Predict on the test set using the model\n",
    "y_pred_model2 = model2.predict(X_test_model2)"
   ]
  },
  {
   "cell_type": "code",
   "execution_count": 771,
   "id": "0bf1c96a-9705-4f5b-aa83-fa84dfbd4722",
   "metadata": {},
   "outputs": [
    {
     "data": {
      "text/html": [
       "<div>\n",
       "<style scoped>\n",
       "    .dataframe tbody tr th:only-of-type {\n",
       "        vertical-align: middle;\n",
       "    }\n",
       "\n",
       "    .dataframe tbody tr th {\n",
       "        vertical-align: top;\n",
       "    }\n",
       "\n",
       "    .dataframe thead th {\n",
       "        text-align: right;\n",
       "    }\n",
       "</style>\n",
       "<table border=\"1\" class=\"dataframe\">\n",
       "  <thead>\n",
       "    <tr style=\"text-align: right;\">\n",
       "      <th></th>\n",
       "      <th>PassengerId</th>\n",
       "      <th>Survived</th>\n",
       "    </tr>\n",
       "  </thead>\n",
       "  <tbody>\n",
       "    <tr>\n",
       "      <th>0</th>\n",
       "      <td>892</td>\n",
       "      <td>0</td>\n",
       "    </tr>\n",
       "    <tr>\n",
       "      <th>1</th>\n",
       "      <td>893</td>\n",
       "      <td>0</td>\n",
       "    </tr>\n",
       "    <tr>\n",
       "      <th>2</th>\n",
       "      <td>894</td>\n",
       "      <td>0</td>\n",
       "    </tr>\n",
       "    <tr>\n",
       "      <th>3</th>\n",
       "      <td>895</td>\n",
       "      <td>0</td>\n",
       "    </tr>\n",
       "    <tr>\n",
       "      <th>4</th>\n",
       "      <td>896</td>\n",
       "      <td>0</td>\n",
       "    </tr>\n",
       "    <tr>\n",
       "      <th>...</th>\n",
       "      <td>...</td>\n",
       "      <td>...</td>\n",
       "    </tr>\n",
       "    <tr>\n",
       "      <th>413</th>\n",
       "      <td>1305</td>\n",
       "      <td>0</td>\n",
       "    </tr>\n",
       "    <tr>\n",
       "      <th>414</th>\n",
       "      <td>1306</td>\n",
       "      <td>0</td>\n",
       "    </tr>\n",
       "    <tr>\n",
       "      <th>415</th>\n",
       "      <td>1307</td>\n",
       "      <td>0</td>\n",
       "    </tr>\n",
       "    <tr>\n",
       "      <th>416</th>\n",
       "      <td>1308</td>\n",
       "      <td>0</td>\n",
       "    </tr>\n",
       "    <tr>\n",
       "      <th>417</th>\n",
       "      <td>1309</td>\n",
       "      <td>1</td>\n",
       "    </tr>\n",
       "  </tbody>\n",
       "</table>\n",
       "<p>418 rows × 2 columns</p>\n",
       "</div>"
      ],
      "text/plain": [
       "     PassengerId  Survived\n",
       "0            892         0\n",
       "1            893         0\n",
       "2            894         0\n",
       "3            895         0\n",
       "4            896         0\n",
       "..           ...       ...\n",
       "413         1305         0\n",
       "414         1306         0\n",
       "415         1307         0\n",
       "416         1308         0\n",
       "417         1309         1\n",
       "\n",
       "[418 rows x 2 columns]"
      ]
     },
     "execution_count": 771,
     "metadata": {},
     "output_type": "execute_result"
    }
   ],
   "source": [
    "# Create submission file\n",
    "output_model2 = pd.DataFrame({'PassengerId': test_data['PassengerId'], 'Survived': y_pred_model2})\n",
    "output_model2.to_csv('submission_model2.csv', index=False)\n",
    "\n",
    "# Check contents of submission file\n",
    "submission_model2 = pd.read_csv('submission_model2.csv')\n",
    "submission_model2"
   ]
  },
  {
   "cell_type": "markdown",
   "id": "7f923f4a-8e43-410c-bcb9-50a33363a558",
   "metadata": {},
   "source": [
    "According to Kaggle, the test set accuracy of this model is 0.74880."
   ]
  },
  {
   "cell_type": "markdown",
   "id": "159db9bf-8df1-4129-8de4-c33360f997e0",
   "metadata": {},
   "source": [
    "## Model 3 - Decision Tree Classifier, 12 Features, No Cross-Validation, No Hyperparameter Tuning"
   ]
  },
  {
   "cell_type": "code",
   "execution_count": 772,
   "id": "e9d8a577-4368-436f-8eb8-3bee22a693ef",
   "metadata": {},
   "outputs": [
    {
     "name": "stdout",
     "output_type": "stream",
     "text": [
      "       Feature  Importance\n",
      "0        Title    0.489012\n",
      "1       Pclass    0.193708\n",
      "2   FamilySize    0.089988\n",
      "3    FareGroup    0.057209\n",
      "4     AgeGroup    0.042759\n",
      "5     Embarked    0.034263\n",
      "6        SibSp    0.024542\n",
      "7      IsAlone    0.024113\n",
      "8        Parch    0.016593\n",
      "9          Sex    0.012590\n",
      "10        IsMr    0.009584\n",
      "11   IsElderly    0.005639\n",
      "\n",
      "\n",
      "Training set accuracy: 0.8922558922558923\n"
     ]
    }
   ],
   "source": [
    "# Select features to be used\n",
    "features_model3 = ['Pclass', 'Sex', 'SibSp', 'Parch', 'Embarked', 'Title', 'IsMr',\n",
    "       'AgeGroup', 'IsElderly', 'FamilySize', 'IsAlone', 'FareGroup']\n",
    "\n",
    "# Define training and test sets\n",
    "X_train_model3 = X_train[features_model3]\n",
    "y_train_model3 = y_train\n",
    "X_test_model3 = X_test[features_model3]\n",
    "\n",
    "# Instantiate model\n",
    "model3 = DecisionTreeClassifier(random_state=42)\n",
    "\n",
    "# Train model\n",
    "model3.fit(X_train_model3, y_train_model3)\n",
    "\n",
    "# Get the feature importances of the model\n",
    "feature_importances_model3 = model3.feature_importances_\n",
    "\n",
    "# Create a DataFrame to store feature names and corresponding feature importances\n",
    "importance_df_model3 = pd.DataFrame({'Feature': X_train_model3.columns, 'Importance': feature_importances_model3})\n",
    "\n",
    "# Sort the feature importances to identify the most important features\n",
    "importance_df_model3 = importance_df_model3.sort_values(by='Importance', ascending=False).reset_index(drop=True)\n",
    "\n",
    "# Print feature importances\n",
    "print(importance_df_model3)\n",
    "print(\"\\n\")\n",
    "\n",
    "# Compute training set accuracy of model\n",
    "train_accuracy_model3 = model3.score(X_train_model3, y_train_model3)\n",
    "\n",
    "# Print training set accuracy of model\n",
    "print(\"Training set accuracy:\", train_accuracy_model3)\n",
    "\n",
    "# Predict on the test set using the model\n",
    "y_pred_model3 = model3.predict(X_test_model3)"
   ]
  },
  {
   "cell_type": "code",
   "execution_count": 773,
   "id": "99115a40-bd49-49e0-96da-4e5ec02dbc80",
   "metadata": {},
   "outputs": [
    {
     "data": {
      "text/html": [
       "<div>\n",
       "<style scoped>\n",
       "    .dataframe tbody tr th:only-of-type {\n",
       "        vertical-align: middle;\n",
       "    }\n",
       "\n",
       "    .dataframe tbody tr th {\n",
       "        vertical-align: top;\n",
       "    }\n",
       "\n",
       "    .dataframe thead th {\n",
       "        text-align: right;\n",
       "    }\n",
       "</style>\n",
       "<table border=\"1\" class=\"dataframe\">\n",
       "  <thead>\n",
       "    <tr style=\"text-align: right;\">\n",
       "      <th></th>\n",
       "      <th>PassengerId</th>\n",
       "      <th>Survived</th>\n",
       "    </tr>\n",
       "  </thead>\n",
       "  <tbody>\n",
       "    <tr>\n",
       "      <th>0</th>\n",
       "      <td>892</td>\n",
       "      <td>0</td>\n",
       "    </tr>\n",
       "    <tr>\n",
       "      <th>1</th>\n",
       "      <td>893</td>\n",
       "      <td>0</td>\n",
       "    </tr>\n",
       "    <tr>\n",
       "      <th>2</th>\n",
       "      <td>894</td>\n",
       "      <td>0</td>\n",
       "    </tr>\n",
       "    <tr>\n",
       "      <th>3</th>\n",
       "      <td>895</td>\n",
       "      <td>0</td>\n",
       "    </tr>\n",
       "    <tr>\n",
       "      <th>4</th>\n",
       "      <td>896</td>\n",
       "      <td>0</td>\n",
       "    </tr>\n",
       "    <tr>\n",
       "      <th>...</th>\n",
       "      <td>...</td>\n",
       "      <td>...</td>\n",
       "    </tr>\n",
       "    <tr>\n",
       "      <th>413</th>\n",
       "      <td>1305</td>\n",
       "      <td>0</td>\n",
       "    </tr>\n",
       "    <tr>\n",
       "      <th>414</th>\n",
       "      <td>1306</td>\n",
       "      <td>1</td>\n",
       "    </tr>\n",
       "    <tr>\n",
       "      <th>415</th>\n",
       "      <td>1307</td>\n",
       "      <td>0</td>\n",
       "    </tr>\n",
       "    <tr>\n",
       "      <th>416</th>\n",
       "      <td>1308</td>\n",
       "      <td>0</td>\n",
       "    </tr>\n",
       "    <tr>\n",
       "      <th>417</th>\n",
       "      <td>1309</td>\n",
       "      <td>1</td>\n",
       "    </tr>\n",
       "  </tbody>\n",
       "</table>\n",
       "<p>418 rows × 2 columns</p>\n",
       "</div>"
      ],
      "text/plain": [
       "     PassengerId  Survived\n",
       "0            892         0\n",
       "1            893         0\n",
       "2            894         0\n",
       "3            895         0\n",
       "4            896         0\n",
       "..           ...       ...\n",
       "413         1305         0\n",
       "414         1306         1\n",
       "415         1307         0\n",
       "416         1308         0\n",
       "417         1309         1\n",
       "\n",
       "[418 rows x 2 columns]"
      ]
     },
     "execution_count": 773,
     "metadata": {},
     "output_type": "execute_result"
    }
   ],
   "source": [
    "# Create submission file\n",
    "output_model3 = pd.DataFrame({'PassengerId': test_data['PassengerId'], 'Survived': y_pred_model3})\n",
    "output_model3.to_csv('submission_model3.csv', index=False)\n",
    "\n",
    "# Check contents of submission file\n",
    "submission_model3 = pd.read_csv('submission_model3.csv')\n",
    "submission_model3"
   ]
  },
  {
   "cell_type": "markdown",
   "id": "1f37adbc-32bc-430c-a970-06574a744c3c",
   "metadata": {},
   "source": [
    "According to Kaggle, the test set accuracy of this model is 0.75119."
   ]
  },
  {
   "cell_type": "markdown",
   "id": "31a18e2a-eaaf-48ba-9261-ce117c1d5c19",
   "metadata": {},
   "source": [
    "## Model 4 - Random Forest Classifier, 12 Features, No Cross-Validation, No Hyperparameter Tuning"
   ]
  },
  {
   "cell_type": "code",
   "execution_count": 774,
   "id": "c4f06f9c-6bcc-4d10-ba38-a31f1ad47828",
   "metadata": {},
   "outputs": [
    {
     "name": "stdout",
     "output_type": "stream",
     "text": [
      "       Feature  Importance\n",
      "0        Title    0.207566\n",
      "1          Sex    0.150230\n",
      "2       Pclass    0.133227\n",
      "3         IsMr    0.099615\n",
      "4    FareGroup    0.095278\n",
      "5     AgeGroup    0.086592\n",
      "6   FamilySize    0.079024\n",
      "7     Embarked    0.052919\n",
      "8        SibSp    0.049255\n",
      "9        Parch    0.031240\n",
      "10     IsAlone    0.012319\n",
      "11   IsElderly    0.002735\n",
      "\n",
      "\n",
      "Training set accuracy: 0.8922558922558923\n"
     ]
    }
   ],
   "source": [
    "# Select features to be used\n",
    "features_model4 = ['Pclass', 'Sex', 'SibSp', 'Parch', 'Embarked', 'Title', 'IsMr',\n",
    "       'AgeGroup', 'IsElderly', 'FamilySize', 'IsAlone', 'FareGroup']\n",
    "\n",
    "# Define training and test sets\n",
    "X_train_model4 = X_train[features_model4]\n",
    "y_train_model4 = y_train\n",
    "X_test_model4 = X_test[features_model4]\n",
    "\n",
    "# Instantiate model\n",
    "model4 = RandomForestClassifier(random_state=42)\n",
    "\n",
    "# Train model\n",
    "model4.fit(X_train_model4, y_train_model4)\n",
    "\n",
    "# Get the feature importances of the model\n",
    "feature_importances_model4 = model4.feature_importances_\n",
    "\n",
    "# Create a DataFrame to store feature names and corresponding feature importances\n",
    "importance_df_model4 = pd.DataFrame({'Feature': X_train_model4.columns, 'Importance': feature_importances_model4})\n",
    "\n",
    "# Sort the feature importances to identify the most important features\n",
    "importance_df_model4 = importance_df_model4.sort_values(by='Importance', ascending=False).reset_index(drop=True)\n",
    "\n",
    "# Print feature importances\n",
    "print(importance_df_model4)\n",
    "print(\"\\n\")\n",
    "\n",
    "# Compute training set accuracy of model\n",
    "train_accuracy_model4 = model4.score(X_train_model4, y_train_model4)\n",
    "\n",
    "# Print training set accuracy of model\n",
    "print(\"Training set accuracy:\", train_accuracy_model4)\n",
    "\n",
    "# Predict on the test set using the model\n",
    "y_pred_model4 = model4.predict(X_test_model4)"
   ]
  },
  {
   "cell_type": "code",
   "execution_count": 775,
   "id": "ae1a9272-bdcd-4bc2-823d-3c5e9386f0b5",
   "metadata": {},
   "outputs": [
    {
     "data": {
      "text/html": [
       "<div>\n",
       "<style scoped>\n",
       "    .dataframe tbody tr th:only-of-type {\n",
       "        vertical-align: middle;\n",
       "    }\n",
       "\n",
       "    .dataframe tbody tr th {\n",
       "        vertical-align: top;\n",
       "    }\n",
       "\n",
       "    .dataframe thead th {\n",
       "        text-align: right;\n",
       "    }\n",
       "</style>\n",
       "<table border=\"1\" class=\"dataframe\">\n",
       "  <thead>\n",
       "    <tr style=\"text-align: right;\">\n",
       "      <th></th>\n",
       "      <th>PassengerId</th>\n",
       "      <th>Survived</th>\n",
       "    </tr>\n",
       "  </thead>\n",
       "  <tbody>\n",
       "    <tr>\n",
       "      <th>0</th>\n",
       "      <td>892</td>\n",
       "      <td>0</td>\n",
       "    </tr>\n",
       "    <tr>\n",
       "      <th>1</th>\n",
       "      <td>893</td>\n",
       "      <td>0</td>\n",
       "    </tr>\n",
       "    <tr>\n",
       "      <th>2</th>\n",
       "      <td>894</td>\n",
       "      <td>0</td>\n",
       "    </tr>\n",
       "    <tr>\n",
       "      <th>3</th>\n",
       "      <td>895</td>\n",
       "      <td>0</td>\n",
       "    </tr>\n",
       "    <tr>\n",
       "      <th>4</th>\n",
       "      <td>896</td>\n",
       "      <td>0</td>\n",
       "    </tr>\n",
       "    <tr>\n",
       "      <th>...</th>\n",
       "      <td>...</td>\n",
       "      <td>...</td>\n",
       "    </tr>\n",
       "    <tr>\n",
       "      <th>413</th>\n",
       "      <td>1305</td>\n",
       "      <td>0</td>\n",
       "    </tr>\n",
       "    <tr>\n",
       "      <th>414</th>\n",
       "      <td>1306</td>\n",
       "      <td>1</td>\n",
       "    </tr>\n",
       "    <tr>\n",
       "      <th>415</th>\n",
       "      <td>1307</td>\n",
       "      <td>0</td>\n",
       "    </tr>\n",
       "    <tr>\n",
       "      <th>416</th>\n",
       "      <td>1308</td>\n",
       "      <td>0</td>\n",
       "    </tr>\n",
       "    <tr>\n",
       "      <th>417</th>\n",
       "      <td>1309</td>\n",
       "      <td>1</td>\n",
       "    </tr>\n",
       "  </tbody>\n",
       "</table>\n",
       "<p>418 rows × 2 columns</p>\n",
       "</div>"
      ],
      "text/plain": [
       "     PassengerId  Survived\n",
       "0            892         0\n",
       "1            893         0\n",
       "2            894         0\n",
       "3            895         0\n",
       "4            896         0\n",
       "..           ...       ...\n",
       "413         1305         0\n",
       "414         1306         1\n",
       "415         1307         0\n",
       "416         1308         0\n",
       "417         1309         1\n",
       "\n",
       "[418 rows x 2 columns]"
      ]
     },
     "execution_count": 775,
     "metadata": {},
     "output_type": "execute_result"
    }
   ],
   "source": [
    "# Create submission file\n",
    "output_model4 = pd.DataFrame({'PassengerId': test_data['PassengerId'], 'Survived': y_pred_model4})\n",
    "output_model4.to_csv('submission_model4.csv', index=False)\n",
    "\n",
    "# Check contents of submission file\n",
    "submission_model4 = pd.read_csv('submission_model4.csv')\n",
    "submission_model4"
   ]
  },
  {
   "cell_type": "markdown",
   "id": "8df7cd61-c071-4108-9072-2dde0a6a17cb",
   "metadata": {},
   "source": [
    "According to Kaggle, the test set accuracy of this model is 0.74880."
   ]
  },
  {
   "cell_type": "markdown",
   "id": "a44b7896-8137-42ee-9647-11d4dd9f37ce",
   "metadata": {},
   "source": [
    "## Model 5 - Gradient Boosting Classifier, 12 Features, No Cross-Validation, No Hyperparameter Tuning"
   ]
  },
  {
   "cell_type": "code",
   "execution_count": 776,
   "id": "ccc8f502-1a7c-4a32-839d-f8c6aa765da9",
   "metadata": {},
   "outputs": [
    {
     "name": "stdout",
     "output_type": "stream",
     "text": [
      "       Feature  Importance\n",
      "0        Title    0.565825\n",
      "1       Pclass    0.226558\n",
      "2   FamilySize    0.093899\n",
      "3    FareGroup    0.037379\n",
      "4     AgeGroup    0.021617\n",
      "5     Embarked    0.016640\n",
      "6        SibSp    0.015070\n",
      "7          Sex    0.013379\n",
      "8         IsMr    0.004591\n",
      "9        Parch    0.003388\n",
      "10   IsElderly    0.000934\n",
      "11     IsAlone    0.000722\n",
      "\n",
      "\n",
      "Training set accuracy: 0.8529741863075196\n"
     ]
    }
   ],
   "source": [
    "# Select features to be used\n",
    "features_model5 = ['Pclass', 'Sex', 'SibSp', 'Parch', 'Embarked', 'Title', 'IsMr',\n",
    "       'AgeGroup', 'IsElderly', 'FamilySize', 'IsAlone', 'FareGroup']\n",
    "\n",
    "# Define training and test sets\n",
    "X_train_model5 = X_train[features_model5]\n",
    "y_train_model5 = y_train\n",
    "X_test_model5 = X_test[features_model5]\n",
    "\n",
    "# Instantiate model\n",
    "model5 = GradientBoostingClassifier(random_state=42)\n",
    "\n",
    "# Train model\n",
    "model5.fit(X_train_model5, y_train_model5)\n",
    "\n",
    "# Get the feature importances of the model\n",
    "feature_importances_model5 = model5.feature_importances_\n",
    "\n",
    "# Create a DataFrame to store feature names and corresponding feature importances\n",
    "importance_df_model5 = pd.DataFrame({'Feature': X_train_model5.columns, 'Importance': feature_importances_model5})\n",
    "\n",
    "# Sort the feature importances to identify the most important features\n",
    "importance_df_model5 = importance_df_model5.sort_values(by='Importance', ascending=False).reset_index(drop=True)\n",
    "\n",
    "# Print feature importances\n",
    "print(importance_df_model5)\n",
    "print(\"\\n\")\n",
    "\n",
    "# Compute training set accuracy of model\n",
    "train_accuracy_model5 = model5.score(X_train_model5, y_train_model5)\n",
    "\n",
    "# Print training set accuracy of model\n",
    "print(\"Training set accuracy:\", train_accuracy_model5)\n",
    "\n",
    "# Predict on the test set using the model\n",
    "y_pred_model5 = model5.predict(X_test_model5)"
   ]
  },
  {
   "cell_type": "code",
   "execution_count": 777,
   "id": "0031230d-8e39-4212-b1bf-d68c3255de2b",
   "metadata": {},
   "outputs": [
    {
     "data": {
      "text/html": [
       "<div>\n",
       "<style scoped>\n",
       "    .dataframe tbody tr th:only-of-type {\n",
       "        vertical-align: middle;\n",
       "    }\n",
       "\n",
       "    .dataframe tbody tr th {\n",
       "        vertical-align: top;\n",
       "    }\n",
       "\n",
       "    .dataframe thead th {\n",
       "        text-align: right;\n",
       "    }\n",
       "</style>\n",
       "<table border=\"1\" class=\"dataframe\">\n",
       "  <thead>\n",
       "    <tr style=\"text-align: right;\">\n",
       "      <th></th>\n",
       "      <th>PassengerId</th>\n",
       "      <th>Survived</th>\n",
       "    </tr>\n",
       "  </thead>\n",
       "  <tbody>\n",
       "    <tr>\n",
       "      <th>0</th>\n",
       "      <td>892</td>\n",
       "      <td>0</td>\n",
       "    </tr>\n",
       "    <tr>\n",
       "      <th>1</th>\n",
       "      <td>893</td>\n",
       "      <td>0</td>\n",
       "    </tr>\n",
       "    <tr>\n",
       "      <th>2</th>\n",
       "      <td>894</td>\n",
       "      <td>0</td>\n",
       "    </tr>\n",
       "    <tr>\n",
       "      <th>3</th>\n",
       "      <td>895</td>\n",
       "      <td>0</td>\n",
       "    </tr>\n",
       "    <tr>\n",
       "      <th>4</th>\n",
       "      <td>896</td>\n",
       "      <td>0</td>\n",
       "    </tr>\n",
       "    <tr>\n",
       "      <th>...</th>\n",
       "      <td>...</td>\n",
       "      <td>...</td>\n",
       "    </tr>\n",
       "    <tr>\n",
       "      <th>413</th>\n",
       "      <td>1305</td>\n",
       "      <td>0</td>\n",
       "    </tr>\n",
       "    <tr>\n",
       "      <th>414</th>\n",
       "      <td>1306</td>\n",
       "      <td>1</td>\n",
       "    </tr>\n",
       "    <tr>\n",
       "      <th>415</th>\n",
       "      <td>1307</td>\n",
       "      <td>0</td>\n",
       "    </tr>\n",
       "    <tr>\n",
       "      <th>416</th>\n",
       "      <td>1308</td>\n",
       "      <td>0</td>\n",
       "    </tr>\n",
       "    <tr>\n",
       "      <th>417</th>\n",
       "      <td>1309</td>\n",
       "      <td>1</td>\n",
       "    </tr>\n",
       "  </tbody>\n",
       "</table>\n",
       "<p>418 rows × 2 columns</p>\n",
       "</div>"
      ],
      "text/plain": [
       "     PassengerId  Survived\n",
       "0            892         0\n",
       "1            893         0\n",
       "2            894         0\n",
       "3            895         0\n",
       "4            896         0\n",
       "..           ...       ...\n",
       "413         1305         0\n",
       "414         1306         1\n",
       "415         1307         0\n",
       "416         1308         0\n",
       "417         1309         1\n",
       "\n",
       "[418 rows x 2 columns]"
      ]
     },
     "execution_count": 777,
     "metadata": {},
     "output_type": "execute_result"
    }
   ],
   "source": [
    "# Create submission file\n",
    "output_model5 = pd.DataFrame({'PassengerId': test_data['PassengerId'], 'Survived': y_pred_model5})\n",
    "output_model5.to_csv('submission_model5.csv', index=False)\n",
    "\n",
    "# Check contents of submission file\n",
    "submission_model5 = pd.read_csv('submission_model5.csv')\n",
    "submission_model5"
   ]
  },
  {
   "cell_type": "markdown",
   "id": "dae713fe-bd68-4477-a110-d42be9dba1ae",
   "metadata": {},
   "source": [
    "According to Kaggle, the test set accuracy of this model is 0.76794."
   ]
  },
  {
   "cell_type": "markdown",
   "id": "4057a6bb-3746-4ec7-a174-71d6e34c83a3",
   "metadata": {},
   "source": [
    "## Model 6 - Logistic Regression, 12 Features, With Cross-Validation, No Hyperparameter Tuning"
   ]
  },
  {
   "cell_type": "code",
   "execution_count": 778,
   "id": "01f2d1b4-c322-4573-8506-fe4363d8c2d4",
   "metadata": {},
   "outputs": [
    {
     "name": "stdout",
     "output_type": "stream",
     "text": [
      "Cross-validation accuracies: [0.79888268 0.80337079 0.85955056 0.78089888 0.82022472]\n",
      "\n",
      "\n",
      "Mean cross-validation accuracy: 0.8125855250768941\n",
      "\n",
      "\n",
      "       Feature  Coefficient\n",
      "0       Pclass    -0.944040\n",
      "1        Title    -0.802429\n",
      "2         IsMr    -0.541504\n",
      "3     AgeGroup    -0.519382\n",
      "4      IsAlone    -0.364732\n",
      "5   FamilySize    -0.317381\n",
      "6        SibSp    -0.261600\n",
      "7     Embarked     0.240587\n",
      "8    FareGroup     0.208249\n",
      "9    IsElderly    -0.205648\n",
      "10         Sex    -0.194167\n",
      "11       Parch    -0.062707\n",
      "\n",
      "\n",
      "Training set accuracy: 0.8148148148148148\n"
     ]
    }
   ],
   "source": [
    "# Select features to be used\n",
    "features_model6 = ['Pclass', 'Sex', 'SibSp', 'Parch', 'Embarked', 'Title', 'IsMr',\n",
    "       'AgeGroup', 'IsElderly', 'FamilySize', 'IsAlone', 'FareGroup']\n",
    "\n",
    "# Define training and test sets\n",
    "X_train_model6 = X_train[features_model6]\n",
    "y_train_model6 = y_train\n",
    "X_test_model6 = X_test[features_model6]\n",
    "\n",
    "# Instantiate model\n",
    "model6 = LogisticRegression()\n",
    "\n",
    "# Initialize cross-validation splitter\n",
    "cv_model6 = KFold(n_splits=5, shuffle=True, random_state=42)\n",
    "\n",
    "# Perform cross-validation\n",
    "cv_score_model6 = cross_val_score(model6, X_train_model6, y_train_model6, cv=cv_model6, scoring='accuracy')\n",
    "print(\"Cross-validation accuracies:\", cv_score_model6)\n",
    "print(\"\\n\")\n",
    "\n",
    "cv_score_mean_model6 = cv_score_model6.mean()\n",
    "print(\"Mean cross-validation accuracy:\", cv_score_mean_model6)\n",
    "print(\"\\n\")\n",
    "\n",
    "# Train model on the entire training set\n",
    "model6.fit(X_train_model6, y_train_model6)\n",
    "\n",
    "# Get the coefficients of the model\n",
    "coefficients_model6 = model6.coef_[0]\n",
    "\n",
    "# Create a DataFrame to store feature names and corresponding coefficients\n",
    "coefficients_df_model6 = pd.DataFrame({'Feature': X_train_model6.columns, 'Coefficient': coefficients_model6})\n",
    "\n",
    "# Sort the coefficients to identify the most important features\n",
    "coefficients_df_model6 = coefficients_df_model6.reindex(coefficients_df_model6['Coefficient'].abs().sort_values(ascending=False).index).reset_index(drop=True)\n",
    "\n",
    "# Print coefficients\n",
    "print(coefficients_df_model6)\n",
    "print(\"\\n\")\n",
    "\n",
    "# Compute training set accuracy of model\n",
    "train_accuracy_model6 = model6.score(X_train_model6, y_train_model6)\n",
    "\n",
    "# Print training set accuracy of model\n",
    "print(\"Training set accuracy:\", train_accuracy_model6)\n",
    "\n",
    "# Predict on the test set using the model\n",
    "y_pred_model6 = model6.predict(X_test_model6)"
   ]
  },
  {
   "cell_type": "code",
   "execution_count": 779,
   "id": "9afaa07d-b081-439d-8caf-73f36ce466f9",
   "metadata": {},
   "outputs": [
    {
     "data": {
      "text/html": [
       "<div>\n",
       "<style scoped>\n",
       "    .dataframe tbody tr th:only-of-type {\n",
       "        vertical-align: middle;\n",
       "    }\n",
       "\n",
       "    .dataframe tbody tr th {\n",
       "        vertical-align: top;\n",
       "    }\n",
       "\n",
       "    .dataframe thead th {\n",
       "        text-align: right;\n",
       "    }\n",
       "</style>\n",
       "<table border=\"1\" class=\"dataframe\">\n",
       "  <thead>\n",
       "    <tr style=\"text-align: right;\">\n",
       "      <th></th>\n",
       "      <th>PassengerId</th>\n",
       "      <th>Survived</th>\n",
       "    </tr>\n",
       "  </thead>\n",
       "  <tbody>\n",
       "    <tr>\n",
       "      <th>0</th>\n",
       "      <td>892</td>\n",
       "      <td>0</td>\n",
       "    </tr>\n",
       "    <tr>\n",
       "      <th>1</th>\n",
       "      <td>893</td>\n",
       "      <td>1</td>\n",
       "    </tr>\n",
       "    <tr>\n",
       "      <th>2</th>\n",
       "      <td>894</td>\n",
       "      <td>0</td>\n",
       "    </tr>\n",
       "    <tr>\n",
       "      <th>3</th>\n",
       "      <td>895</td>\n",
       "      <td>0</td>\n",
       "    </tr>\n",
       "    <tr>\n",
       "      <th>4</th>\n",
       "      <td>896</td>\n",
       "      <td>1</td>\n",
       "    </tr>\n",
       "    <tr>\n",
       "      <th>...</th>\n",
       "      <td>...</td>\n",
       "      <td>...</td>\n",
       "    </tr>\n",
       "    <tr>\n",
       "      <th>413</th>\n",
       "      <td>1305</td>\n",
       "      <td>0</td>\n",
       "    </tr>\n",
       "    <tr>\n",
       "      <th>414</th>\n",
       "      <td>1306</td>\n",
       "      <td>1</td>\n",
       "    </tr>\n",
       "    <tr>\n",
       "      <th>415</th>\n",
       "      <td>1307</td>\n",
       "      <td>0</td>\n",
       "    </tr>\n",
       "    <tr>\n",
       "      <th>416</th>\n",
       "      <td>1308</td>\n",
       "      <td>0</td>\n",
       "    </tr>\n",
       "    <tr>\n",
       "      <th>417</th>\n",
       "      <td>1309</td>\n",
       "      <td>0</td>\n",
       "    </tr>\n",
       "  </tbody>\n",
       "</table>\n",
       "<p>418 rows × 2 columns</p>\n",
       "</div>"
      ],
      "text/plain": [
       "     PassengerId  Survived\n",
       "0            892         0\n",
       "1            893         1\n",
       "2            894         0\n",
       "3            895         0\n",
       "4            896         1\n",
       "..           ...       ...\n",
       "413         1305         0\n",
       "414         1306         1\n",
       "415         1307         0\n",
       "416         1308         0\n",
       "417         1309         0\n",
       "\n",
       "[418 rows x 2 columns]"
      ]
     },
     "execution_count": 779,
     "metadata": {},
     "output_type": "execute_result"
    }
   ],
   "source": [
    "# Create submission file\n",
    "output_model6 = pd.DataFrame({'PassengerId': test_data['PassengerId'], 'Survived': y_pred_model6})\n",
    "output_model6.to_csv('submission_model6.csv', index=False)\n",
    "\n",
    "# Check contents of submission file\n",
    "submission_model6 = pd.read_csv('submission_model6.csv')\n",
    "submission_model6"
   ]
  },
  {
   "cell_type": "markdown",
   "id": "f9db853e-4b29-47e6-9065-102478cb9519",
   "metadata": {},
   "source": [
    "According to Kaggle, the test set accuracy of this model is 0.77990."
   ]
  },
  {
   "cell_type": "markdown",
   "id": "915a6424-6749-453f-85e7-c4d2e45cf05a",
   "metadata": {},
   "source": [
    "## Model 7 - K-Nearest Neighbors Classifier, 12 Features, With Cross-Validation, No Hyperparameter Tuning"
   ]
  },
  {
   "cell_type": "code",
   "execution_count": 780,
   "id": "1cb4bd79-11d6-43cf-b9f2-0ecb6d8b67e6",
   "metadata": {},
   "outputs": [
    {
     "name": "stdout",
     "output_type": "stream",
     "text": [
      "Cross-validation scores: [0.84357542 0.80898876 0.8258427  0.78089888 0.81460674]\n",
      "\n",
      "\n",
      "Mean cross-validation score: 0.8147824995292199\n",
      "\n",
      "\n",
      "Training set accuracy: 0.8496071829405163\n"
     ]
    }
   ],
   "source": [
    "# Select features to be used\n",
    "features_model7 = ['Pclass', 'Sex', 'SibSp', 'Parch', 'Embarked', 'Title', 'IsMr',\n",
    "       'AgeGroup', 'IsElderly', 'FamilySize', 'IsAlone', 'FareGroup']\n",
    "\n",
    "# Define training and test sets\n",
    "X_train_model7 = X_train[features_model7]\n",
    "y_train_model7 = y_train\n",
    "X_test_model7 = X_test[features_model7]\n",
    "\n",
    "# Instantiate model\n",
    "model7 = KNeighborsClassifier()\n",
    "\n",
    "# Initialize cross-validation splitter\n",
    "cv_model7 = KFold(n_splits=5, shuffle=True, random_state=42)\n",
    "\n",
    "# Perform cross-validation\n",
    "cv_score_model7 = cross_val_score(model7, X_train_model7, y_train_model7, cv=cv_model7, scoring='accuracy')\n",
    "print(\"Cross-validation scores:\", cv_score_model7)\n",
    "print(\"\\n\")\n",
    "\n",
    "cv_score_mean_model7 = cv_score_model7.mean()\n",
    "print(\"Mean cross-validation score:\", cv_score_mean_model7)\n",
    "print(\"\\n\")\n",
    "\n",
    "# Train model on the entire training set\n",
    "model7.fit(X_train_model7, y_train_model7)\n",
    "\n",
    "# Compute training set accuracy of model\n",
    "train_accuracy_model7 = model7.score(X_train_model7, y_train_model7)\n",
    "\n",
    "# Print training set accuracy of model\n",
    "print(\"Training set accuracy:\", train_accuracy_model7)\n",
    "\n",
    "# Predict on the test set using the model\n",
    "y_pred_model7 = model7.predict(X_test_model7)"
   ]
  },
  {
   "cell_type": "code",
   "execution_count": 781,
   "id": "d4ef444d-dc8d-4422-9010-53b4afff326b",
   "metadata": {},
   "outputs": [
    {
     "data": {
      "text/html": [
       "<div>\n",
       "<style scoped>\n",
       "    .dataframe tbody tr th:only-of-type {\n",
       "        vertical-align: middle;\n",
       "    }\n",
       "\n",
       "    .dataframe tbody tr th {\n",
       "        vertical-align: top;\n",
       "    }\n",
       "\n",
       "    .dataframe thead th {\n",
       "        text-align: right;\n",
       "    }\n",
       "</style>\n",
       "<table border=\"1\" class=\"dataframe\">\n",
       "  <thead>\n",
       "    <tr style=\"text-align: right;\">\n",
       "      <th></th>\n",
       "      <th>PassengerId</th>\n",
       "      <th>Survived</th>\n",
       "    </tr>\n",
       "  </thead>\n",
       "  <tbody>\n",
       "    <tr>\n",
       "      <th>0</th>\n",
       "      <td>892</td>\n",
       "      <td>0</td>\n",
       "    </tr>\n",
       "    <tr>\n",
       "      <th>1</th>\n",
       "      <td>893</td>\n",
       "      <td>0</td>\n",
       "    </tr>\n",
       "    <tr>\n",
       "      <th>2</th>\n",
       "      <td>894</td>\n",
       "      <td>0</td>\n",
       "    </tr>\n",
       "    <tr>\n",
       "      <th>3</th>\n",
       "      <td>895</td>\n",
       "      <td>0</td>\n",
       "    </tr>\n",
       "    <tr>\n",
       "      <th>4</th>\n",
       "      <td>896</td>\n",
       "      <td>0</td>\n",
       "    </tr>\n",
       "    <tr>\n",
       "      <th>...</th>\n",
       "      <td>...</td>\n",
       "      <td>...</td>\n",
       "    </tr>\n",
       "    <tr>\n",
       "      <th>413</th>\n",
       "      <td>1305</td>\n",
       "      <td>0</td>\n",
       "    </tr>\n",
       "    <tr>\n",
       "      <th>414</th>\n",
       "      <td>1306</td>\n",
       "      <td>0</td>\n",
       "    </tr>\n",
       "    <tr>\n",
       "      <th>415</th>\n",
       "      <td>1307</td>\n",
       "      <td>0</td>\n",
       "    </tr>\n",
       "    <tr>\n",
       "      <th>416</th>\n",
       "      <td>1308</td>\n",
       "      <td>0</td>\n",
       "    </tr>\n",
       "    <tr>\n",
       "      <th>417</th>\n",
       "      <td>1309</td>\n",
       "      <td>1</td>\n",
       "    </tr>\n",
       "  </tbody>\n",
       "</table>\n",
       "<p>418 rows × 2 columns</p>\n",
       "</div>"
      ],
      "text/plain": [
       "     PassengerId  Survived\n",
       "0            892         0\n",
       "1            893         0\n",
       "2            894         0\n",
       "3            895         0\n",
       "4            896         0\n",
       "..           ...       ...\n",
       "413         1305         0\n",
       "414         1306         0\n",
       "415         1307         0\n",
       "416         1308         0\n",
       "417         1309         1\n",
       "\n",
       "[418 rows x 2 columns]"
      ]
     },
     "execution_count": 781,
     "metadata": {},
     "output_type": "execute_result"
    }
   ],
   "source": [
    "# Create submission file\n",
    "output_model7 = pd.DataFrame({'PassengerId': test_data['PassengerId'], 'Survived': y_pred_model7})\n",
    "output_model7.to_csv('submission_model7.csv', index=False)\n",
    "\n",
    "# Check contents of submission file\n",
    "submission_model7 = pd.read_csv('submission_model7.csv')\n",
    "submission_model7"
   ]
  },
  {
   "cell_type": "markdown",
   "id": "1baf6f28-1ec1-4f91-b8d8-f9916b1e93f1",
   "metadata": {},
   "source": [
    "According to Kaggle, the test set accuracy of this model is 0.74880."
   ]
  },
  {
   "cell_type": "markdown",
   "id": "2308cf2d-a4b2-464f-8726-42980611aff0",
   "metadata": {},
   "source": [
    "## Model 8 - Decision Tree Classifier, 12 Features, With Cross-Validation, No Hyperparameter Tuning"
   ]
  },
  {
   "cell_type": "code",
   "execution_count": 782,
   "id": "652f1e20-e201-4db5-b352-8236ee4b9e91",
   "metadata": {},
   "outputs": [
    {
     "name": "stdout",
     "output_type": "stream",
     "text": [
      "Cross-validation accuracies: [0.83240223 0.75842697 0.83707865 0.7752809  0.83146067]\n",
      "\n",
      "\n",
      "Mean cross-validation accuracy: 0.8069298851296214\n",
      "\n",
      "\n",
      "       Feature  Importance  Cumulative_Importance\n",
      "0        Title    0.489012               0.489012\n",
      "1       Pclass    0.193708               0.682720\n",
      "2   FamilySize    0.089988               0.772708\n",
      "3    FareGroup    0.057209               0.829917\n",
      "4     AgeGroup    0.042759               0.872676\n",
      "5     Embarked    0.034263               0.906939\n",
      "6        SibSp    0.024542               0.931481\n",
      "7      IsAlone    0.024113               0.955593\n",
      "8        Parch    0.016593               0.972187\n",
      "9          Sex    0.012590               0.984777\n",
      "10        IsMr    0.009584               0.994361\n",
      "11   IsElderly    0.005639               1.000000\n",
      "\n",
      "\n",
      "Features accounting for 95% of model's predictive power:\n",
      "['Title', 'Pclass', 'FamilySize', 'FareGroup', 'AgeGroup', 'Embarked', 'SibSp', 'IsAlone']\n",
      "\n",
      "\n",
      "Training set accuracy: 0.8922558922558923\n"
     ]
    }
   ],
   "source": [
    "# Select features to be used\n",
    "features_model8 = ['Pclass', 'Sex', 'SibSp', 'Parch', 'Embarked', 'Title', 'IsMr',\n",
    "       'AgeGroup', 'IsElderly', 'FamilySize', 'IsAlone', 'FareGroup']\n",
    "\n",
    "# Define training and test sets\n",
    "X_train_model8 = X_train[features_model8]\n",
    "y_train_model8 = y_train\n",
    "X_test_model8 = X_test[features_model8]\n",
    "\n",
    "# Instantiate model\n",
    "model8 = DecisionTreeClassifier(random_state=42)\n",
    "\n",
    "# Initialize cross-validation splitter\n",
    "cv_model8 = KFold(n_splits=5, shuffle=True, random_state=42)\n",
    "\n",
    "# Perform cross-validation\n",
    "cv_score_model8 = cross_val_score(model8, X_train_model8, y_train_model8, cv=cv_model8, scoring='accuracy')\n",
    "print(\"Cross-validation accuracies:\", cv_score_model8)\n",
    "print(\"\\n\")\n",
    "\n",
    "cv_score_mean_model8 = cv_score_model8.mean()\n",
    "print(\"Mean cross-validation accuracy:\", cv_score_mean_model8)\n",
    "print(\"\\n\")\n",
    "\n",
    "# Train model on the entire training set\n",
    "model8.fit(X_train_model8, y_train_model8)\n",
    "\n",
    "# Get the feature importances of the model\n",
    "feature_importances_model8 = model8.feature_importances_\n",
    "\n",
    "# Create a DataFrame to store feature names and corresponding feature importances\n",
    "importance_df_model8 = pd.DataFrame({'Feature': X_train_model8.columns, 'Importance': feature_importances_model8})\n",
    "\n",
    "# Sort the feature importances to identify the most important features\n",
    "importance_df_model8 = importance_df_model8.sort_values(by='Importance', ascending=False).reset_index(drop=True)\n",
    "\n",
    "# Calculate cumulative sum of feature importances\n",
    "importance_df_model8['Cumulative_Importance'] = importance_df_model8['Importance'].cumsum()\n",
    "\n",
    "# Print feature importances\n",
    "print(importance_df_model8)\n",
    "print(\"\\n\")\n",
    "\n",
    "# Find features accounting for 95% of model's predictive power\n",
    "most_important_features_model8 = []\n",
    "\n",
    "for index, row in importance_df_model8.iterrows():\n",
    "    if row['Cumulative_Importance'] <= 0.95:\n",
    "        most_important_features_model8.append(row['Feature'])\n",
    "    elif index > 0 and importance_df_model8.iloc[index - 1]['Cumulative_Importance'] < 0.95:\n",
    "        most_important_features_model8.append(row['Feature'])\n",
    "    else:\n",
    "        break\n",
    "\n",
    "# List features accounting for 95% of model's predictive power\n",
    "print(\"Features accounting for 95% of model's predictive power:\")\n",
    "print(most_important_features_model8)\n",
    "print(\"\\n\")\n",
    "\n",
    "# Compute training set accuracy\n",
    "train_accuracy_model8 = model8.score(X_train_model8, y_train_model8)\n",
    "\n",
    "# Print training set accuracy\n",
    "print(\"Training set accuracy:\", train_accuracy_model8)\n",
    "\n",
    "# Predict on the test set using the model\n",
    "y_pred_model8 = model8.predict(X_test_model8)"
   ]
  },
  {
   "cell_type": "code",
   "execution_count": 783,
   "id": "7a02e789-b539-40bc-a584-ecdd95a43d5d",
   "metadata": {},
   "outputs": [
    {
     "data": {
      "text/html": [
       "<div>\n",
       "<style scoped>\n",
       "    .dataframe tbody tr th:only-of-type {\n",
       "        vertical-align: middle;\n",
       "    }\n",
       "\n",
       "    .dataframe tbody tr th {\n",
       "        vertical-align: top;\n",
       "    }\n",
       "\n",
       "    .dataframe thead th {\n",
       "        text-align: right;\n",
       "    }\n",
       "</style>\n",
       "<table border=\"1\" class=\"dataframe\">\n",
       "  <thead>\n",
       "    <tr style=\"text-align: right;\">\n",
       "      <th></th>\n",
       "      <th>PassengerId</th>\n",
       "      <th>Survived</th>\n",
       "    </tr>\n",
       "  </thead>\n",
       "  <tbody>\n",
       "    <tr>\n",
       "      <th>0</th>\n",
       "      <td>892</td>\n",
       "      <td>0</td>\n",
       "    </tr>\n",
       "    <tr>\n",
       "      <th>1</th>\n",
       "      <td>893</td>\n",
       "      <td>0</td>\n",
       "    </tr>\n",
       "    <tr>\n",
       "      <th>2</th>\n",
       "      <td>894</td>\n",
       "      <td>0</td>\n",
       "    </tr>\n",
       "    <tr>\n",
       "      <th>3</th>\n",
       "      <td>895</td>\n",
       "      <td>0</td>\n",
       "    </tr>\n",
       "    <tr>\n",
       "      <th>4</th>\n",
       "      <td>896</td>\n",
       "      <td>0</td>\n",
       "    </tr>\n",
       "    <tr>\n",
       "      <th>...</th>\n",
       "      <td>...</td>\n",
       "      <td>...</td>\n",
       "    </tr>\n",
       "    <tr>\n",
       "      <th>413</th>\n",
       "      <td>1305</td>\n",
       "      <td>0</td>\n",
       "    </tr>\n",
       "    <tr>\n",
       "      <th>414</th>\n",
       "      <td>1306</td>\n",
       "      <td>1</td>\n",
       "    </tr>\n",
       "    <tr>\n",
       "      <th>415</th>\n",
       "      <td>1307</td>\n",
       "      <td>0</td>\n",
       "    </tr>\n",
       "    <tr>\n",
       "      <th>416</th>\n",
       "      <td>1308</td>\n",
       "      <td>0</td>\n",
       "    </tr>\n",
       "    <tr>\n",
       "      <th>417</th>\n",
       "      <td>1309</td>\n",
       "      <td>1</td>\n",
       "    </tr>\n",
       "  </tbody>\n",
       "</table>\n",
       "<p>418 rows × 2 columns</p>\n",
       "</div>"
      ],
      "text/plain": [
       "     PassengerId  Survived\n",
       "0            892         0\n",
       "1            893         0\n",
       "2            894         0\n",
       "3            895         0\n",
       "4            896         0\n",
       "..           ...       ...\n",
       "413         1305         0\n",
       "414         1306         1\n",
       "415         1307         0\n",
       "416         1308         0\n",
       "417         1309         1\n",
       "\n",
       "[418 rows x 2 columns]"
      ]
     },
     "execution_count": 783,
     "metadata": {},
     "output_type": "execute_result"
    }
   ],
   "source": [
    "# Create submission file\n",
    "output_model8 = pd.DataFrame({'PassengerId': test_data['PassengerId'], 'Survived': y_pred_model8})\n",
    "output_model8.to_csv('submission_model8.csv', index=False)\n",
    "\n",
    "# Check contents of submission file\n",
    "submission_model8 = pd.read_csv('submission_model8.csv')\n",
    "submission_model8"
   ]
  },
  {
   "cell_type": "markdown",
   "id": "a83c488c-05a5-431e-85b5-7558e15d1056",
   "metadata": {},
   "source": [
    "According to Kaggle, the test set accuracy of this model is 0.75119."
   ]
  },
  {
   "cell_type": "markdown",
   "id": "d48e4694-688a-4a2e-bd50-549aa5f36a19",
   "metadata": {},
   "source": [
    "## Model 9 - Random Forest Classifier, 12 Features, With Cross-Validation, No Hyperparameter Tuning"
   ]
  },
  {
   "cell_type": "code",
   "execution_count": 784,
   "id": "d1d7f6bd-cab9-4607-bb7f-b383affeca2c",
   "metadata": {},
   "outputs": [
    {
     "name": "stdout",
     "output_type": "stream",
     "text": [
      "Cross-validation accuracies: [0.83798883 0.79213483 0.8258427  0.78651685 0.83146067]\n",
      "\n",
      "\n",
      "Mean cross-validation accuracy: 0.8147887765990836\n",
      "\n",
      "\n",
      "       Feature  Importance  Cumulative_Importance\n",
      "0        Title    0.207566               0.207566\n",
      "1          Sex    0.150230               0.357795\n",
      "2       Pclass    0.133227               0.491022\n",
      "3         IsMr    0.099615               0.590638\n",
      "4    FareGroup    0.095278               0.685915\n",
      "5     AgeGroup    0.086592               0.772508\n",
      "6   FamilySize    0.079024               0.851531\n",
      "7     Embarked    0.052919               0.904451\n",
      "8        SibSp    0.049255               0.953706\n",
      "9        Parch    0.031240               0.984946\n",
      "10     IsAlone    0.012319               0.997265\n",
      "11   IsElderly    0.002735               1.000000\n",
      "\n",
      "\n",
      "Features accounting for 95% of model's predictive power:\n",
      "['Title', 'Sex', 'Pclass', 'IsMr', 'FareGroup', 'AgeGroup', 'FamilySize', 'Embarked', 'SibSp']\n",
      "\n",
      "\n",
      "Training set accuracy: 0.8922558922558923\n"
     ]
    }
   ],
   "source": [
    "# Select features to be used\n",
    "features_model9 = ['Pclass', 'Sex', 'SibSp', 'Parch', 'Embarked', 'Title', 'IsMr',\n",
    "       'AgeGroup', 'IsElderly', 'FamilySize', 'IsAlone', 'FareGroup']\n",
    "\n",
    "# Define training and test sets\n",
    "X_train_model9 = X_train[features_model9]\n",
    "y_train_model9 = y_train\n",
    "X_test_model9 = X_test[features_model9]\n",
    "\n",
    "# Instantiate model\n",
    "model9 = RandomForestClassifier(random_state=42)\n",
    "\n",
    "# Initialize cross-validation splitter\n",
    "cv_model9 = KFold(n_splits=5, shuffle=True, random_state=42)\n",
    "\n",
    "# Perform cross-validation\n",
    "cv_score_model9 = cross_val_score(model9, X_train_model9, y_train_model9, cv=cv_model9, scoring='accuracy')\n",
    "print(\"Cross-validation accuracies:\", cv_score_model9)\n",
    "print(\"\\n\")\n",
    "\n",
    "cv_score_mean_model9 = cv_score_model9.mean()\n",
    "print(\"Mean cross-validation accuracy:\", cv_score_mean_model9)\n",
    "print(\"\\n\")\n",
    "\n",
    "# Train model on the entire training set\n",
    "model9.fit(X_train_model9, y_train_model9)\n",
    "\n",
    "# Get the feature importances of the model\n",
    "feature_importances_model9 = model9.feature_importances_\n",
    "\n",
    "# Create a DataFrame to store feature names and corresponding feature importances\n",
    "importance_df_model9 = pd.DataFrame({'Feature': X_train_model9.columns, 'Importance': feature_importances_model9})\n",
    "\n",
    "# Sort the feature importances to identify the most important features\n",
    "importance_df_model9 = importance_df_model9.sort_values(by='Importance', ascending=False).reset_index(drop=True)\n",
    "\n",
    "# Calculate cumulative sum of feature importances\n",
    "importance_df_model9['Cumulative_Importance'] = importance_df_model9['Importance'].cumsum()\n",
    "\n",
    "# Print feature importances\n",
    "print(importance_df_model9)\n",
    "print(\"\\n\")\n",
    "\n",
    "# Find features accounting for 95% of model's predictive power\n",
    "most_important_features_model9 = []\n",
    "\n",
    "for index, row in importance_df_model9.iterrows():\n",
    "    if row['Cumulative_Importance'] <= 0.95:\n",
    "        most_important_features_model9.append(row['Feature'])\n",
    "    elif index > 0 and importance_df_model9.iloc[index - 1]['Cumulative_Importance'] < 0.95:\n",
    "        most_important_features_model9.append(row['Feature'])\n",
    "    else:\n",
    "        break\n",
    "\n",
    "# List features accounting for 95% of model's predictive power\n",
    "print(\"Features accounting for 95% of model's predictive power:\")\n",
    "print(most_important_features_model9)\n",
    "print(\"\\n\")\n",
    "\n",
    "# Compute training set accuracy\n",
    "train_accuracy_model9 = model9.score(X_train_model9, y_train_model9)\n",
    "\n",
    "# Print training set accuracy\n",
    "print(\"Training set accuracy:\", train_accuracy_model9)\n",
    "\n",
    "# Predict on the test set using the model\n",
    "y_pred_model9 = model9.predict(X_test_model9)"
   ]
  },
  {
   "cell_type": "code",
   "execution_count": 785,
   "id": "62073f91-cd01-43c4-808d-caf8163c43ec",
   "metadata": {},
   "outputs": [
    {
     "data": {
      "text/html": [
       "<div>\n",
       "<style scoped>\n",
       "    .dataframe tbody tr th:only-of-type {\n",
       "        vertical-align: middle;\n",
       "    }\n",
       "\n",
       "    .dataframe tbody tr th {\n",
       "        vertical-align: top;\n",
       "    }\n",
       "\n",
       "    .dataframe thead th {\n",
       "        text-align: right;\n",
       "    }\n",
       "</style>\n",
       "<table border=\"1\" class=\"dataframe\">\n",
       "  <thead>\n",
       "    <tr style=\"text-align: right;\">\n",
       "      <th></th>\n",
       "      <th>PassengerId</th>\n",
       "      <th>Survived</th>\n",
       "    </tr>\n",
       "  </thead>\n",
       "  <tbody>\n",
       "    <tr>\n",
       "      <th>0</th>\n",
       "      <td>892</td>\n",
       "      <td>0</td>\n",
       "    </tr>\n",
       "    <tr>\n",
       "      <th>1</th>\n",
       "      <td>893</td>\n",
       "      <td>0</td>\n",
       "    </tr>\n",
       "    <tr>\n",
       "      <th>2</th>\n",
       "      <td>894</td>\n",
       "      <td>0</td>\n",
       "    </tr>\n",
       "    <tr>\n",
       "      <th>3</th>\n",
       "      <td>895</td>\n",
       "      <td>0</td>\n",
       "    </tr>\n",
       "    <tr>\n",
       "      <th>4</th>\n",
       "      <td>896</td>\n",
       "      <td>0</td>\n",
       "    </tr>\n",
       "    <tr>\n",
       "      <th>...</th>\n",
       "      <td>...</td>\n",
       "      <td>...</td>\n",
       "    </tr>\n",
       "    <tr>\n",
       "      <th>413</th>\n",
       "      <td>1305</td>\n",
       "      <td>0</td>\n",
       "    </tr>\n",
       "    <tr>\n",
       "      <th>414</th>\n",
       "      <td>1306</td>\n",
       "      <td>1</td>\n",
       "    </tr>\n",
       "    <tr>\n",
       "      <th>415</th>\n",
       "      <td>1307</td>\n",
       "      <td>0</td>\n",
       "    </tr>\n",
       "    <tr>\n",
       "      <th>416</th>\n",
       "      <td>1308</td>\n",
       "      <td>0</td>\n",
       "    </tr>\n",
       "    <tr>\n",
       "      <th>417</th>\n",
       "      <td>1309</td>\n",
       "      <td>1</td>\n",
       "    </tr>\n",
       "  </tbody>\n",
       "</table>\n",
       "<p>418 rows × 2 columns</p>\n",
       "</div>"
      ],
      "text/plain": [
       "     PassengerId  Survived\n",
       "0            892         0\n",
       "1            893         0\n",
       "2            894         0\n",
       "3            895         0\n",
       "4            896         0\n",
       "..           ...       ...\n",
       "413         1305         0\n",
       "414         1306         1\n",
       "415         1307         0\n",
       "416         1308         0\n",
       "417         1309         1\n",
       "\n",
       "[418 rows x 2 columns]"
      ]
     },
     "execution_count": 785,
     "metadata": {},
     "output_type": "execute_result"
    }
   ],
   "source": [
    "# Create submission file\n",
    "output_model9 = pd.DataFrame({'PassengerId': test_data['PassengerId'], 'Survived': y_pred_model9})\n",
    "output_model9.to_csv('submission_model9.csv', index=False)\n",
    "\n",
    "# Check contents of submission file\n",
    "submission_model9 = pd.read_csv('submission_model9.csv')\n",
    "submission_model9"
   ]
  },
  {
   "cell_type": "markdown",
   "id": "028a7269-5c1b-498b-b2d6-bf0443d2f1dc",
   "metadata": {},
   "source": [
    "According to Kaggle, the test set accuracy of this model is 0.74880."
   ]
  },
  {
   "cell_type": "markdown",
   "id": "e7ba1ea3-e914-4607-a544-d34a8b81b454",
   "metadata": {},
   "source": [
    "## Model 10 - Gradient Boosting Classifier, 12 Features, With Cross-Validation, No Hyperparameter Tuning"
   ]
  },
  {
   "cell_type": "code",
   "execution_count": 786,
   "id": "3abec4b6-2616-40ca-b9d3-7e3481ad58b9",
   "metadata": {},
   "outputs": [
    {
     "name": "stdout",
     "output_type": "stream",
     "text": [
      "Cross-validation accuracies: [0.83240223 0.81460674 0.85393258 0.80337079 0.84831461]\n",
      "\n",
      "\n",
      "Mean cross-validation accuracy: 0.830525390747599\n",
      "\n",
      "\n",
      "       Feature  Importance  Cumulative_Importance\n",
      "0        Title    0.565825               0.565825\n",
      "1       Pclass    0.226558               0.792382\n",
      "2   FamilySize    0.093899               0.886281\n",
      "3    FareGroup    0.037379               0.923660\n",
      "4     AgeGroup    0.021617               0.945277\n",
      "5     Embarked    0.016640               0.961917\n",
      "6        SibSp    0.015070               0.976987\n",
      "7          Sex    0.013379               0.990366\n",
      "8         IsMr    0.004591               0.994957\n",
      "9        Parch    0.003388               0.998344\n",
      "10   IsElderly    0.000934               0.999278\n",
      "11     IsAlone    0.000722               1.000000\n",
      "\n",
      "\n",
      "Features accounting for 95% of model's predictive power:\n",
      "['Title', 'Pclass', 'FamilySize', 'FareGroup', 'AgeGroup', 'Embarked']\n",
      "\n",
      "\n",
      "Training set accuracy: 0.8529741863075196\n"
     ]
    }
   ],
   "source": [
    "# Select features to be used\n",
    "features_model10 = ['Pclass', 'Sex', 'SibSp', 'Parch', 'Embarked', 'Title', 'IsMr',\n",
    "       'AgeGroup', 'IsElderly', 'FamilySize', 'IsAlone', 'FareGroup']\n",
    "\n",
    "# Define training and test sets\n",
    "X_train_model10 = X_train[features_model10]\n",
    "y_train_model10 = y_train\n",
    "X_test_model10 = X_test[features_model10]\n",
    "\n",
    "# Instantiate model\n",
    "model10 = GradientBoostingClassifier(random_state=42)\n",
    "\n",
    "# Initialize cross-validation splitter\n",
    "cv_model10 = KFold(n_splits=5, shuffle=True, random_state=42)\n",
    "\n",
    "# Perform cross-validation\n",
    "cv_score_model10 = cross_val_score(model10, X_train_model10, y_train_model10, cv=cv_model10, scoring='accuracy')\n",
    "print(\"Cross-validation accuracies:\", cv_score_model10)\n",
    "print(\"\\n\")\n",
    "\n",
    "cv_score_mean_model10 = cv_score_model10.mean()\n",
    "print(\"Mean cross-validation accuracy:\", cv_score_mean_model10)\n",
    "print(\"\\n\")\n",
    "\n",
    "# Train model on the entire training set\n",
    "model10.fit(X_train_model10, y_train_model10)\n",
    "\n",
    "# Get the feature importances of the model\n",
    "feature_importances_model10 = model10.feature_importances_\n",
    "\n",
    "# Create a DataFrame to store feature names and corresponding feature importances\n",
    "importance_df_model10 = pd.DataFrame({'Feature': X_train_model10.columns, 'Importance': feature_importances_model10})\n",
    "\n",
    "# Sort the feature importances to identify the most important features\n",
    "importance_df_model10 = importance_df_model10.sort_values(by='Importance', ascending=False).reset_index(drop=True)\n",
    "\n",
    "# Calculate cumulative sum of feature importances\n",
    "importance_df_model10['Cumulative_Importance'] = importance_df_model10['Importance'].cumsum()\n",
    "\n",
    "# Print feature importances\n",
    "print(importance_df_model10)\n",
    "print(\"\\n\")\n",
    "\n",
    "# Find features accounting for 95% of model's predictive power\n",
    "most_important_features_model10 = []\n",
    "\n",
    "for index, row in importance_df_model10.iterrows():\n",
    "    if row['Cumulative_Importance'] <= 0.95:\n",
    "        most_important_features_model10.append(row['Feature'])\n",
    "    elif index > 0 and importance_df_model10.iloc[index - 1]['Cumulative_Importance'] < 0.95:\n",
    "        most_important_features_model10.append(row['Feature'])\n",
    "    else:\n",
    "        break\n",
    "\n",
    "# List features accounting for 95% of model's predictive power\n",
    "print(\"Features accounting for 95% of model's predictive power:\")\n",
    "print(most_important_features_model10)\n",
    "print(\"\\n\")\n",
    "\n",
    "# Compute training set accuracy\n",
    "train_accuracy_model10 = model10.score(X_train_model10, y_train_model10)\n",
    "\n",
    "# Print training set accuracy\n",
    "print(\"Training set accuracy:\", train_accuracy_model10)\n",
    "\n",
    "# Predict on the test set using the model\n",
    "y_pred_model10 = model10.predict(X_test_model10)"
   ]
  },
  {
   "cell_type": "code",
   "execution_count": 787,
   "id": "d0212b78-d2fd-45ed-bf67-5fef4d84a89a",
   "metadata": {},
   "outputs": [
    {
     "data": {
      "text/html": [
       "<div>\n",
       "<style scoped>\n",
       "    .dataframe tbody tr th:only-of-type {\n",
       "        vertical-align: middle;\n",
       "    }\n",
       "\n",
       "    .dataframe tbody tr th {\n",
       "        vertical-align: top;\n",
       "    }\n",
       "\n",
       "    .dataframe thead th {\n",
       "        text-align: right;\n",
       "    }\n",
       "</style>\n",
       "<table border=\"1\" class=\"dataframe\">\n",
       "  <thead>\n",
       "    <tr style=\"text-align: right;\">\n",
       "      <th></th>\n",
       "      <th>PassengerId</th>\n",
       "      <th>Survived</th>\n",
       "    </tr>\n",
       "  </thead>\n",
       "  <tbody>\n",
       "    <tr>\n",
       "      <th>0</th>\n",
       "      <td>892</td>\n",
       "      <td>0</td>\n",
       "    </tr>\n",
       "    <tr>\n",
       "      <th>1</th>\n",
       "      <td>893</td>\n",
       "      <td>0</td>\n",
       "    </tr>\n",
       "    <tr>\n",
       "      <th>2</th>\n",
       "      <td>894</td>\n",
       "      <td>0</td>\n",
       "    </tr>\n",
       "    <tr>\n",
       "      <th>3</th>\n",
       "      <td>895</td>\n",
       "      <td>0</td>\n",
       "    </tr>\n",
       "    <tr>\n",
       "      <th>4</th>\n",
       "      <td>896</td>\n",
       "      <td>0</td>\n",
       "    </tr>\n",
       "    <tr>\n",
       "      <th>...</th>\n",
       "      <td>...</td>\n",
       "      <td>...</td>\n",
       "    </tr>\n",
       "    <tr>\n",
       "      <th>413</th>\n",
       "      <td>1305</td>\n",
       "      <td>0</td>\n",
       "    </tr>\n",
       "    <tr>\n",
       "      <th>414</th>\n",
       "      <td>1306</td>\n",
       "      <td>1</td>\n",
       "    </tr>\n",
       "    <tr>\n",
       "      <th>415</th>\n",
       "      <td>1307</td>\n",
       "      <td>0</td>\n",
       "    </tr>\n",
       "    <tr>\n",
       "      <th>416</th>\n",
       "      <td>1308</td>\n",
       "      <td>0</td>\n",
       "    </tr>\n",
       "    <tr>\n",
       "      <th>417</th>\n",
       "      <td>1309</td>\n",
       "      <td>1</td>\n",
       "    </tr>\n",
       "  </tbody>\n",
       "</table>\n",
       "<p>418 rows × 2 columns</p>\n",
       "</div>"
      ],
      "text/plain": [
       "     PassengerId  Survived\n",
       "0            892         0\n",
       "1            893         0\n",
       "2            894         0\n",
       "3            895         0\n",
       "4            896         0\n",
       "..           ...       ...\n",
       "413         1305         0\n",
       "414         1306         1\n",
       "415         1307         0\n",
       "416         1308         0\n",
       "417         1309         1\n",
       "\n",
       "[418 rows x 2 columns]"
      ]
     },
     "execution_count": 787,
     "metadata": {},
     "output_type": "execute_result"
    }
   ],
   "source": [
    "# Create submission file\n",
    "output_model10 = pd.DataFrame({'PassengerId': test_data['PassengerId'], 'Survived': y_pred_model10})\n",
    "output_model10.to_csv('submission_model10.csv', index=False)\n",
    "\n",
    "# Check contents of submission file\n",
    "submission_model10 = pd.read_csv('submission_model10.csv')\n",
    "submission_model10"
   ]
  },
  {
   "cell_type": "markdown",
   "id": "8c61256a-e7c5-4170-964f-b051d16f6d2c",
   "metadata": {},
   "source": [
    "According to Kaggle, the test set accuracy of this model is 0.76794."
   ]
  },
  {
   "cell_type": "markdown",
   "id": "bdf03926-57ab-4755-a04c-e4c864f9e0ea",
   "metadata": {},
   "source": [
    "## Model 11 - Logistic Regression, 12 Features, With Cross-Validation, With Hyperparameter Tuning"
   ]
  },
  {
   "cell_type": "code",
   "execution_count": 788,
   "id": "5f23a8c4-1891-403a-84bc-84570f7dbe13",
   "metadata": {},
   "outputs": [
    {
     "name": "stdout",
     "output_type": "stream",
     "text": [
      "Best Parameters: {'solver': 'saga', 'max_iter': 300, 'C': 0.1}\n",
      "\n",
      "\n",
      "Cross-validation accuracies: [0.79329609 0.81460674 0.85955056 0.78089888 0.83146067]\n",
      "\n",
      "\n",
      "Mean cross-validation accuracy: 0.8159625886636117\n",
      "\n",
      "\n",
      "       Feature  Coefficient\n",
      "0       Pclass    -0.767835\n",
      "1        Title    -0.737206\n",
      "2     AgeGroup    -0.420876\n",
      "3         IsMr    -0.364651\n",
      "4   FamilySize    -0.279447\n",
      "5    FareGroup     0.271668\n",
      "6        SibSp    -0.227039\n",
      "7      IsAlone    -0.212837\n",
      "8     Embarked     0.210870\n",
      "9          Sex     0.073087\n",
      "10       Parch    -0.062609\n",
      "11   IsElderly    -0.054936\n",
      "\n",
      "\n",
      "Training set accuracy: 0.8181818181818182\n"
     ]
    }
   ],
   "source": [
    "# Select features to be used\n",
    "features_model11 = ['Pclass', 'Sex', 'SibSp', 'Parch', 'Embarked', 'Title', 'IsMr',\n",
    "       'AgeGroup', 'IsElderly', 'FamilySize', 'IsAlone', 'FareGroup']\n",
    "\n",
    "# Define training and test sets\n",
    "X_train_model11 = X_train[features_model11]\n",
    "y_train_model11 = y_train\n",
    "X_test_model11 = X_test[features_model11]\n",
    "\n",
    "# Define the hyperparameter grid\n",
    "param_grid_model11 = {\n",
    "    'C': [0.001, 0.01, 0.1, 1, 10, 100], \n",
    "    'solver': ['liblinear', 'saga'], \n",
    "    'max_iter': [100, 200, 300]\n",
    "}\n",
    "\n",
    "# Instantiate model\n",
    "model11 = LogisticRegression(random_state=42)\n",
    "\n",
    "# Initialize cross-validation splitter\n",
    "cv_model11 = KFold(n_splits=5, shuffle=True, random_state=42)\n",
    "\n",
    "# Perform randomized search with cross-validation\n",
    "random_search_model11 = RandomizedSearchCV(estimator=model11, param_distributions=param_grid_model11,\n",
    "                                          n_iter=50, cv=cv_model11, scoring='accuracy', random_state=42)\n",
    "random_search_model11.fit(X_train_model11, y_train_model11)\n",
    "\n",
    "# Get the best model from randomized search\n",
    "best_model11 = random_search_model11.best_estimator_\n",
    "\n",
    "# Print the parameters of the best model\n",
    "print(\"Best Parameters:\", random_search_model11.best_params_)\n",
    "print(\"\\n\")\n",
    "\n",
    "# Compute cross-validation score\n",
    "cv_score_model11 = cross_val_score(best_model11, X_train_model11, y_train_model11, cv=cv_model11, scoring='accuracy')\n",
    "print(\"Cross-validation accuracies:\", cv_score_model11)\n",
    "print(\"\\n\")\n",
    "\n",
    "cv_score_mean_model11 = cv_score_model11.mean()\n",
    "print(\"Mean cross-validation accuracy:\", cv_score_mean_model11)\n",
    "print(\"\\n\")\n",
    "\n",
    "# Get the coefficients of the best model\n",
    "coefficients_model11 = best_model11.coef_[0]\n",
    "\n",
    "# Create a DataFrame to store feature names and corresponding coefficients\n",
    "coefficients_df_model11 = pd.DataFrame({'Feature': X_train_model11.columns, 'Coefficient': coefficients_model11})\n",
    "\n",
    "# Sort the coefficients to identify the most important features\n",
    "coefficients_df_model11 = coefficients_df_model11.reindex(coefficients_df_model11['Coefficient'].abs().sort_values(ascending=False).index).reset_index(drop=True)\n",
    "\n",
    "# Print coefficients\n",
    "print(coefficients_df_model11)\n",
    "print(\"\\n\")\n",
    "\n",
    "# Compute training set accuracy\n",
    "train_accuracy_model11 = best_model11.score(X_train_model11, y_train_model11)\n",
    "\n",
    "# Print training set accuracy\n",
    "print(\"Training set accuracy:\", train_accuracy_model11)\n",
    "\n",
    "# Predict on the test set using the best model\n",
    "y_pred_model11 = best_model11.predict(X_test_model11)"
   ]
  },
  {
   "cell_type": "code",
   "execution_count": 789,
   "id": "227d124d-4279-4bbb-9d63-c1654701f6c8",
   "metadata": {},
   "outputs": [
    {
     "data": {
      "text/html": [
       "<div>\n",
       "<style scoped>\n",
       "    .dataframe tbody tr th:only-of-type {\n",
       "        vertical-align: middle;\n",
       "    }\n",
       "\n",
       "    .dataframe tbody tr th {\n",
       "        vertical-align: top;\n",
       "    }\n",
       "\n",
       "    .dataframe thead th {\n",
       "        text-align: right;\n",
       "    }\n",
       "</style>\n",
       "<table border=\"1\" class=\"dataframe\">\n",
       "  <thead>\n",
       "    <tr style=\"text-align: right;\">\n",
       "      <th></th>\n",
       "      <th>PassengerId</th>\n",
       "      <th>Survived</th>\n",
       "    </tr>\n",
       "  </thead>\n",
       "  <tbody>\n",
       "    <tr>\n",
       "      <th>0</th>\n",
       "      <td>892</td>\n",
       "      <td>0</td>\n",
       "    </tr>\n",
       "    <tr>\n",
       "      <th>1</th>\n",
       "      <td>893</td>\n",
       "      <td>1</td>\n",
       "    </tr>\n",
       "    <tr>\n",
       "      <th>2</th>\n",
       "      <td>894</td>\n",
       "      <td>0</td>\n",
       "    </tr>\n",
       "    <tr>\n",
       "      <th>3</th>\n",
       "      <td>895</td>\n",
       "      <td>0</td>\n",
       "    </tr>\n",
       "    <tr>\n",
       "      <th>4</th>\n",
       "      <td>896</td>\n",
       "      <td>1</td>\n",
       "    </tr>\n",
       "    <tr>\n",
       "      <th>...</th>\n",
       "      <td>...</td>\n",
       "      <td>...</td>\n",
       "    </tr>\n",
       "    <tr>\n",
       "      <th>413</th>\n",
       "      <td>1305</td>\n",
       "      <td>0</td>\n",
       "    </tr>\n",
       "    <tr>\n",
       "      <th>414</th>\n",
       "      <td>1306</td>\n",
       "      <td>1</td>\n",
       "    </tr>\n",
       "    <tr>\n",
       "      <th>415</th>\n",
       "      <td>1307</td>\n",
       "      <td>0</td>\n",
       "    </tr>\n",
       "    <tr>\n",
       "      <th>416</th>\n",
       "      <td>1308</td>\n",
       "      <td>0</td>\n",
       "    </tr>\n",
       "    <tr>\n",
       "      <th>417</th>\n",
       "      <td>1309</td>\n",
       "      <td>0</td>\n",
       "    </tr>\n",
       "  </tbody>\n",
       "</table>\n",
       "<p>418 rows × 2 columns</p>\n",
       "</div>"
      ],
      "text/plain": [
       "     PassengerId  Survived\n",
       "0            892         0\n",
       "1            893         1\n",
       "2            894         0\n",
       "3            895         0\n",
       "4            896         1\n",
       "..           ...       ...\n",
       "413         1305         0\n",
       "414         1306         1\n",
       "415         1307         0\n",
       "416         1308         0\n",
       "417         1309         0\n",
       "\n",
       "[418 rows x 2 columns]"
      ]
     },
     "execution_count": 789,
     "metadata": {},
     "output_type": "execute_result"
    }
   ],
   "source": [
    "# Create submission file\n",
    "output_model11 = pd.DataFrame({'PassengerId': test_data['PassengerId'], 'Survived': y_pred_model11})\n",
    "output_model11.to_csv('submission_model11.csv', index=False)\n",
    "\n",
    "# Check contents of submission file\n",
    "submission_model11 = pd.read_csv('submission_model11.csv')\n",
    "submission_model11"
   ]
  },
  {
   "cell_type": "markdown",
   "id": "fa3bec8e-cd49-42b9-8b46-eb65799e5dab",
   "metadata": {},
   "source": [
    "According to Kaggle, the test set accuracy of this model is 0.78947."
   ]
  },
  {
   "cell_type": "markdown",
   "id": "273cc799-1796-4acb-b3d2-cdca4e41313a",
   "metadata": {},
   "source": [
    "## Model 12 - K-Nearest Neighbors Classifier, 12 Features, With Cross-Validation, With Hyperparameter Tuning"
   ]
  },
  {
   "cell_type": "code",
   "execution_count": 790,
   "id": "f3190bfa-97ca-4f2b-bc43-cb9103e60a86",
   "metadata": {},
   "outputs": [
    {
     "name": "stdout",
     "output_type": "stream",
     "text": [
      "Best Parameters: {'weights': 'uniform', 'n_neighbors': 15, 'algorithm': 'auto'}\n",
      "\n",
      "\n",
      "Cross-validation accuracies: [0.81005587 0.81460674 0.85955056 0.80898876 0.83146067]\n",
      "\n",
      "\n",
      "Mean cross-validation accuracy: 0.8249325214989642\n",
      "\n",
      "\n",
      "Training set accuracy: 0.8406285072951739\n"
     ]
    }
   ],
   "source": [
    "# Select features to be used\n",
    "features_model12 = ['Pclass', 'Sex', 'SibSp', 'Parch', 'Embarked', 'Title', 'IsMr',\n",
    "       'AgeGroup', 'IsElderly', 'FamilySize', 'IsAlone', 'FareGroup']\n",
    "\n",
    "# Define training and test sets\n",
    "X_train_model12 = X_train[features_model12]\n",
    "y_train_model12 = y_train\n",
    "X_test_model12 = X_test[features_model12]\n",
    "\n",
    "# Define the hyperparameter grid\n",
    "param_grid_model12 = {\n",
    "    'n_neighbors': [5, 10, 15],\n",
    "    'weights': ['uniform', 'distance'],\n",
    "    'algorithm': ['auto', 'ball_tree', 'kd_tree', 'brute']\n",
    "}\n",
    "\n",
    "# Instantiate model\n",
    "model12 = KNeighborsClassifier()\n",
    "\n",
    "# Initialize cross-validation splitter\n",
    "cv_model12 = KFold(n_splits=5, shuffle=True, random_state=42)\n",
    "\n",
    "# Perform randomized search with cross-validation\n",
    "random_search_model12 = RandomizedSearchCV(estimator=model12, param_distributions=param_grid_model12,\n",
    "                                          n_iter=50, cv=cv_model12, scoring='accuracy', random_state=42)\n",
    "random_search_model12.fit(X_train_model12, y_train_model12)\n",
    "\n",
    "# Get the best model from randomized search\n",
    "best_model12 = random_search_model12.best_estimator_\n",
    "\n",
    "# Print the parameters of the best model\n",
    "print(\"Best Parameters:\", random_search_model12.best_params_)\n",
    "print(\"\\n\")\n",
    "\n",
    "# Compute cross-validation score\n",
    "cv_score_model12 = cross_val_score(best_model12, X_train_model12, y_train_model12, cv=cv_model12, scoring='accuracy')\n",
    "print(\"Cross-validation accuracies:\", cv_score_model12)\n",
    "print(\"\\n\")\n",
    "\n",
    "cv_score_mean_model12 = cv_score_model12.mean()\n",
    "print(\"Mean cross-validation accuracy:\", cv_score_mean_model12)\n",
    "print(\"\\n\")\n",
    "\n",
    "# Compute training set accuracy\n",
    "train_accuracy_model12 = best_model12.score(X_train_model12, y_train_model12)\n",
    "\n",
    "# Print training set accuracy\n",
    "print(\"Training set accuracy:\", train_accuracy_model12)\n",
    "\n",
    "# Predict on the test set using the best model\n",
    "y_pred_model12 = best_model12.predict(X_test_model12)"
   ]
  },
  {
   "cell_type": "code",
   "execution_count": 791,
   "id": "75adcba8-2055-422c-997f-c847dd9e89d9",
   "metadata": {},
   "outputs": [
    {
     "data": {
      "text/html": [
       "<div>\n",
       "<style scoped>\n",
       "    .dataframe tbody tr th:only-of-type {\n",
       "        vertical-align: middle;\n",
       "    }\n",
       "\n",
       "    .dataframe tbody tr th {\n",
       "        vertical-align: top;\n",
       "    }\n",
       "\n",
       "    .dataframe thead th {\n",
       "        text-align: right;\n",
       "    }\n",
       "</style>\n",
       "<table border=\"1\" class=\"dataframe\">\n",
       "  <thead>\n",
       "    <tr style=\"text-align: right;\">\n",
       "      <th></th>\n",
       "      <th>PassengerId</th>\n",
       "      <th>Survived</th>\n",
       "    </tr>\n",
       "  </thead>\n",
       "  <tbody>\n",
       "    <tr>\n",
       "      <th>0</th>\n",
       "      <td>892</td>\n",
       "      <td>0</td>\n",
       "    </tr>\n",
       "    <tr>\n",
       "      <th>1</th>\n",
       "      <td>893</td>\n",
       "      <td>0</td>\n",
       "    </tr>\n",
       "    <tr>\n",
       "      <th>2</th>\n",
       "      <td>894</td>\n",
       "      <td>0</td>\n",
       "    </tr>\n",
       "    <tr>\n",
       "      <th>3</th>\n",
       "      <td>895</td>\n",
       "      <td>0</td>\n",
       "    </tr>\n",
       "    <tr>\n",
       "      <th>4</th>\n",
       "      <td>896</td>\n",
       "      <td>1</td>\n",
       "    </tr>\n",
       "    <tr>\n",
       "      <th>...</th>\n",
       "      <td>...</td>\n",
       "      <td>...</td>\n",
       "    </tr>\n",
       "    <tr>\n",
       "      <th>413</th>\n",
       "      <td>1305</td>\n",
       "      <td>0</td>\n",
       "    </tr>\n",
       "    <tr>\n",
       "      <th>414</th>\n",
       "      <td>1306</td>\n",
       "      <td>1</td>\n",
       "    </tr>\n",
       "    <tr>\n",
       "      <th>415</th>\n",
       "      <td>1307</td>\n",
       "      <td>0</td>\n",
       "    </tr>\n",
       "    <tr>\n",
       "      <th>416</th>\n",
       "      <td>1308</td>\n",
       "      <td>0</td>\n",
       "    </tr>\n",
       "    <tr>\n",
       "      <th>417</th>\n",
       "      <td>1309</td>\n",
       "      <td>1</td>\n",
       "    </tr>\n",
       "  </tbody>\n",
       "</table>\n",
       "<p>418 rows × 2 columns</p>\n",
       "</div>"
      ],
      "text/plain": [
       "     PassengerId  Survived\n",
       "0            892         0\n",
       "1            893         0\n",
       "2            894         0\n",
       "3            895         0\n",
       "4            896         1\n",
       "..           ...       ...\n",
       "413         1305         0\n",
       "414         1306         1\n",
       "415         1307         0\n",
       "416         1308         0\n",
       "417         1309         1\n",
       "\n",
       "[418 rows x 2 columns]"
      ]
     },
     "execution_count": 791,
     "metadata": {},
     "output_type": "execute_result"
    }
   ],
   "source": [
    "# Create submission file\n",
    "output_model12 = pd.DataFrame({'PassengerId': test_data['PassengerId'], 'Survived': y_pred_model12})\n",
    "output_model12.to_csv('submission_model12.csv', index=False)\n",
    "\n",
    "# Check contents of submission file\n",
    "submission_model12 = pd.read_csv('submission_model12.csv')\n",
    "submission_model12"
   ]
  },
  {
   "cell_type": "markdown",
   "id": "10cda7c0-cb0a-49ac-8e31-b455dfddba7c",
   "metadata": {},
   "source": [
    "According to Kaggle, the test set accuracy of this model is 0.75119."
   ]
  },
  {
   "cell_type": "markdown",
   "id": "5f744675-6215-4822-a137-72a9da5682ec",
   "metadata": {},
   "source": [
    "## Model 13 - Decision Tree Classifier, 12 Features, With Cross-Validation, With Hyperparameter Tuning"
   ]
  },
  {
   "cell_type": "code",
   "execution_count": 792,
   "id": "a5c101f2-0cdf-4068-9351-709888d64e49",
   "metadata": {},
   "outputs": [
    {
     "name": "stdout",
     "output_type": "stream",
     "text": [
      "Best Parameters: {'min_samples_split': 5, 'min_samples_leaf': 2, 'max_features': None, 'max_depth': 3}\n",
      "\n",
      "\n",
      "Cross-validation accuracies: [0.82681564 0.8258427  0.85393258 0.7752809  0.83146067]\n",
      "\n",
      "\n",
      "Mean cross-validation accuracy: 0.822666499278137\n",
      "\n",
      "\n",
      "       Feature  Importance  Cumulative_Importance\n",
      "0        Title    0.640626               0.640626\n",
      "1       Pclass    0.250419               0.891045\n",
      "2   FamilySize    0.092015               0.983060\n",
      "3          Sex    0.011936               0.994996\n",
      "4     AgeGroup    0.003052               0.998048\n",
      "5    FareGroup    0.001952               1.000000\n",
      "6        SibSp    0.000000               1.000000\n",
      "7        Parch    0.000000               1.000000\n",
      "8     Embarked    0.000000               1.000000\n",
      "9         IsMr    0.000000               1.000000\n",
      "10   IsElderly    0.000000               1.000000\n",
      "11     IsAlone    0.000000               1.000000\n",
      "\n",
      "\n",
      "Features accounting for 95% of model's predictive power:\n",
      "['Title', 'Pclass', 'FamilySize']\n",
      "\n",
      "\n",
      "Training set accuracy: 0.835016835016835\n"
     ]
    }
   ],
   "source": [
    "# Select features to be used\n",
    "features_model13 = ['Pclass', 'Sex', 'SibSp', 'Parch', 'Embarked', 'Title', 'IsMr',\n",
    "       'AgeGroup', 'IsElderly', 'FamilySize', 'IsAlone', 'FareGroup']\n",
    "\n",
    "# Define training and test sets\n",
    "X_train_model13 = X_train[features_model13]\n",
    "y_train_model13 = y_train\n",
    "X_test_model13 = X_test[features_model13]\n",
    "\n",
    "# Define the hyperparameter grid\n",
    "param_grid_model13 = {\n",
    "    'max_depth': [3, 5, 10],\n",
    "    'min_samples_split': [2, 5, 10],\n",
    "    'min_samples_leaf': [1, 2, 4],\n",
    "    'max_features': ['sqrt', 'log2', None]\n",
    "}\n",
    "\n",
    "# Instantiate model\n",
    "model13 = DecisionTreeClassifier(random_state=42)\n",
    "\n",
    "# Initialize cross-validation splitter\n",
    "cv_model13 = KFold(n_splits=5, shuffle=True, random_state=42)\n",
    "\n",
    "# Perform randomized search with cross-validation\n",
    "random_search_model13 = RandomizedSearchCV(estimator=model13, param_distributions=param_grid_model13,\n",
    "                                          n_iter=50, cv=cv_model13, scoring='accuracy', random_state=42)\n",
    "random_search_model13.fit(X_train_model13, y_train_model13)\n",
    "\n",
    "# Get the best model from randomized search\n",
    "best_model13 = random_search_model13.best_estimator_\n",
    "\n",
    "# Print the parameters of the best model\n",
    "print(\"Best Parameters:\", random_search_model13.best_params_)\n",
    "print(\"\\n\")\n",
    "\n",
    "# Compute cross-validation score\n",
    "cv_score_model13 = cross_val_score(best_model13, X_train_model13, y_train_model13, cv=cv_model13, scoring='accuracy')\n",
    "print(\"Cross-validation accuracies:\", cv_score_model13)\n",
    "print(\"\\n\")\n",
    "\n",
    "cv_score_mean_model13 = cv_score_model13.mean()\n",
    "print(\"Mean cross-validation accuracy:\", cv_score_mean_model13)\n",
    "print(\"\\n\")\n",
    "\n",
    "# Get the feature importances of the best model\n",
    "feature_importances_model13 = best_model13.feature_importances_\n",
    "\n",
    "# Create a DataFrame to store feature names and corresponding feature importances\n",
    "importance_df_model13 = pd.DataFrame({'Feature': X_train_model13.columns, 'Importance': feature_importances_model13})\n",
    "\n",
    "# Sort the feature importances to identify the most important features\n",
    "importance_df_model13 = importance_df_model13.sort_values(by='Importance', ascending=False).reset_index(drop=True)\n",
    "\n",
    "# Calculate cumulative sum of feature importances\n",
    "importance_df_model13['Cumulative_Importance'] = importance_df_model13['Importance'].cumsum()\n",
    "\n",
    "# Print feature importances\n",
    "print(importance_df_model13)\n",
    "print(\"\\n\")\n",
    "\n",
    "# Find features accounting for 95% of model's predictive power\n",
    "most_important_features_model13 = []\n",
    "\n",
    "for index, row in importance_df_model13.iterrows():\n",
    "    if row['Cumulative_Importance'] <= 0.95:\n",
    "        most_important_features_model13.append(row['Feature'])\n",
    "    elif index > 0 and importance_df_model13.iloc[index - 1]['Cumulative_Importance'] < 0.95:\n",
    "        most_important_features_model13.append(row['Feature'])\n",
    "    else:\n",
    "        break\n",
    "\n",
    "# List features accounting for 95% of model's predictive power\n",
    "print(\"Features accounting for 95% of model's predictive power:\")\n",
    "print(most_important_features_model13)\n",
    "print(\"\\n\")\n",
    "\n",
    "# Compute training set accuracy\n",
    "train_accuracy_model13 = best_model13.score(X_train_model13, y_train_model13)\n",
    "\n",
    "# Print training set accuracy\n",
    "print(\"Training set accuracy:\", train_accuracy_model13)\n",
    "\n",
    "# Predict on the test set using the best model\n",
    "y_pred_model13 = best_model13.predict(X_test_model13)"
   ]
  },
  {
   "cell_type": "code",
   "execution_count": 793,
   "id": "1bb02a2e-600f-4d70-bbc4-0b210921e27b",
   "metadata": {},
   "outputs": [
    {
     "data": {
      "text/html": [
       "<div>\n",
       "<style scoped>\n",
       "    .dataframe tbody tr th:only-of-type {\n",
       "        vertical-align: middle;\n",
       "    }\n",
       "\n",
       "    .dataframe tbody tr th {\n",
       "        vertical-align: top;\n",
       "    }\n",
       "\n",
       "    .dataframe thead th {\n",
       "        text-align: right;\n",
       "    }\n",
       "</style>\n",
       "<table border=\"1\" class=\"dataframe\">\n",
       "  <thead>\n",
       "    <tr style=\"text-align: right;\">\n",
       "      <th></th>\n",
       "      <th>PassengerId</th>\n",
       "      <th>Survived</th>\n",
       "    </tr>\n",
       "  </thead>\n",
       "  <tbody>\n",
       "    <tr>\n",
       "      <th>0</th>\n",
       "      <td>892</td>\n",
       "      <td>0</td>\n",
       "    </tr>\n",
       "    <tr>\n",
       "      <th>1</th>\n",
       "      <td>893</td>\n",
       "      <td>1</td>\n",
       "    </tr>\n",
       "    <tr>\n",
       "      <th>2</th>\n",
       "      <td>894</td>\n",
       "      <td>0</td>\n",
       "    </tr>\n",
       "    <tr>\n",
       "      <th>3</th>\n",
       "      <td>895</td>\n",
       "      <td>0</td>\n",
       "    </tr>\n",
       "    <tr>\n",
       "      <th>4</th>\n",
       "      <td>896</td>\n",
       "      <td>1</td>\n",
       "    </tr>\n",
       "    <tr>\n",
       "      <th>...</th>\n",
       "      <td>...</td>\n",
       "      <td>...</td>\n",
       "    </tr>\n",
       "    <tr>\n",
       "      <th>413</th>\n",
       "      <td>1305</td>\n",
       "      <td>0</td>\n",
       "    </tr>\n",
       "    <tr>\n",
       "      <th>414</th>\n",
       "      <td>1306</td>\n",
       "      <td>1</td>\n",
       "    </tr>\n",
       "    <tr>\n",
       "      <th>415</th>\n",
       "      <td>1307</td>\n",
       "      <td>0</td>\n",
       "    </tr>\n",
       "    <tr>\n",
       "      <th>416</th>\n",
       "      <td>1308</td>\n",
       "      <td>0</td>\n",
       "    </tr>\n",
       "    <tr>\n",
       "      <th>417</th>\n",
       "      <td>1309</td>\n",
       "      <td>1</td>\n",
       "    </tr>\n",
       "  </tbody>\n",
       "</table>\n",
       "<p>418 rows × 2 columns</p>\n",
       "</div>"
      ],
      "text/plain": [
       "     PassengerId  Survived\n",
       "0            892         0\n",
       "1            893         1\n",
       "2            894         0\n",
       "3            895         0\n",
       "4            896         1\n",
       "..           ...       ...\n",
       "413         1305         0\n",
       "414         1306         1\n",
       "415         1307         0\n",
       "416         1308         0\n",
       "417         1309         1\n",
       "\n",
       "[418 rows x 2 columns]"
      ]
     },
     "execution_count": 793,
     "metadata": {},
     "output_type": "execute_result"
    }
   ],
   "source": [
    "# Create submission file\n",
    "output_model13 = pd.DataFrame({'PassengerId': test_data['PassengerId'], 'Survived': y_pred_model13})\n",
    "output_model13.to_csv('submission_model13.csv', index=False)\n",
    "\n",
    "# Check contents of submission file\n",
    "submission_model13 = pd.read_csv('submission_model13.csv')\n",
    "submission_model13"
   ]
  },
  {
   "cell_type": "markdown",
   "id": "c78d8b3a-d140-4bec-9cd0-184fc5217f87",
   "metadata": {},
   "source": [
    "According to Kaggle, the test set accuracy of this model is 0.77751."
   ]
  },
  {
   "cell_type": "markdown",
   "id": "1e1cb4ad-2e6e-4cd0-9062-0e70c2224d99",
   "metadata": {},
   "source": [
    "## Model 14 - Random Forest Classifier, 12 Features, With Cross-Validation, With Hyperparameter Tuning"
   ]
  },
  {
   "cell_type": "code",
   "execution_count": 794,
   "id": "49d77b1e-56b8-4b6a-8266-66fd4619340a",
   "metadata": {},
   "outputs": [
    {
     "name": "stdout",
     "output_type": "stream",
     "text": [
      "Best Parameters: {'n_estimators': 200, 'min_samples_split': 10, 'min_samples_leaf': 1, 'max_features': 'log2', 'max_depth': 10}\n",
      "\n",
      "\n",
      "Cross-validation accuracies: [0.82681564 0.82022472 0.84831461 0.80898876 0.84831461]\n",
      "\n",
      "\n",
      "Mean cross-validation accuracy: 0.8305316678174627\n",
      "\n",
      "\n",
      "       Feature  Importance  Cumulative_Importance\n",
      "0        Title    0.239557               0.239557\n",
      "1          Sex    0.159160               0.398717\n",
      "2         IsMr    0.147647               0.546364\n",
      "3       Pclass    0.143801               0.690165\n",
      "4    FareGroup    0.075443               0.765608\n",
      "5   FamilySize    0.071962               0.837569\n",
      "6     AgeGroup    0.050837               0.888406\n",
      "7        SibSp    0.043014               0.931420\n",
      "8     Embarked    0.032211               0.963631\n",
      "9        Parch    0.021628               0.985259\n",
      "10     IsAlone    0.012359               0.997618\n",
      "11   IsElderly    0.002382               1.000000\n",
      "\n",
      "\n",
      "Features accounting for 95% of model's predictive power:\n",
      "['Title', 'Sex', 'IsMr', 'Pclass', 'FareGroup', 'FamilySize', 'AgeGroup', 'SibSp', 'Embarked']\n",
      "\n",
      "\n",
      "Training set accuracy: 0.8686868686868687\n"
     ]
    }
   ],
   "source": [
    "# Select features to be used\n",
    "features_model14 = ['Pclass', 'Sex', 'SibSp', 'Parch', 'Embarked', 'Title', 'IsMr',\n",
    "       'AgeGroup', 'IsElderly', 'FamilySize', 'IsAlone', 'FareGroup']\n",
    "\n",
    "# Define training and test sets\n",
    "X_train_model14 = X_train[features_model14]\n",
    "y_train_model14 = y_train\n",
    "X_test_model14 = X_test[features_model14]\n",
    "\n",
    "# Define the hyperparameter grid\n",
    "param_grid_model14 = {\n",
    "    'n_estimators': [50, 100, 200], \n",
    "    'max_depth': [None, 10, 20, 30],\n",
    "    'min_samples_split': [2, 5, 10],\n",
    "    'min_samples_leaf': [1, 2, 4],\n",
    "    'max_features': ['sqrt', 'log2', None]\n",
    "}\n",
    "\n",
    "# Instantiate model\n",
    "model14 = RandomForestClassifier(random_state=42)\n",
    "\n",
    "# Initialize cross-validation splitter\n",
    "cv_model14 = KFold(n_splits=5, shuffle=True, random_state=42)\n",
    "\n",
    "# Perform randomized search with cross-validation\n",
    "random_search_model14 = RandomizedSearchCV(estimator=model14, param_distributions=param_grid_model14,\n",
    "                                          n_iter=50, cv=cv_model14, scoring='accuracy', random_state=42)\n",
    "random_search_model14.fit(X_train_model14, y_train_model14)\n",
    "\n",
    "# Get the best model from randomized search\n",
    "best_model14 = random_search_model14.best_estimator_\n",
    "\n",
    "# Print the parameters of the best model\n",
    "print(\"Best Parameters:\", random_search_model14.best_params_)\n",
    "print(\"\\n\")\n",
    "\n",
    "# Compute cross-validation score\n",
    "cv_score_model14 = cross_val_score(best_model14, X_train_model14, y_train_model14, cv=cv_model14, scoring='accuracy')\n",
    "print(\"Cross-validation accuracies:\", cv_score_model14)\n",
    "print(\"\\n\")\n",
    "\n",
    "cv_score_mean_model14 = cv_score_model14.mean()\n",
    "print(\"Mean cross-validation accuracy:\", cv_score_mean_model14)\n",
    "print(\"\\n\")\n",
    "\n",
    "# Get the feature importances of the best model\n",
    "feature_importances_model14 = best_model14.feature_importances_\n",
    "\n",
    "# Create a DataFrame to store feature names and corresponding feature importances\n",
    "importance_df_model14 = pd.DataFrame({'Feature': X_train_model14.columns, 'Importance': feature_importances_model14})\n",
    "\n",
    "# Sort the feature importances to identify the most important features\n",
    "importance_df_model14 = importance_df_model14.sort_values(by='Importance', ascending=False).reset_index(drop=True)\n",
    "\n",
    "# Calculate cumulative sum of feature importances\n",
    "importance_df_model14['Cumulative_Importance'] = importance_df_model14['Importance'].cumsum()\n",
    "\n",
    "# Print feature importances\n",
    "print(importance_df_model14)\n",
    "print(\"\\n\")\n",
    "\n",
    "# Find features accounting for 95% of model's predictive power\n",
    "most_important_features_model14 = []\n",
    "\n",
    "for index, row in importance_df_model14.iterrows():\n",
    "    if row['Cumulative_Importance'] <= 0.95:\n",
    "        most_important_features_model14.append(row['Feature'])\n",
    "    elif index > 0 and importance_df_model14.iloc[index - 1]['Cumulative_Importance'] < 0.95:\n",
    "        most_important_features_model14.append(row['Feature'])\n",
    "    else:\n",
    "        break\n",
    "\n",
    "# List features accounting for 95% of model's predictive power\n",
    "print(\"Features accounting for 95% of model's predictive power:\")\n",
    "print(most_important_features_model14)\n",
    "print(\"\\n\")\n",
    "\n",
    "# Compute training set accuracy\n",
    "train_accuracy_model14 = best_model14.score(X_train_model14, y_train_model14)\n",
    "\n",
    "# Print training set accuracy\n",
    "print(\"Training set accuracy:\", train_accuracy_model14)\n",
    "\n",
    "# Predict on the test set using the best model\n",
    "y_pred_model14 = best_model14.predict(X_test_model14)"
   ]
  },
  {
   "cell_type": "code",
   "execution_count": 795,
   "id": "8bdf10b8-dbe5-474b-b642-b104d76ec922",
   "metadata": {},
   "outputs": [
    {
     "data": {
      "text/html": [
       "<div>\n",
       "<style scoped>\n",
       "    .dataframe tbody tr th:only-of-type {\n",
       "        vertical-align: middle;\n",
       "    }\n",
       "\n",
       "    .dataframe tbody tr th {\n",
       "        vertical-align: top;\n",
       "    }\n",
       "\n",
       "    .dataframe thead th {\n",
       "        text-align: right;\n",
       "    }\n",
       "</style>\n",
       "<table border=\"1\" class=\"dataframe\">\n",
       "  <thead>\n",
       "    <tr style=\"text-align: right;\">\n",
       "      <th></th>\n",
       "      <th>PassengerId</th>\n",
       "      <th>Survived</th>\n",
       "    </tr>\n",
       "  </thead>\n",
       "  <tbody>\n",
       "    <tr>\n",
       "      <th>0</th>\n",
       "      <td>892</td>\n",
       "      <td>0</td>\n",
       "    </tr>\n",
       "    <tr>\n",
       "      <th>1</th>\n",
       "      <td>893</td>\n",
       "      <td>0</td>\n",
       "    </tr>\n",
       "    <tr>\n",
       "      <th>2</th>\n",
       "      <td>894</td>\n",
       "      <td>0</td>\n",
       "    </tr>\n",
       "    <tr>\n",
       "      <th>3</th>\n",
       "      <td>895</td>\n",
       "      <td>0</td>\n",
       "    </tr>\n",
       "    <tr>\n",
       "      <th>4</th>\n",
       "      <td>896</td>\n",
       "      <td>0</td>\n",
       "    </tr>\n",
       "    <tr>\n",
       "      <th>...</th>\n",
       "      <td>...</td>\n",
       "      <td>...</td>\n",
       "    </tr>\n",
       "    <tr>\n",
       "      <th>413</th>\n",
       "      <td>1305</td>\n",
       "      <td>0</td>\n",
       "    </tr>\n",
       "    <tr>\n",
       "      <th>414</th>\n",
       "      <td>1306</td>\n",
       "      <td>1</td>\n",
       "    </tr>\n",
       "    <tr>\n",
       "      <th>415</th>\n",
       "      <td>1307</td>\n",
       "      <td>0</td>\n",
       "    </tr>\n",
       "    <tr>\n",
       "      <th>416</th>\n",
       "      <td>1308</td>\n",
       "      <td>0</td>\n",
       "    </tr>\n",
       "    <tr>\n",
       "      <th>417</th>\n",
       "      <td>1309</td>\n",
       "      <td>1</td>\n",
       "    </tr>\n",
       "  </tbody>\n",
       "</table>\n",
       "<p>418 rows × 2 columns</p>\n",
       "</div>"
      ],
      "text/plain": [
       "     PassengerId  Survived\n",
       "0            892         0\n",
       "1            893         0\n",
       "2            894         0\n",
       "3            895         0\n",
       "4            896         0\n",
       "..           ...       ...\n",
       "413         1305         0\n",
       "414         1306         1\n",
       "415         1307         0\n",
       "416         1308         0\n",
       "417         1309         1\n",
       "\n",
       "[418 rows x 2 columns]"
      ]
     },
     "execution_count": 795,
     "metadata": {},
     "output_type": "execute_result"
    }
   ],
   "source": [
    "# Create submission file\n",
    "output_model14 = pd.DataFrame({'PassengerId': test_data['PassengerId'], 'Survived': y_pred_model14})\n",
    "output_model14.to_csv('submission_model14.csv', index=False)\n",
    "\n",
    "# Check contents of submission file\n",
    "submission_model14 = pd.read_csv('submission_model14.csv')\n",
    "submission_model14"
   ]
  },
  {
   "cell_type": "markdown",
   "id": "209b610e-3bc7-4598-aff0-f6bb7249d1fd",
   "metadata": {},
   "source": [
    "According to Kaggle, the test set accuracy of this model is 0.75837."
   ]
  },
  {
   "cell_type": "markdown",
   "id": "139ae26e-79e0-4485-92e3-bfe5f497e385",
   "metadata": {},
   "source": [
    "## Model 15 - Gradient Boosting Classifier, 12 Features, With Cross-Validation, With Hyperparameter Tuning"
   ]
  },
  {
   "cell_type": "code",
   "execution_count": 796,
   "id": "ba3fe9a5-b02d-40b2-9ff9-64c996663117",
   "metadata": {},
   "outputs": [
    {
     "name": "stdout",
     "output_type": "stream",
     "text": [
      "Best Parameters: {'n_estimators': 200, 'min_samples_split': 2, 'min_samples_leaf': 2, 'max_features': None, 'max_depth': 3, 'learning_rate': 0.01}\n",
      "\n",
      "\n",
      "Cross-validation accuracies: [0.82681564 0.8258427  0.86516854 0.80337079 0.83707865]\n",
      "\n",
      "\n",
      "Mean cross-validation accuracy: 0.8316552633230808\n",
      "\n",
      "\n",
      "       Feature  Importance  Cumulative_Importance\n",
      "0        Title    0.622659               0.622659\n",
      "1       Pclass    0.243540               0.866199\n",
      "2   FamilySize    0.085936               0.952135\n",
      "3    FareGroup    0.012977               0.965113\n",
      "4     Embarked    0.010513               0.975625\n",
      "5          Sex    0.010098               0.985724\n",
      "6     AgeGroup    0.008598               0.994321\n",
      "7         IsMr    0.003674               0.997995\n",
      "8        Parch    0.001206               0.999201\n",
      "9      IsAlone    0.000547               0.999748\n",
      "10       SibSp    0.000252               1.000000\n",
      "11   IsElderly    0.000000               1.000000\n",
      "\n",
      "\n",
      "Features accounting for 95% of model's predictive power:\n",
      "['Title', 'Pclass', 'FamilySize']\n",
      "\n",
      "\n",
      "Training set accuracy: 0.835016835016835\n"
     ]
    }
   ],
   "source": [
    "# Select features to be used\n",
    "features_model15 = ['Pclass', 'Sex', 'SibSp', 'Parch', 'Embarked', 'Title', 'IsMr',\n",
    "       'AgeGroup', 'IsElderly', 'FamilySize', 'IsAlone', 'FareGroup']\n",
    "\n",
    "# Define training and test sets\n",
    "X_train_model15 = X_train[features_model15]\n",
    "y_train_model15 = y_train\n",
    "X_test_model15 = X_test[features_model15]\n",
    "\n",
    "# Define the hyperparameter grid\n",
    "param_grid_model15 = {\n",
    "    'n_estimators': [50, 100, 200], \n",
    "    'learning_rate': [0.01, 0.1, 0.2],\n",
    "    'max_depth': [3, 5, 10],\n",
    "    'min_samples_split': [2, 5, 10],\n",
    "    'min_samples_leaf': [1, 2, 4],\n",
    "    'max_features': ['sqrt', 'log2', None]\n",
    "}\n",
    "\n",
    "# Instantiate model\n",
    "model15 = GradientBoostingClassifier(random_state=42)\n",
    "\n",
    "# Initialize cross-validation splitter\n",
    "cv_model15 = KFold(n_splits=5, shuffle=True, random_state=42)\n",
    "\n",
    "# Perform randomized search with cross-validation\n",
    "random_search_model15 = RandomizedSearchCV(estimator=model15, param_distributions=param_grid_model15,\n",
    "                                          n_iter=50, cv=cv_model15, scoring='accuracy', random_state=42)\n",
    "random_search_model15.fit(X_train_model15, y_train_model15)\n",
    "\n",
    "# Get the best model from randomized search\n",
    "best_model15 = random_search_model15.best_estimator_\n",
    "\n",
    "# Print the parameters of the best model\n",
    "print(\"Best Parameters:\", random_search_model15.best_params_)\n",
    "print(\"\\n\")\n",
    "\n",
    "# Compute cross-validation score\n",
    "cv_score_model15 = cross_val_score(best_model15, X_train_model15, y_train_model15, cv=cv_model15, scoring='accuracy')\n",
    "print(\"Cross-validation accuracies:\", cv_score_model15)\n",
    "print(\"\\n\")\n",
    "\n",
    "cv_score_mean_model15 = cv_score_model15.mean()\n",
    "print(\"Mean cross-validation accuracy:\", cv_score_mean_model15)\n",
    "print(\"\\n\")\n",
    "\n",
    "# Get the feature importances of the best model\n",
    "feature_importances_model15 = best_model15.feature_importances_\n",
    "\n",
    "# Create a DataFrame to store feature names and corresponding feature importances\n",
    "importance_df_model15 = pd.DataFrame({'Feature': X_train_model15.columns, 'Importance': feature_importances_model15})\n",
    "\n",
    "# Sort the feature importances to identify the most important features\n",
    "importance_df_model15 = importance_df_model15.sort_values(by='Importance', ascending=False).reset_index(drop=True)\n",
    "\n",
    "# Calculate cumulative sum of feature importances\n",
    "importance_df_model15['Cumulative_Importance'] = importance_df_model15['Importance'].cumsum()\n",
    "\n",
    "# Print feature importances\n",
    "print(importance_df_model15)\n",
    "print(\"\\n\")\n",
    "\n",
    "# Find features accounting for 95% of model's predictive power\n",
    "most_important_features_model15 = []\n",
    "\n",
    "for index, row in importance_df_model15.iterrows():\n",
    "    if row['Cumulative_Importance'] <= 0.95:\n",
    "        most_important_features_model15.append(row['Feature'])\n",
    "    elif index > 0 and importance_df_model15.iloc[index - 1]['Cumulative_Importance'] < 0.95:\n",
    "        most_important_features_model15.append(row['Feature'])\n",
    "    else:\n",
    "        break\n",
    "\n",
    "# List features accounting for 95% of model's predictive power\n",
    "print(\"Features accounting for 95% of model's predictive power:\")\n",
    "print(most_important_features_model15)\n",
    "print(\"\\n\")\n",
    "\n",
    "# Compute training set accuracy\n",
    "train_accuracy_model15 = best_model15.score(X_train_model15, y_train_model15)\n",
    "\n",
    "# Print training set accuracy\n",
    "print(\"Training set accuracy:\", train_accuracy_model15)\n",
    "\n",
    "# Predict on the test set using the best model\n",
    "y_pred_model15 = best_model15.predict(X_test_model15)"
   ]
  },
  {
   "cell_type": "code",
   "execution_count": 797,
   "id": "3fb379ca-b4d6-481f-995d-6ca32bd7aa04",
   "metadata": {},
   "outputs": [
    {
     "data": {
      "text/html": [
       "<div>\n",
       "<style scoped>\n",
       "    .dataframe tbody tr th:only-of-type {\n",
       "        vertical-align: middle;\n",
       "    }\n",
       "\n",
       "    .dataframe tbody tr th {\n",
       "        vertical-align: top;\n",
       "    }\n",
       "\n",
       "    .dataframe thead th {\n",
       "        text-align: right;\n",
       "    }\n",
       "</style>\n",
       "<table border=\"1\" class=\"dataframe\">\n",
       "  <thead>\n",
       "    <tr style=\"text-align: right;\">\n",
       "      <th></th>\n",
       "      <th>PassengerId</th>\n",
       "      <th>Survived</th>\n",
       "    </tr>\n",
       "  </thead>\n",
       "  <tbody>\n",
       "    <tr>\n",
       "      <th>0</th>\n",
       "      <td>892</td>\n",
       "      <td>0</td>\n",
       "    </tr>\n",
       "    <tr>\n",
       "      <th>1</th>\n",
       "      <td>893</td>\n",
       "      <td>1</td>\n",
       "    </tr>\n",
       "    <tr>\n",
       "      <th>2</th>\n",
       "      <td>894</td>\n",
       "      <td>0</td>\n",
       "    </tr>\n",
       "    <tr>\n",
       "      <th>3</th>\n",
       "      <td>895</td>\n",
       "      <td>0</td>\n",
       "    </tr>\n",
       "    <tr>\n",
       "      <th>4</th>\n",
       "      <td>896</td>\n",
       "      <td>1</td>\n",
       "    </tr>\n",
       "    <tr>\n",
       "      <th>...</th>\n",
       "      <td>...</td>\n",
       "      <td>...</td>\n",
       "    </tr>\n",
       "    <tr>\n",
       "      <th>413</th>\n",
       "      <td>1305</td>\n",
       "      <td>0</td>\n",
       "    </tr>\n",
       "    <tr>\n",
       "      <th>414</th>\n",
       "      <td>1306</td>\n",
       "      <td>1</td>\n",
       "    </tr>\n",
       "    <tr>\n",
       "      <th>415</th>\n",
       "      <td>1307</td>\n",
       "      <td>0</td>\n",
       "    </tr>\n",
       "    <tr>\n",
       "      <th>416</th>\n",
       "      <td>1308</td>\n",
       "      <td>0</td>\n",
       "    </tr>\n",
       "    <tr>\n",
       "      <th>417</th>\n",
       "      <td>1309</td>\n",
       "      <td>1</td>\n",
       "    </tr>\n",
       "  </tbody>\n",
       "</table>\n",
       "<p>418 rows × 2 columns</p>\n",
       "</div>"
      ],
      "text/plain": [
       "     PassengerId  Survived\n",
       "0            892         0\n",
       "1            893         1\n",
       "2            894         0\n",
       "3            895         0\n",
       "4            896         1\n",
       "..           ...       ...\n",
       "413         1305         0\n",
       "414         1306         1\n",
       "415         1307         0\n",
       "416         1308         0\n",
       "417         1309         1\n",
       "\n",
       "[418 rows x 2 columns]"
      ]
     },
     "execution_count": 797,
     "metadata": {},
     "output_type": "execute_result"
    }
   ],
   "source": [
    "# Create submission file\n",
    "output_model15 = pd.DataFrame({'PassengerId': test_data['PassengerId'], 'Survived': y_pred_model15})\n",
    "output_model15.to_csv('submission_model15.csv', index=False)\n",
    "\n",
    "# Check contents of submission file\n",
    "submission_model15 = pd.read_csv('submission_model15.csv')\n",
    "submission_model15"
   ]
  },
  {
   "cell_type": "markdown",
   "id": "1f6cb824-64b3-4756-bd69-e74c806b2938",
   "metadata": {},
   "source": [
    "According to Kaggle, the test set accuracy of this model is 0.77751."
   ]
  },
  {
   "cell_type": "markdown",
   "id": "7c0b53b7-c763-49f1-944c-3c236105014f",
   "metadata": {},
   "source": [
    "## Model 16 - Logistic Regression, 5 Features, With Cross-Validation, With Hyperparameter Tuning"
   ]
  },
  {
   "cell_type": "markdown",
   "id": "991df5fd-2e00-4ee0-8653-b2c25a960be7",
   "metadata": {},
   "source": [
    "According to Model 11, a Logistic Regression model with 12 features and cross-validation, the 12 features in order of decreasing absolute coefficient value were as follows: 'Pclass', 'Title', 'AgeGroup', 'IsMr', 'FamilySize', 'FareGroup', 'SibSp', 'IsAlone', 'Embarked', 'Sex', 'Parch', 'IsElderly'. \n",
    "\n",
    "Features were dropped one by one from this list starting from the feature with the lowest absolute coefficient value.\n",
    "\n",
    "features_model16 was the feature set that yielded the highest mean cross-validation accuracy."
   ]
  },
  {
   "cell_type": "code",
   "execution_count": 798,
   "id": "33ebb86c-e543-4e0d-8c04-768d44d8bfc2",
   "metadata": {},
   "outputs": [
    {
     "name": "stdout",
     "output_type": "stream",
     "text": [
      "Best Parameters: {'solver': 'saga', 'max_iter': 100, 'C': 0.1}\n",
      "\n",
      "\n",
      "Cross-validation accuracies: [0.79888268 0.81460674 0.87078652 0.79213483 0.83707865]\n",
      "\n",
      "\n",
      "Mean cross-validation accuracy: 0.8226978846274561\n",
      "\n",
      "\n",
      "      Feature  Coefficient\n",
      "0      Pclass    -0.973497\n",
      "1       Title    -0.793911\n",
      "2    AgeGroup    -0.415178\n",
      "3        IsMr    -0.348230\n",
      "4  FamilySize    -0.296584\n",
      "\n",
      "\n",
      "Training set accuracy: 0.819304152637486\n"
     ]
    }
   ],
   "source": [
    "# Select features to be used\n",
    "features_model16 = ['Pclass', 'Title', 'AgeGroup', 'IsMr', 'FamilySize']\n",
    "\n",
    "# Define training and test sets\n",
    "X_train_model16 = X_train[features_model16]\n",
    "y_train_model16 = y_train\n",
    "X_test_model16 = X_test[features_model16]\n",
    "\n",
    "# Define the hyperparameter grid\n",
    "param_grid_model16 = {\n",
    "    'C': [0.001, 0.01, 0.1, 1, 10, 100], \n",
    "    'solver': ['liblinear', 'saga'], \n",
    "    'max_iter': [100, 200, 300]\n",
    "}\n",
    "\n",
    "# Instantiate model\n",
    "model16 = LogisticRegression(random_state=42)\n",
    "\n",
    "# Initialize cross-validation splitter\n",
    "cv_model16 = KFold(n_splits=5, shuffle=True, random_state=42)\n",
    "\n",
    "# Perform randomized search with cross-validation\n",
    "random_search_model16 = RandomizedSearchCV(estimator=model16, param_distributions=param_grid_model16,\n",
    "                                          n_iter=50, cv=cv_model16, scoring='accuracy', random_state=42)\n",
    "random_search_model16.fit(X_train_model16, y_train_model16)\n",
    "\n",
    "# Get the best model from randomized search\n",
    "best_model16 = random_search_model16.best_estimator_\n",
    "\n",
    "# Print the parameters of the best model\n",
    "print(\"Best Parameters:\", random_search_model16.best_params_)\n",
    "print(\"\\n\")\n",
    "\n",
    "# Compute cross-validation score\n",
    "cv_score_model16 = cross_val_score(best_model16, X_train_model16, y_train_model16, cv=cv_model16, scoring='accuracy')\n",
    "print(\"Cross-validation accuracies:\", cv_score_model16)\n",
    "print(\"\\n\")\n",
    "\n",
    "cv_score_mean_model16 = cv_score_model16.mean()\n",
    "print(\"Mean cross-validation accuracy:\", cv_score_mean_model16)\n",
    "print(\"\\n\")\n",
    "\n",
    "# Get the coefficients of the best model\n",
    "coefficients_model16 = best_model16.coef_[0]\n",
    "\n",
    "# Create a DataFrame to store feature names and corresponding coefficients\n",
    "coefficients_df_model16 = pd.DataFrame({'Feature': X_train_model16.columns, 'Coefficient': coefficients_model16})\n",
    "\n",
    "# Sort the coefficients to identify the most important features\n",
    "coefficients_df_model16 = coefficients_df_model16.reindex(coefficients_df_model16['Coefficient'].abs().sort_values(ascending=False).index).reset_index(drop=True)\n",
    "\n",
    "# Print coefficients\n",
    "print(coefficients_df_model16)\n",
    "print(\"\\n\")\n",
    "\n",
    "# Compute training set accuracy\n",
    "train_accuracy_model16 = best_model16.score(X_train_model16, y_train_model16)\n",
    "\n",
    "# Print training set accuracy\n",
    "print(\"Training set accuracy:\", train_accuracy_model16)\n",
    "\n",
    "# Predict on the test set using the best model\n",
    "y_pred_model16 = best_model16.predict(X_test_model16)"
   ]
  },
  {
   "cell_type": "code",
   "execution_count": 799,
   "id": "e76ce8a8-7710-4ac3-8f40-9e7c57dc4a23",
   "metadata": {},
   "outputs": [
    {
     "data": {
      "text/html": [
       "<div>\n",
       "<style scoped>\n",
       "    .dataframe tbody tr th:only-of-type {\n",
       "        vertical-align: middle;\n",
       "    }\n",
       "\n",
       "    .dataframe tbody tr th {\n",
       "        vertical-align: top;\n",
       "    }\n",
       "\n",
       "    .dataframe thead th {\n",
       "        text-align: right;\n",
       "    }\n",
       "</style>\n",
       "<table border=\"1\" class=\"dataframe\">\n",
       "  <thead>\n",
       "    <tr style=\"text-align: right;\">\n",
       "      <th></th>\n",
       "      <th>PassengerId</th>\n",
       "      <th>Survived</th>\n",
       "    </tr>\n",
       "  </thead>\n",
       "  <tbody>\n",
       "    <tr>\n",
       "      <th>0</th>\n",
       "      <td>892</td>\n",
       "      <td>0</td>\n",
       "    </tr>\n",
       "    <tr>\n",
       "      <th>1</th>\n",
       "      <td>893</td>\n",
       "      <td>1</td>\n",
       "    </tr>\n",
       "    <tr>\n",
       "      <th>2</th>\n",
       "      <td>894</td>\n",
       "      <td>0</td>\n",
       "    </tr>\n",
       "    <tr>\n",
       "      <th>3</th>\n",
       "      <td>895</td>\n",
       "      <td>0</td>\n",
       "    </tr>\n",
       "    <tr>\n",
       "      <th>4</th>\n",
       "      <td>896</td>\n",
       "      <td>1</td>\n",
       "    </tr>\n",
       "    <tr>\n",
       "      <th>...</th>\n",
       "      <td>...</td>\n",
       "      <td>...</td>\n",
       "    </tr>\n",
       "    <tr>\n",
       "      <th>413</th>\n",
       "      <td>1305</td>\n",
       "      <td>0</td>\n",
       "    </tr>\n",
       "    <tr>\n",
       "      <th>414</th>\n",
       "      <td>1306</td>\n",
       "      <td>1</td>\n",
       "    </tr>\n",
       "    <tr>\n",
       "      <th>415</th>\n",
       "      <td>1307</td>\n",
       "      <td>0</td>\n",
       "    </tr>\n",
       "    <tr>\n",
       "      <th>416</th>\n",
       "      <td>1308</td>\n",
       "      <td>0</td>\n",
       "    </tr>\n",
       "    <tr>\n",
       "      <th>417</th>\n",
       "      <td>1309</td>\n",
       "      <td>0</td>\n",
       "    </tr>\n",
       "  </tbody>\n",
       "</table>\n",
       "<p>418 rows × 2 columns</p>\n",
       "</div>"
      ],
      "text/plain": [
       "     PassengerId  Survived\n",
       "0            892         0\n",
       "1            893         1\n",
       "2            894         0\n",
       "3            895         0\n",
       "4            896         1\n",
       "..           ...       ...\n",
       "413         1305         0\n",
       "414         1306         1\n",
       "415         1307         0\n",
       "416         1308         0\n",
       "417         1309         0\n",
       "\n",
       "[418 rows x 2 columns]"
      ]
     },
     "execution_count": 799,
     "metadata": {},
     "output_type": "execute_result"
    }
   ],
   "source": [
    "# Create submission file\n",
    "output_model16 = pd.DataFrame({'PassengerId': test_data['PassengerId'], 'Survived': y_pred_model16})\n",
    "output_model16.to_csv('submission_model16.csv', index=False)\n",
    "\n",
    "# Check contents of submission file\n",
    "submission_model16 = pd.read_csv('submission_model16.csv')\n",
    "submission_model16"
   ]
  },
  {
   "cell_type": "markdown",
   "id": "b1838dbd-f61d-4250-a6d8-19b785d9cbf6",
   "metadata": {},
   "source": [
    "According to Kaggle, the test set accuracy of this model is 0.78468."
   ]
  },
  {
   "cell_type": "markdown",
   "id": "10276e54-9654-46b2-9bb7-e708152c5b8e",
   "metadata": {},
   "source": [
    "## Model 17 - K-Nearest Neighbors Classifier, 6 Features, With Cross-Validation, With Hyperparameter Tuning"
   ]
  },
  {
   "cell_type": "markdown",
   "id": "5171e9d9-db3f-4644-a3a8-61da0e6949b3",
   "metadata": {},
   "source": [
    "Unlike regression algorithms, which produce feature coefficients, and tree-based algorithms, which produce feature importances, K-Nearest Neighbors Classifier does not produce anything similar. It is for this reason that the ranking of features produced by Model 15 (the model that produced the highest mean cross-validation accuracy so far) was used as a starting list here. \n",
    "\n",
    "According to Model 15, a Gradient Boosting Classifier, the 12 features in order of decreasing feature importance were as follows: 'Title', 'Pclass', 'FamilySize', 'FareGroup', 'Embarked', 'Sex', 'AgeGroup', 'IsMr', 'Parch', 'IsAlone', 'SibSp', 'IsElderly'.acy."
   ]
  },
  {
   "cell_type": "markdown",
   "id": "7dfa255f-1687-4349-8221-3cc068248113",
   "metadata": {},
   "source": [
    "Features were dropped one by one from this list starting from the feature with the lowest feature importance.\n",
    "\n",
    "features_model17 was the feature set that yielded the highest mean cross-validation accuracy."
   ]
  },
  {
   "cell_type": "code",
   "execution_count": 800,
   "id": "b4886784-8878-4410-8954-e58320f58aff",
   "metadata": {},
   "outputs": [
    {
     "name": "stdout",
     "output_type": "stream",
     "text": [
      "Best Parameters: {'weights': 'uniform', 'n_neighbors': 5, 'algorithm': 'ball_tree'}\n",
      "\n",
      "\n",
      "Cross-validation accuracies: [0.83240223 0.82022472 0.84831461 0.80898876 0.84269663]\n",
      "\n",
      "\n",
      "Mean cross-validation accuracy: 0.830525390747599\n",
      "\n",
      "\n",
      "Training set accuracy: 0.8439955106621774\n"
     ]
    }
   ],
   "source": [
    "# Select features to be used\n",
    "features_model17 = ['Title', 'Pclass', 'FamilySize', 'FareGroup', 'Embarked', 'Sex']\n",
    "\n",
    "# Define training and test sets\n",
    "X_train_model17 = X_train[features_model17]\n",
    "y_train_model17 = y_train\n",
    "X_test_model17 = X_test[features_model17]\n",
    "\n",
    "# Define the hyperparameter grid\n",
    "param_grid_model17 = {\n",
    "    'n_neighbors': [5, 10, 15],\n",
    "    'weights': ['uniform', 'distance'],\n",
    "    'algorithm': ['auto', 'ball_tree', 'kd_tree', 'brute']\n",
    "}\n",
    "\n",
    "# Instantiate model\n",
    "model17 = KNeighborsClassifier()\n",
    "\n",
    "# Initialize cross-validation splitter\n",
    "cv_model17 = KFold(n_splits=5, shuffle=True, random_state=42)\n",
    "\n",
    "# Perform randomized search with cross-validation\n",
    "random_search_model17 = RandomizedSearchCV(estimator=model17, param_distributions=param_grid_model17,\n",
    "                                          n_iter=50, cv=cv_model17, scoring='accuracy', random_state=42)\n",
    "random_search_model17.fit(X_train_model17, y_train_model17)\n",
    "\n",
    "# Get the best model from randomized search\n",
    "best_model17 = random_search_model17.best_estimator_\n",
    "\n",
    "# Print the parameters of the best model\n",
    "print(\"Best Parameters:\", random_search_model17.best_params_)\n",
    "print(\"\\n\")\n",
    "\n",
    "# Compute cross-validation score\n",
    "cv_score_model17 = cross_val_score(best_model17, X_train_model17, y_train_model17, cv=cv_model17, scoring='accuracy')\n",
    "print(\"Cross-validation accuracies:\", cv_score_model17)\n",
    "print(\"\\n\")\n",
    "\n",
    "cv_score_mean_model17 = cv_score_model17.mean()\n",
    "print(\"Mean cross-validation accuracy:\", cv_score_mean_model17)\n",
    "print(\"\\n\")\n",
    "\n",
    "# Compute training set accuracy\n",
    "train_accuracy_model17 = best_model17.score(X_train_model17, y_train_model17)\n",
    "\n",
    "# Print training set accuracy\n",
    "print(\"Training set accuracy:\", train_accuracy_model17)\n",
    "\n",
    "# Predict on the test set using the best model\n",
    "y_pred_model17 = best_model17.predict(X_test_model17)"
   ]
  },
  {
   "cell_type": "code",
   "execution_count": 801,
   "id": "23764faa-9780-472e-8c67-e0d01cf06b00",
   "metadata": {},
   "outputs": [
    {
     "data": {
      "text/html": [
       "<div>\n",
       "<style scoped>\n",
       "    .dataframe tbody tr th:only-of-type {\n",
       "        vertical-align: middle;\n",
       "    }\n",
       "\n",
       "    .dataframe tbody tr th {\n",
       "        vertical-align: top;\n",
       "    }\n",
       "\n",
       "    .dataframe thead th {\n",
       "        text-align: right;\n",
       "    }\n",
       "</style>\n",
       "<table border=\"1\" class=\"dataframe\">\n",
       "  <thead>\n",
       "    <tr style=\"text-align: right;\">\n",
       "      <th></th>\n",
       "      <th>PassengerId</th>\n",
       "      <th>Survived</th>\n",
       "    </tr>\n",
       "  </thead>\n",
       "  <tbody>\n",
       "    <tr>\n",
       "      <th>0</th>\n",
       "      <td>892</td>\n",
       "      <td>0</td>\n",
       "    </tr>\n",
       "    <tr>\n",
       "      <th>1</th>\n",
       "      <td>893</td>\n",
       "      <td>1</td>\n",
       "    </tr>\n",
       "    <tr>\n",
       "      <th>2</th>\n",
       "      <td>894</td>\n",
       "      <td>0</td>\n",
       "    </tr>\n",
       "    <tr>\n",
       "      <th>3</th>\n",
       "      <td>895</td>\n",
       "      <td>0</td>\n",
       "    </tr>\n",
       "    <tr>\n",
       "      <th>4</th>\n",
       "      <td>896</td>\n",
       "      <td>0</td>\n",
       "    </tr>\n",
       "    <tr>\n",
       "      <th>...</th>\n",
       "      <td>...</td>\n",
       "      <td>...</td>\n",
       "    </tr>\n",
       "    <tr>\n",
       "      <th>413</th>\n",
       "      <td>1305</td>\n",
       "      <td>0</td>\n",
       "    </tr>\n",
       "    <tr>\n",
       "      <th>414</th>\n",
       "      <td>1306</td>\n",
       "      <td>1</td>\n",
       "    </tr>\n",
       "    <tr>\n",
       "      <th>415</th>\n",
       "      <td>1307</td>\n",
       "      <td>0</td>\n",
       "    </tr>\n",
       "    <tr>\n",
       "      <th>416</th>\n",
       "      <td>1308</td>\n",
       "      <td>0</td>\n",
       "    </tr>\n",
       "    <tr>\n",
       "      <th>417</th>\n",
       "      <td>1309</td>\n",
       "      <td>1</td>\n",
       "    </tr>\n",
       "  </tbody>\n",
       "</table>\n",
       "<p>418 rows × 2 columns</p>\n",
       "</div>"
      ],
      "text/plain": [
       "     PassengerId  Survived\n",
       "0            892         0\n",
       "1            893         1\n",
       "2            894         0\n",
       "3            895         0\n",
       "4            896         0\n",
       "..           ...       ...\n",
       "413         1305         0\n",
       "414         1306         1\n",
       "415         1307         0\n",
       "416         1308         0\n",
       "417         1309         1\n",
       "\n",
       "[418 rows x 2 columns]"
      ]
     },
     "execution_count": 801,
     "metadata": {},
     "output_type": "execute_result"
    }
   ],
   "source": [
    "# Create submission file\n",
    "output_model17 = pd.DataFrame({'PassengerId': test_data['PassengerId'], 'Survived': y_pred_model17})\n",
    "output_model17.to_csv('submission_model17.csv', index=False)\n",
    "\n",
    "# Check contents of submission file\n",
    "submission_model17 = pd.read_csv('submission_model17.csv')\n",
    "submission_model17"
   ]
  },
  {
   "cell_type": "markdown",
   "id": "c132af47-5eef-4b68-8152-7764c30670d7",
   "metadata": {},
   "source": [
    "According to Kaggle, the test set accuracy of this model is 0.78229."
   ]
  },
  {
   "cell_type": "markdown",
   "id": "d6d1b12f-a060-498c-a5cc-ffb426bbd154",
   "metadata": {},
   "source": [
    "## Model 18 - Decision Tree Classifier, 4 Features, With Cross-Validation, With Hyperparameter Tuning"
   ]
  },
  {
   "cell_type": "markdown",
   "id": "8ecf1861-8bd9-4021-be70-b05f81b7f994",
   "metadata": {},
   "source": [
    "According to Model 13, a Decision Tree Classifier model with 12 features and cross-validation, the 12 features in order of decreasing feature importance were as follows: 'Title', 'Pclass', 'FamilySize', 'Sex', 'AgeGroup', 'FareGroup', 'SibSp', 'Parch', 'Embarked', 'IsMr', 'IsElderly', 'IsAlone'.\n",
    "\n",
    "Features were dropped one by one from this list starting from the feature with the lowest feature importance.\n",
    "\n",
    "features_model18 was the feature set that yielded the highest mean cross-validation accuracy."
   ]
  },
  {
   "cell_type": "code",
   "execution_count": 802,
   "id": "eac3f640-e1ff-4245-a819-b5e58ea9dc58",
   "metadata": {},
   "outputs": [
    {
     "name": "stdout",
     "output_type": "stream",
     "text": [
      "Best Parameters: {'min_samples_split': 5, 'min_samples_leaf': 2, 'max_features': None, 'max_depth': 5}\n",
      "\n",
      "\n",
      "Cross-validation accuracies: [0.82681564 0.8258427  0.86516854 0.80337079 0.83707865]\n",
      "\n",
      "\n",
      "Mean cross-validation accuracy: 0.8316552633230808\n",
      "\n",
      "\n",
      "      Feature  Importance  Cumulative_Importance\n",
      "0       Title    0.631727               0.631727\n",
      "1      Pclass    0.241858               0.873584\n",
      "2  FamilySize    0.114940               0.988524\n",
      "3         Sex    0.011476               1.000000\n",
      "\n",
      "\n",
      "Features accounting for 95% of model's predictive power:\n",
      "['Title', 'Pclass', 'FamilySize']\n",
      "\n",
      "\n",
      "Training set accuracy: 0.835016835016835\n"
     ]
    }
   ],
   "source": [
    "# Select features to be used\n",
    "features_model18 = ['Title', 'Pclass', 'FamilySize', 'Sex']\n",
    "\n",
    "# Define training and test sets\n",
    "X_train_model18 = X_train[features_model18]\n",
    "y_train_model18 = y_train\n",
    "X_test_model18 = X_test[features_model18]\n",
    "\n",
    "# Define the hyperparameter grid\n",
    "param_grid_model18 = {\n",
    "    'max_depth': [3, 5, 10],\n",
    "    'min_samples_split': [2, 5, 10],\n",
    "    'min_samples_leaf': [1, 2, 4],\n",
    "    'max_features': ['sqrt', 'log2', None]\n",
    "}\n",
    "\n",
    "# Instantiate model\n",
    "model18 = DecisionTreeClassifier(random_state=42)\n",
    "\n",
    "# Initialize cross-validation splitter\n",
    "cv_model18 = KFold(n_splits=5, shuffle=True, random_state=42)\n",
    "\n",
    "# Perform randomized search with cross-validation\n",
    "random_search_model18 = RandomizedSearchCV(estimator=model18, param_distributions=param_grid_model18,\n",
    "                                          n_iter=50, cv=cv_model18, scoring='accuracy', random_state=42)\n",
    "random_search_model18.fit(X_train_model18, y_train_model18)\n",
    "\n",
    "# Get the best model from randomized search\n",
    "best_model18 = random_search_model18.best_estimator_\n",
    "\n",
    "# Print the parameters of the best model\n",
    "print(\"Best Parameters:\", random_search_model18.best_params_)\n",
    "print(\"\\n\")\n",
    "\n",
    "# Compute cross-validation score\n",
    "cv_score_model18 = cross_val_score(best_model18, X_train_model18, y_train_model18, cv=cv_model18, scoring='accuracy')\n",
    "print(\"Cross-validation accuracies:\", cv_score_model18)\n",
    "print(\"\\n\")\n",
    "\n",
    "cv_score_mean_model18 = cv_score_model18.mean()\n",
    "print(\"Mean cross-validation accuracy:\", cv_score_mean_model18)\n",
    "print(\"\\n\")\n",
    "\n",
    "# Get the feature importances of the best model\n",
    "feature_importances_model18 = best_model18.feature_importances_\n",
    "\n",
    "# Create a DataFrame to store feature names and corresponding feature importances\n",
    "importance_df_model18 = pd.DataFrame({'Feature': X_train_model18.columns, 'Importance': feature_importances_model18})\n",
    "\n",
    "# Sort the feature importances to identify the most important features\n",
    "importance_df_model18 = importance_df_model18.sort_values(by='Importance', ascending=False).reset_index(drop=True)\n",
    "\n",
    "# Calculate cumulative sum of feature importances\n",
    "importance_df_model18['Cumulative_Importance'] = importance_df_model18['Importance'].cumsum()\n",
    "\n",
    "# Print feature importances\n",
    "print(importance_df_model18)\n",
    "print(\"\\n\")\n",
    "\n",
    "# Find features accounting for 95% of model's predictive power\n",
    "most_important_features_model18 = []\n",
    "\n",
    "for index, row in importance_df_model18.iterrows():\n",
    "    if row['Cumulative_Importance'] <= 0.95:\n",
    "        most_important_features_model18.append(row['Feature'])\n",
    "    elif index > 0 and importance_df_model18.iloc[index - 1]['Cumulative_Importance'] < 0.95:\n",
    "        most_important_features_model18.append(row['Feature'])\n",
    "    else:\n",
    "        break\n",
    "\n",
    "# List features accounting for 95% of model's predictive power\n",
    "print(\"Features accounting for 95% of model's predictive power:\")\n",
    "print(most_important_features_model18)\n",
    "print(\"\\n\")\n",
    "\n",
    "# Compute training set accuracy\n",
    "train_accuracy_model18 = best_model18.score(X_train_model18, y_train_model18)\n",
    "\n",
    "# Print training set accuracy\n",
    "print(\"Training set accuracy:\", train_accuracy_model18)\n",
    "\n",
    "# Predict on the test set using the best model\n",
    "y_pred_model18 = best_model18.predict(X_test_model18)"
   ]
  },
  {
   "cell_type": "code",
   "execution_count": 803,
   "id": "e956abaf-805a-44f2-ade1-3d89a8cfab9f",
   "metadata": {},
   "outputs": [
    {
     "data": {
      "text/html": [
       "<div>\n",
       "<style scoped>\n",
       "    .dataframe tbody tr th:only-of-type {\n",
       "        vertical-align: middle;\n",
       "    }\n",
       "\n",
       "    .dataframe tbody tr th {\n",
       "        vertical-align: top;\n",
       "    }\n",
       "\n",
       "    .dataframe thead th {\n",
       "        text-align: right;\n",
       "    }\n",
       "</style>\n",
       "<table border=\"1\" class=\"dataframe\">\n",
       "  <thead>\n",
       "    <tr style=\"text-align: right;\">\n",
       "      <th></th>\n",
       "      <th>PassengerId</th>\n",
       "      <th>Survived</th>\n",
       "    </tr>\n",
       "  </thead>\n",
       "  <tbody>\n",
       "    <tr>\n",
       "      <th>0</th>\n",
       "      <td>892</td>\n",
       "      <td>0</td>\n",
       "    </tr>\n",
       "    <tr>\n",
       "      <th>1</th>\n",
       "      <td>893</td>\n",
       "      <td>1</td>\n",
       "    </tr>\n",
       "    <tr>\n",
       "      <th>2</th>\n",
       "      <td>894</td>\n",
       "      <td>0</td>\n",
       "    </tr>\n",
       "    <tr>\n",
       "      <th>3</th>\n",
       "      <td>895</td>\n",
       "      <td>0</td>\n",
       "    </tr>\n",
       "    <tr>\n",
       "      <th>4</th>\n",
       "      <td>896</td>\n",
       "      <td>1</td>\n",
       "    </tr>\n",
       "    <tr>\n",
       "      <th>...</th>\n",
       "      <td>...</td>\n",
       "      <td>...</td>\n",
       "    </tr>\n",
       "    <tr>\n",
       "      <th>413</th>\n",
       "      <td>1305</td>\n",
       "      <td>0</td>\n",
       "    </tr>\n",
       "    <tr>\n",
       "      <th>414</th>\n",
       "      <td>1306</td>\n",
       "      <td>1</td>\n",
       "    </tr>\n",
       "    <tr>\n",
       "      <th>415</th>\n",
       "      <td>1307</td>\n",
       "      <td>0</td>\n",
       "    </tr>\n",
       "    <tr>\n",
       "      <th>416</th>\n",
       "      <td>1308</td>\n",
       "      <td>0</td>\n",
       "    </tr>\n",
       "    <tr>\n",
       "      <th>417</th>\n",
       "      <td>1309</td>\n",
       "      <td>1</td>\n",
       "    </tr>\n",
       "  </tbody>\n",
       "</table>\n",
       "<p>418 rows × 2 columns</p>\n",
       "</div>"
      ],
      "text/plain": [
       "     PassengerId  Survived\n",
       "0            892         0\n",
       "1            893         1\n",
       "2            894         0\n",
       "3            895         0\n",
       "4            896         1\n",
       "..           ...       ...\n",
       "413         1305         0\n",
       "414         1306         1\n",
       "415         1307         0\n",
       "416         1308         0\n",
       "417         1309         1\n",
       "\n",
       "[418 rows x 2 columns]"
      ]
     },
     "execution_count": 803,
     "metadata": {},
     "output_type": "execute_result"
    }
   ],
   "source": [
    "# Create submission file\n",
    "output_model18 = pd.DataFrame({'PassengerId': test_data['PassengerId'], 'Survived': y_pred_model18})\n",
    "output_model18.to_csv('submission_model18.csv', index=False)\n",
    "\n",
    "# Check contents of submission file\n",
    "submission_model18 = pd.read_csv('submission_model18.csv')\n",
    "submission_model18"
   ]
  },
  {
   "cell_type": "markdown",
   "id": "602f50d8-47bf-4bfb-89df-75dfcc53c210",
   "metadata": {},
   "source": [
    "According to Kaggle, the test set accuracy of this model is 0.77751."
   ]
  },
  {
   "cell_type": "markdown",
   "id": "b8a22af0-116b-4d7b-afe2-debd4b60e7f1",
   "metadata": {},
   "source": [
    "## Model 19 - Random Forest Classifier, 12 Features, With Cross-Validation, With Hyperparameter Tuning"
   ]
  },
  {
   "cell_type": "markdown",
   "id": "a82ee991-6903-47bd-8f59-cca93363acd6",
   "metadata": {},
   "source": [
    "According to Model 14, a Random Forest Classifier model with 12 features and cross-validation, the 12 features in order of decreasing feature importance were as follows: 'Title', 'Sex', 'IsMr', 'Pclass', 'FareGroup', 'FamilySize', 'AgeGroup', 'SibSp', 'Embarked', 'Parch', 'IsAlone', 'IsElderly'.\n",
    "\n",
    "Features were dropped one by one from this list starting from the feature with the lowest feature importance.\n",
    "\n",
    "features_model19 was the feature set that yielded the highest mean cross-validation accuracy."
   ]
  },
  {
   "cell_type": "code",
   "execution_count": 804,
   "id": "6b7164ad-6dcc-4a38-a11d-3ac14c5de5db",
   "metadata": {},
   "outputs": [
    {
     "name": "stdout",
     "output_type": "stream",
     "text": [
      "Best Parameters: {'n_estimators': 200, 'min_samples_split': 2, 'min_samples_leaf': 2, 'max_features': 'sqrt', 'max_depth': 20}\n",
      "\n",
      "\n",
      "Cross-validation accuracies: [0.84916201 0.81460674 0.85393258 0.79775281 0.87078652]\n",
      "\n",
      "\n",
      "Mean cross-validation accuracy: 0.8372481325717155\n",
      "\n",
      "\n",
      "       Feature  Importance  Cumulative_Importance\n",
      "0        Title    0.231702               0.231702\n",
      "1          Sex    0.157255               0.388957\n",
      "2         IsMr    0.143613               0.532570\n",
      "3       Pclass    0.132674               0.665244\n",
      "4    FareGroup    0.085095               0.750340\n",
      "5   FamilySize    0.076326               0.826666\n",
      "6     AgeGroup    0.051074               0.877739\n",
      "7        SibSp    0.046781               0.924520\n",
      "8     Embarked    0.037469               0.961989\n",
      "9        Parch    0.025318               0.987307\n",
      "10     IsAlone    0.011520               0.998827\n",
      "11   IsElderly    0.001173               1.000000\n",
      "\n",
      "\n",
      "Features accounting for 95% of model's predictive power:\n",
      "['Title', 'Sex', 'IsMr', 'Pclass', 'FareGroup', 'FamilySize', 'AgeGroup', 'SibSp', 'Embarked']\n",
      "\n",
      "\n",
      "Training set accuracy: 0.8686868686868687\n"
     ]
    }
   ],
   "source": [
    "# Select features to be used\n",
    "features_model19 = ['Title', 'Sex', 'IsMr', 'Pclass', 'FareGroup', 'FamilySize', 'AgeGroup', 'SibSp', 'Embarked', 'Parch', 'IsAlone', 'IsElderly']\n",
    "\n",
    "# Define training and test sets\n",
    "X_train_model19 = X_train[features_model19]\n",
    "y_train_model19 = y_train\n",
    "X_test_model19 = X_test[features_model19]\n",
    "\n",
    "# Define the hyperparameter grid\n",
    "param_grid_model19 = {\n",
    "    'n_estimators': [50, 100, 200], \n",
    "    'max_depth': [None, 10, 20, 30],\n",
    "    'min_samples_split': [2, 5, 10],\n",
    "    'min_samples_leaf': [1, 2, 4],\n",
    "    'max_features': ['sqrt', 'log2', None]\n",
    "}\n",
    "\n",
    "# Instantiate model\n",
    "model19 = RandomForestClassifier(random_state=42)\n",
    "\n",
    "# Initialize cross-validation splitter\n",
    "cv_model19 = KFold(n_splits=5, shuffle=True, random_state=42)\n",
    "\n",
    "# Perform randomized search with cross-validation\n",
    "random_search_model19 = RandomizedSearchCV(estimator=model19, param_distributions=param_grid_model19,\n",
    "                                          n_iter=50, cv=cv_model19, scoring='accuracy', random_state=42)\n",
    "random_search_model19.fit(X_train_model19, y_train_model19)\n",
    "\n",
    "# Get the best model from randomized search\n",
    "best_model19 = random_search_model19.best_estimator_\n",
    "\n",
    "# Print the parameters of the best model\n",
    "print(\"Best Parameters:\", random_search_model19.best_params_)\n",
    "print(\"\\n\")\n",
    "\n",
    "# Compute cross-validation score\n",
    "cv_score_model19 = cross_val_score(best_model19, X_train_model19, y_train_model19, cv=cv_model19, scoring='accuracy')\n",
    "print(\"Cross-validation accuracies:\", cv_score_model19)\n",
    "print(\"\\n\")\n",
    "\n",
    "cv_score_mean_model19 = cv_score_model19.mean()\n",
    "print(\"Mean cross-validation accuracy:\", cv_score_mean_model19)\n",
    "print(\"\\n\")\n",
    "\n",
    "# Get the feature importances of the best model\n",
    "feature_importances_model19 = best_model19.feature_importances_\n",
    "\n",
    "# Create a DataFrame to store feature names and corresponding feature importances\n",
    "importance_df_model19 = pd.DataFrame({'Feature': X_train_model19.columns, 'Importance': feature_importances_model19})\n",
    "\n",
    "# Sort the feature importances to identify the most important features\n",
    "importance_df_model19 = importance_df_model19.sort_values(by='Importance', ascending=False).reset_index(drop=True)\n",
    "\n",
    "# Calculate cumulative sum of feature importances\n",
    "importance_df_model19['Cumulative_Importance'] = importance_df_model19['Importance'].cumsum()\n",
    "\n",
    "# Print feature importances\n",
    "print(importance_df_model19)\n",
    "print(\"\\n\")\n",
    "\n",
    "# Find features accounting for 95% of model's predictive power\n",
    "most_important_features_model19 = []\n",
    "\n",
    "for index, row in importance_df_model19.iterrows():\n",
    "    if row['Cumulative_Importance'] <= 0.95:\n",
    "        most_important_features_model19.append(row['Feature'])\n",
    "    elif index > 0 and importance_df_model19.iloc[index - 1]['Cumulative_Importance'] < 0.95:\n",
    "        most_important_features_model19.append(row['Feature'])\n",
    "    else:\n",
    "        break\n",
    "\n",
    "# List features accounting for 95% of model's predictive power\n",
    "print(\"Features accounting for 95% of model's predictive power:\")\n",
    "print(most_important_features_model19)\n",
    "print(\"\\n\")\n",
    "\n",
    "# Compute training set accuracy\n",
    "train_accuracy_model19 = best_model19.score(X_train_model19, y_train_model19)\n",
    "\n",
    "# Print training set accuracy\n",
    "print(\"Training set accuracy:\", train_accuracy_model19)\n",
    "\n",
    "# Predict on the test set using the best model\n",
    "y_pred_model19 = best_model19.predict(X_test_model19)"
   ]
  },
  {
   "cell_type": "code",
   "execution_count": 805,
   "id": "5ac56f5a-bc69-4441-a46a-9e52072d06ec",
   "metadata": {},
   "outputs": [
    {
     "data": {
      "text/html": [
       "<div>\n",
       "<style scoped>\n",
       "    .dataframe tbody tr th:only-of-type {\n",
       "        vertical-align: middle;\n",
       "    }\n",
       "\n",
       "    .dataframe tbody tr th {\n",
       "        vertical-align: top;\n",
       "    }\n",
       "\n",
       "    .dataframe thead th {\n",
       "        text-align: right;\n",
       "    }\n",
       "</style>\n",
       "<table border=\"1\" class=\"dataframe\">\n",
       "  <thead>\n",
       "    <tr style=\"text-align: right;\">\n",
       "      <th></th>\n",
       "      <th>PassengerId</th>\n",
       "      <th>Survived</th>\n",
       "    </tr>\n",
       "  </thead>\n",
       "  <tbody>\n",
       "    <tr>\n",
       "      <th>0</th>\n",
       "      <td>892</td>\n",
       "      <td>0</td>\n",
       "    </tr>\n",
       "    <tr>\n",
       "      <th>1</th>\n",
       "      <td>893</td>\n",
       "      <td>0</td>\n",
       "    </tr>\n",
       "    <tr>\n",
       "      <th>2</th>\n",
       "      <td>894</td>\n",
       "      <td>0</td>\n",
       "    </tr>\n",
       "    <tr>\n",
       "      <th>3</th>\n",
       "      <td>895</td>\n",
       "      <td>0</td>\n",
       "    </tr>\n",
       "    <tr>\n",
       "      <th>4</th>\n",
       "      <td>896</td>\n",
       "      <td>0</td>\n",
       "    </tr>\n",
       "    <tr>\n",
       "      <th>...</th>\n",
       "      <td>...</td>\n",
       "      <td>...</td>\n",
       "    </tr>\n",
       "    <tr>\n",
       "      <th>413</th>\n",
       "      <td>1305</td>\n",
       "      <td>0</td>\n",
       "    </tr>\n",
       "    <tr>\n",
       "      <th>414</th>\n",
       "      <td>1306</td>\n",
       "      <td>1</td>\n",
       "    </tr>\n",
       "    <tr>\n",
       "      <th>415</th>\n",
       "      <td>1307</td>\n",
       "      <td>0</td>\n",
       "    </tr>\n",
       "    <tr>\n",
       "      <th>416</th>\n",
       "      <td>1308</td>\n",
       "      <td>0</td>\n",
       "    </tr>\n",
       "    <tr>\n",
       "      <th>417</th>\n",
       "      <td>1309</td>\n",
       "      <td>1</td>\n",
       "    </tr>\n",
       "  </tbody>\n",
       "</table>\n",
       "<p>418 rows × 2 columns</p>\n",
       "</div>"
      ],
      "text/plain": [
       "     PassengerId  Survived\n",
       "0            892         0\n",
       "1            893         0\n",
       "2            894         0\n",
       "3            895         0\n",
       "4            896         0\n",
       "..           ...       ...\n",
       "413         1305         0\n",
       "414         1306         1\n",
       "415         1307         0\n",
       "416         1308         0\n",
       "417         1309         1\n",
       "\n",
       "[418 rows x 2 columns]"
      ]
     },
     "execution_count": 805,
     "metadata": {},
     "output_type": "execute_result"
    }
   ],
   "source": [
    "# Create submission file\n",
    "output_model19 = pd.DataFrame({'PassengerId': test_data['PassengerId'], 'Survived': y_pred_model19})\n",
    "output_model19.to_csv('submission_model19.csv', index=False)\n",
    "\n",
    "# Check contents of submission file\n",
    "submission_model19 = pd.read_csv('submission_model19.csv')\n",
    "submission_model19"
   ]
  },
  {
   "cell_type": "markdown",
   "id": "eaa567fe-810f-489a-826f-878073275ce3",
   "metadata": {},
   "source": [
    "According to Kaggle, the test set accuracy of this model is 0.76076."
   ]
  },
  {
   "cell_type": "markdown",
   "id": "a90be0d7-5745-4d7c-bb42-41bb34adfa06",
   "metadata": {},
   "source": [
    "## Model 20 - Gradient Boosting Classifier, 8 Features, With Cross-Validation, With Hyperparameter Tuning"
   ]
  },
  {
   "cell_type": "markdown",
   "id": "ecce3234-e683-4731-b23c-6e95a7cd8d2b",
   "metadata": {},
   "source": [
    "According to Model 15, a Gradient Boosting Classifier model with 12 features and cross-validation, the 12 features in order of decreasing feature importance were as follows: 'Title', 'Pclass', 'FamilySize', 'FareGroup', 'Embarked', 'Sex', 'AgeGroup', 'IsMr', 'Parch', 'IsAlone', 'SibSp', 'IsElderly'.\n",
    "\n",
    "Features were dropped one by one from this list starting from the feature with the lowest feature importance.\n",
    "\n",
    "features_model20 was the feature set that yielded the highest mean cross-validation accuracy."
   ]
  },
  {
   "cell_type": "code",
   "execution_count": 806,
   "id": "bfeed178-57f1-4dc2-8cc4-d24e982789c4",
   "metadata": {},
   "outputs": [
    {
     "name": "stdout",
     "output_type": "stream",
     "text": [
      "Best Parameters: {'n_estimators': 100, 'min_samples_split': 5, 'min_samples_leaf': 2, 'max_features': None, 'max_depth': 5, 'learning_rate': 0.01}\n",
      "\n",
      "\n",
      "Cross-validation accuracies: [0.82681564 0.82022472 0.86516854 0.80337079 0.84831461]\n",
      "\n",
      "\n",
      "Mean cross-validation accuracy: 0.8327788588286987\n",
      "\n",
      "\n",
      "      Feature  Importance  Cumulative_Importance\n",
      "0       Title    0.590071               0.590071\n",
      "1      Pclass    0.230390               0.820461\n",
      "2  FamilySize    0.109101               0.929562\n",
      "3   FareGroup    0.024384               0.953946\n",
      "4    AgeGroup    0.021238               0.975185\n",
      "5         Sex    0.014370               0.989555\n",
      "6    Embarked    0.010445               1.000000\n",
      "\n",
      "\n",
      "Features accounting for 95% of model's predictive power:\n",
      "['Title', 'Pclass', 'FamilySize', 'FareGroup']\n",
      "\n",
      "\n",
      "Training set accuracy: 0.8417508417508418\n"
     ]
    }
   ],
   "source": [
    "# Select features to be used\n",
    "features_model20 = ['Title', 'Pclass', 'FamilySize', 'FareGroup', 'Embarked', 'Sex', 'AgeGroup']\n",
    "\n",
    "# Define training and test sets\n",
    "X_train_model20 = X_train[features_model20]\n",
    "y_train_model20 = y_train\n",
    "X_test_model20 = X_test[features_model20]\n",
    "\n",
    "# Define the hyperparameter grid\n",
    "param_grid_model20 = {\n",
    "    'n_estimators': [50, 100, 200], \n",
    "    'learning_rate': [0.01, 0.1, 0.2],\n",
    "    'max_depth': [3, 5, 10],\n",
    "    'min_samples_split': [2, 5, 10],\n",
    "    'min_samples_leaf': [1, 2, 4],\n",
    "    'max_features': ['sqrt', 'log2', None]\n",
    "}\n",
    "\n",
    "# Instantiate model\n",
    "model20 = GradientBoostingClassifier(random_state=42)\n",
    "\n",
    "# Initialize cross-validation splitter\n",
    "cv_model20 = KFold(n_splits=5, shuffle=True, random_state=42)\n",
    "\n",
    "# Perform randomized search with cross-validation\n",
    "random_search_model20 = RandomizedSearchCV(estimator=model20, param_distributions=param_grid_model20,\n",
    "                                          n_iter=50, cv=cv_model20, scoring='accuracy', random_state=42)\n",
    "random_search_model20.fit(X_train_model20, y_train_model20)\n",
    "\n",
    "# Get the best model from randomized search\n",
    "best_model20 = random_search_model20.best_estimator_\n",
    "\n",
    "# Print the parameters of the best model\n",
    "print(\"Best Parameters:\", random_search_model20.best_params_)\n",
    "print(\"\\n\")\n",
    "\n",
    "# Compute cross-validation score\n",
    "cv_score_model20 = cross_val_score(best_model20, X_train_model20, y_train_model20, cv=cv_model20, scoring='accuracy')\n",
    "print(\"Cross-validation accuracies:\", cv_score_model20)\n",
    "print(\"\\n\")\n",
    "\n",
    "cv_score_mean_model20 = cv_score_model20.mean()\n",
    "print(\"Mean cross-validation accuracy:\", cv_score_mean_model20)\n",
    "print(\"\\n\")\n",
    "\n",
    "# Get the feature importances of the best model\n",
    "feature_importances_model20 = best_model20.feature_importances_\n",
    "\n",
    "# Create a DataFrame to store feature names and corresponding feature importances\n",
    "importance_df_model20 = pd.DataFrame({'Feature': X_train_model20.columns, 'Importance': feature_importances_model20})\n",
    "\n",
    "# Sort the feature importances to identify the most important features\n",
    "importance_df_model20 = importance_df_model20.sort_values(by='Importance', ascending=False).reset_index(drop=True)\n",
    "\n",
    "# Calculate cumulative sum of feature importances\n",
    "importance_df_model20['Cumulative_Importance'] = importance_df_model20['Importance'].cumsum()\n",
    "\n",
    "# Print feature importances\n",
    "print(importance_df_model20)\n",
    "print(\"\\n\")\n",
    "\n",
    "# Find features accounting for 95% of model's predictive power\n",
    "most_important_features_model20 = []\n",
    "\n",
    "for index, row in importance_df_model20.iterrows():\n",
    "    if row['Cumulative_Importance'] <= 0.95:\n",
    "        most_important_features_model20.append(row['Feature'])\n",
    "    elif index > 0 and importance_df_model20.iloc[index - 1]['Cumulative_Importance'] < 0.95:\n",
    "        most_important_features_model20.append(row['Feature'])\n",
    "    else:\n",
    "        break\n",
    "\n",
    "# List features accounting for 95% of model's predictive power\n",
    "print(\"Features accounting for 95% of model's predictive power:\")\n",
    "print(most_important_features_model20)\n",
    "print(\"\\n\")\n",
    "\n",
    "# Compute training set accuracy\n",
    "train_accuracy_model20 = best_model20.score(X_train_model20, y_train_model20)\n",
    "\n",
    "# Print training set accuracy\n",
    "print(\"Training set accuracy:\", train_accuracy_model20)\n",
    "\n",
    "# Predict on the test set using the best model\n",
    "y_pred_model20 = best_model20.predict(X_test_model20)"
   ]
  },
  {
   "cell_type": "code",
   "execution_count": 807,
   "id": "bc2f1711-f897-48cd-9ffd-bbe163fc305e",
   "metadata": {},
   "outputs": [
    {
     "data": {
      "text/html": [
       "<div>\n",
       "<style scoped>\n",
       "    .dataframe tbody tr th:only-of-type {\n",
       "        vertical-align: middle;\n",
       "    }\n",
       "\n",
       "    .dataframe tbody tr th {\n",
       "        vertical-align: top;\n",
       "    }\n",
       "\n",
       "    .dataframe thead th {\n",
       "        text-align: right;\n",
       "    }\n",
       "</style>\n",
       "<table border=\"1\" class=\"dataframe\">\n",
       "  <thead>\n",
       "    <tr style=\"text-align: right;\">\n",
       "      <th></th>\n",
       "      <th>PassengerId</th>\n",
       "      <th>Survived</th>\n",
       "    </tr>\n",
       "  </thead>\n",
       "  <tbody>\n",
       "    <tr>\n",
       "      <th>0</th>\n",
       "      <td>892</td>\n",
       "      <td>0</td>\n",
       "    </tr>\n",
       "    <tr>\n",
       "      <th>1</th>\n",
       "      <td>893</td>\n",
       "      <td>0</td>\n",
       "    </tr>\n",
       "    <tr>\n",
       "      <th>2</th>\n",
       "      <td>894</td>\n",
       "      <td>0</td>\n",
       "    </tr>\n",
       "    <tr>\n",
       "      <th>3</th>\n",
       "      <td>895</td>\n",
       "      <td>0</td>\n",
       "    </tr>\n",
       "    <tr>\n",
       "      <th>4</th>\n",
       "      <td>896</td>\n",
       "      <td>0</td>\n",
       "    </tr>\n",
       "    <tr>\n",
       "      <th>...</th>\n",
       "      <td>...</td>\n",
       "      <td>...</td>\n",
       "    </tr>\n",
       "    <tr>\n",
       "      <th>413</th>\n",
       "      <td>1305</td>\n",
       "      <td>0</td>\n",
       "    </tr>\n",
       "    <tr>\n",
       "      <th>414</th>\n",
       "      <td>1306</td>\n",
       "      <td>1</td>\n",
       "    </tr>\n",
       "    <tr>\n",
       "      <th>415</th>\n",
       "      <td>1307</td>\n",
       "      <td>0</td>\n",
       "    </tr>\n",
       "    <tr>\n",
       "      <th>416</th>\n",
       "      <td>1308</td>\n",
       "      <td>0</td>\n",
       "    </tr>\n",
       "    <tr>\n",
       "      <th>417</th>\n",
       "      <td>1309</td>\n",
       "      <td>1</td>\n",
       "    </tr>\n",
       "  </tbody>\n",
       "</table>\n",
       "<p>418 rows × 2 columns</p>\n",
       "</div>"
      ],
      "text/plain": [
       "     PassengerId  Survived\n",
       "0            892         0\n",
       "1            893         0\n",
       "2            894         0\n",
       "3            895         0\n",
       "4            896         0\n",
       "..           ...       ...\n",
       "413         1305         0\n",
       "414         1306         1\n",
       "415         1307         0\n",
       "416         1308         0\n",
       "417         1309         1\n",
       "\n",
       "[418 rows x 2 columns]"
      ]
     },
     "execution_count": 807,
     "metadata": {},
     "output_type": "execute_result"
    }
   ],
   "source": [
    "# Create submission file\n",
    "output_model20 = pd.DataFrame({'PassengerId': test_data['PassengerId'], 'Survived': y_pred_model20})\n",
    "output_model20.to_csv('submission_model20.csv', index=False)\n",
    "\n",
    "# Check contents of submission file\n",
    "submission_model20 = pd.read_csv('submission_model20.csv')\n",
    "submission_model20"
   ]
  },
  {
   "cell_type": "markdown",
   "id": "5b45dc31-c6af-4e4f-9c9f-8a8273cd204d",
   "metadata": {},
   "source": [
    "According to Kaggle, the test set accuracy of this model is 0.77511."
   ]
  },
  {
   "cell_type": "markdown",
   "id": "325aff5e-6b74-4fb3-a8b0-946c0ef6a122",
   "metadata": {},
   "source": [
    "# Results and Findings"
   ]
  },
  {
   "cell_type": "code",
   "execution_count": 808,
   "id": "230dddb9-5adf-49f2-b54b-392cf6bc7140",
   "metadata": {},
   "outputs": [
    {
     "data": {
      "text/html": [
       "<div>\n",
       "<style scoped>\n",
       "    .dataframe tbody tr th:only-of-type {\n",
       "        vertical-align: middle;\n",
       "    }\n",
       "\n",
       "    .dataframe tbody tr th {\n",
       "        vertical-align: top;\n",
       "    }\n",
       "\n",
       "    .dataframe thead th {\n",
       "        text-align: right;\n",
       "    }\n",
       "</style>\n",
       "<table border=\"1\" class=\"dataframe\">\n",
       "  <thead>\n",
       "    <tr style=\"text-align: right;\">\n",
       "      <th></th>\n",
       "      <th>Model Number</th>\n",
       "      <th>Classifier</th>\n",
       "      <th>Number of Features</th>\n",
       "      <th>With Cross-Validation?</th>\n",
       "      <th>With Hyperparameter Tuning?</th>\n",
       "      <th>Mean Cross-Validation Accuracy</th>\n",
       "      <th>Training Set Accuracy</th>\n",
       "      <th>Test Set Accuracy (according to Kaggle)</th>\n",
       "    </tr>\n",
       "  </thead>\n",
       "  <tbody>\n",
       "    <tr>\n",
       "      <th>0</th>\n",
       "      <td>1</td>\n",
       "      <td>Logistic Regression</td>\n",
       "      <td>12</td>\n",
       "      <td>No</td>\n",
       "      <td>No</td>\n",
       "      <td>Not applicable</td>\n",
       "      <td>0.814815</td>\n",
       "      <td>0.77990</td>\n",
       "    </tr>\n",
       "    <tr>\n",
       "      <th>1</th>\n",
       "      <td>2</td>\n",
       "      <td>K-Nearest Neighbors Classifier</td>\n",
       "      <td>12</td>\n",
       "      <td>No</td>\n",
       "      <td>No</td>\n",
       "      <td>Not applicable</td>\n",
       "      <td>0.849607</td>\n",
       "      <td>0.74880</td>\n",
       "    </tr>\n",
       "    <tr>\n",
       "      <th>2</th>\n",
       "      <td>3</td>\n",
       "      <td>Decision Tree Classifier</td>\n",
       "      <td>12</td>\n",
       "      <td>No</td>\n",
       "      <td>No</td>\n",
       "      <td>Not applicable</td>\n",
       "      <td>0.892256</td>\n",
       "      <td>0.75119</td>\n",
       "    </tr>\n",
       "    <tr>\n",
       "      <th>3</th>\n",
       "      <td>4</td>\n",
       "      <td>Random Forest Classifier</td>\n",
       "      <td>12</td>\n",
       "      <td>No</td>\n",
       "      <td>No</td>\n",
       "      <td>Not applicable</td>\n",
       "      <td>0.892256</td>\n",
       "      <td>0.74880</td>\n",
       "    </tr>\n",
       "    <tr>\n",
       "      <th>4</th>\n",
       "      <td>5</td>\n",
       "      <td>Gradient Boosting Classifier</td>\n",
       "      <td>12</td>\n",
       "      <td>No</td>\n",
       "      <td>No</td>\n",
       "      <td>Not applicable</td>\n",
       "      <td>0.852974</td>\n",
       "      <td>0.76794</td>\n",
       "    </tr>\n",
       "    <tr>\n",
       "      <th>5</th>\n",
       "      <td>6</td>\n",
       "      <td>Logistic Regression</td>\n",
       "      <td>12</td>\n",
       "      <td>Yes</td>\n",
       "      <td>No</td>\n",
       "      <td>0.812586</td>\n",
       "      <td>0.814815</td>\n",
       "      <td>0.77990</td>\n",
       "    </tr>\n",
       "    <tr>\n",
       "      <th>6</th>\n",
       "      <td>7</td>\n",
       "      <td>K-Nearest Neighbors Classifier</td>\n",
       "      <td>12</td>\n",
       "      <td>Yes</td>\n",
       "      <td>No</td>\n",
       "      <td>0.814782</td>\n",
       "      <td>0.849607</td>\n",
       "      <td>0.74880</td>\n",
       "    </tr>\n",
       "    <tr>\n",
       "      <th>7</th>\n",
       "      <td>8</td>\n",
       "      <td>Decision Tree Classifier</td>\n",
       "      <td>12</td>\n",
       "      <td>Yes</td>\n",
       "      <td>No</td>\n",
       "      <td>0.80693</td>\n",
       "      <td>0.892256</td>\n",
       "      <td>0.75119</td>\n",
       "    </tr>\n",
       "    <tr>\n",
       "      <th>8</th>\n",
       "      <td>9</td>\n",
       "      <td>Random Forest Classifier</td>\n",
       "      <td>12</td>\n",
       "      <td>Yes</td>\n",
       "      <td>No</td>\n",
       "      <td>0.814789</td>\n",
       "      <td>0.892256</td>\n",
       "      <td>0.74880</td>\n",
       "    </tr>\n",
       "    <tr>\n",
       "      <th>9</th>\n",
       "      <td>10</td>\n",
       "      <td>Gradient Boosting Classifier</td>\n",
       "      <td>12</td>\n",
       "      <td>Yes</td>\n",
       "      <td>No</td>\n",
       "      <td>0.830525</td>\n",
       "      <td>0.852974</td>\n",
       "      <td>0.76794</td>\n",
       "    </tr>\n",
       "    <tr>\n",
       "      <th>10</th>\n",
       "      <td>11</td>\n",
       "      <td>Logistic Regression</td>\n",
       "      <td>12</td>\n",
       "      <td>Yes</td>\n",
       "      <td>Yes</td>\n",
       "      <td>0.815963</td>\n",
       "      <td>0.818182</td>\n",
       "      <td>0.78947</td>\n",
       "    </tr>\n",
       "    <tr>\n",
       "      <th>11</th>\n",
       "      <td>12</td>\n",
       "      <td>K-Nearest Neighbors Classifier</td>\n",
       "      <td>12</td>\n",
       "      <td>Yes</td>\n",
       "      <td>Yes</td>\n",
       "      <td>0.824933</td>\n",
       "      <td>0.840629</td>\n",
       "      <td>0.75119</td>\n",
       "    </tr>\n",
       "    <tr>\n",
       "      <th>12</th>\n",
       "      <td>13</td>\n",
       "      <td>Decision Tree Classifier</td>\n",
       "      <td>12</td>\n",
       "      <td>Yes</td>\n",
       "      <td>Yes</td>\n",
       "      <td>0.822666</td>\n",
       "      <td>0.835017</td>\n",
       "      <td>0.77751</td>\n",
       "    </tr>\n",
       "    <tr>\n",
       "      <th>13</th>\n",
       "      <td>14</td>\n",
       "      <td>Random Forest Classifier</td>\n",
       "      <td>12</td>\n",
       "      <td>Yes</td>\n",
       "      <td>Yes</td>\n",
       "      <td>0.830532</td>\n",
       "      <td>0.868687</td>\n",
       "      <td>0.75837</td>\n",
       "    </tr>\n",
       "    <tr>\n",
       "      <th>14</th>\n",
       "      <td>15</td>\n",
       "      <td>Gradient Boosting Classifier</td>\n",
       "      <td>12</td>\n",
       "      <td>Yes</td>\n",
       "      <td>Yes</td>\n",
       "      <td>0.831655</td>\n",
       "      <td>0.835017</td>\n",
       "      <td>0.77751</td>\n",
       "    </tr>\n",
       "    <tr>\n",
       "      <th>15</th>\n",
       "      <td>16</td>\n",
       "      <td>Logistic Regression</td>\n",
       "      <td>5</td>\n",
       "      <td>Yes</td>\n",
       "      <td>Yes</td>\n",
       "      <td>0.822698</td>\n",
       "      <td>0.819304</td>\n",
       "      <td>0.78468</td>\n",
       "    </tr>\n",
       "    <tr>\n",
       "      <th>16</th>\n",
       "      <td>17</td>\n",
       "      <td>K-Nearest Neighbors Classifier</td>\n",
       "      <td>6</td>\n",
       "      <td>Yes</td>\n",
       "      <td>Yes</td>\n",
       "      <td>0.830525</td>\n",
       "      <td>0.843996</td>\n",
       "      <td>0.78229</td>\n",
       "    </tr>\n",
       "    <tr>\n",
       "      <th>17</th>\n",
       "      <td>18</td>\n",
       "      <td>Decision Tree Classifier</td>\n",
       "      <td>4</td>\n",
       "      <td>Yes</td>\n",
       "      <td>Yes</td>\n",
       "      <td>0.831655</td>\n",
       "      <td>0.835017</td>\n",
       "      <td>0.77751</td>\n",
       "    </tr>\n",
       "    <tr>\n",
       "      <th>18</th>\n",
       "      <td>19</td>\n",
       "      <td>Random Forest Classifier</td>\n",
       "      <td>12</td>\n",
       "      <td>Yes</td>\n",
       "      <td>Yes</td>\n",
       "      <td>0.837248</td>\n",
       "      <td>0.868687</td>\n",
       "      <td>0.76076</td>\n",
       "    </tr>\n",
       "    <tr>\n",
       "      <th>19</th>\n",
       "      <td>20</td>\n",
       "      <td>Gradient Boosting Classifier</td>\n",
       "      <td>8</td>\n",
       "      <td>Yes</td>\n",
       "      <td>Yes</td>\n",
       "      <td>0.832779</td>\n",
       "      <td>0.841751</td>\n",
       "      <td>0.77511</td>\n",
       "    </tr>\n",
       "  </tbody>\n",
       "</table>\n",
       "</div>"
      ],
      "text/plain": [
       "    Model Number                      Classifier  Number of Features  \\\n",
       "0              1             Logistic Regression                  12   \n",
       "1              2  K-Nearest Neighbors Classifier                  12   \n",
       "2              3        Decision Tree Classifier                  12   \n",
       "3              4        Random Forest Classifier                  12   \n",
       "4              5    Gradient Boosting Classifier                  12   \n",
       "5              6             Logistic Regression                  12   \n",
       "6              7  K-Nearest Neighbors Classifier                  12   \n",
       "7              8        Decision Tree Classifier                  12   \n",
       "8              9        Random Forest Classifier                  12   \n",
       "9             10    Gradient Boosting Classifier                  12   \n",
       "10            11             Logistic Regression                  12   \n",
       "11            12  K-Nearest Neighbors Classifier                  12   \n",
       "12            13        Decision Tree Classifier                  12   \n",
       "13            14        Random Forest Classifier                  12   \n",
       "14            15    Gradient Boosting Classifier                  12   \n",
       "15            16             Logistic Regression                   5   \n",
       "16            17  K-Nearest Neighbors Classifier                   6   \n",
       "17            18        Decision Tree Classifier                   4   \n",
       "18            19        Random Forest Classifier                  12   \n",
       "19            20    Gradient Boosting Classifier                   8   \n",
       "\n",
       "   With Cross-Validation? With Hyperparameter Tuning?  \\\n",
       "0                      No                          No   \n",
       "1                      No                          No   \n",
       "2                      No                          No   \n",
       "3                      No                          No   \n",
       "4                      No                          No   \n",
       "5                     Yes                          No   \n",
       "6                     Yes                          No   \n",
       "7                     Yes                          No   \n",
       "8                     Yes                          No   \n",
       "9                     Yes                          No   \n",
       "10                    Yes                         Yes   \n",
       "11                    Yes                         Yes   \n",
       "12                    Yes                         Yes   \n",
       "13                    Yes                         Yes   \n",
       "14                    Yes                         Yes   \n",
       "15                    Yes                         Yes   \n",
       "16                    Yes                         Yes   \n",
       "17                    Yes                         Yes   \n",
       "18                    Yes                         Yes   \n",
       "19                    Yes                         Yes   \n",
       "\n",
       "   Mean Cross-Validation Accuracy  Training Set Accuracy  \\\n",
       "0                  Not applicable               0.814815   \n",
       "1                  Not applicable               0.849607   \n",
       "2                  Not applicable               0.892256   \n",
       "3                  Not applicable               0.892256   \n",
       "4                  Not applicable               0.852974   \n",
       "5                        0.812586               0.814815   \n",
       "6                        0.814782               0.849607   \n",
       "7                         0.80693               0.892256   \n",
       "8                        0.814789               0.892256   \n",
       "9                        0.830525               0.852974   \n",
       "10                       0.815963               0.818182   \n",
       "11                       0.824933               0.840629   \n",
       "12                       0.822666               0.835017   \n",
       "13                       0.830532               0.868687   \n",
       "14                       0.831655               0.835017   \n",
       "15                       0.822698               0.819304   \n",
       "16                       0.830525               0.843996   \n",
       "17                       0.831655               0.835017   \n",
       "18                       0.837248               0.868687   \n",
       "19                       0.832779               0.841751   \n",
       "\n",
       "    Test Set Accuracy (according to Kaggle)  \n",
       "0                                   0.77990  \n",
       "1                                   0.74880  \n",
       "2                                   0.75119  \n",
       "3                                   0.74880  \n",
       "4                                   0.76794  \n",
       "5                                   0.77990  \n",
       "6                                   0.74880  \n",
       "7                                   0.75119  \n",
       "8                                   0.74880  \n",
       "9                                   0.76794  \n",
       "10                                  0.78947  \n",
       "11                                  0.75119  \n",
       "12                                  0.77751  \n",
       "13                                  0.75837  \n",
       "14                                  0.77751  \n",
       "15                                  0.78468  \n",
       "16                                  0.78229  \n",
       "17                                  0.77751  \n",
       "18                                  0.76076  \n",
       "19                                  0.77511  "
      ]
     },
     "metadata": {},
     "output_type": "display_data"
    }
   ],
   "source": [
    "# Create lists of results\n",
    "model_numbers = [1, 2, 3, 4, 5, 6, 7, 8, 9, 10, 11, 12, 13, 14, 15, 16, 17, 18, 19, 20]\n",
    "classifiers = ['Logistic Regression',\n",
    "               'K-Nearest Neighbors Classifier',\n",
    "               'Decision Tree Classifier', \n",
    "               'Random Forest Classifier', \n",
    "               'Gradient Boosting Classifier',\n",
    "               'Logistic Regression',\n",
    "               'K-Nearest Neighbors Classifier',\n",
    "               'Decision Tree Classifier', \n",
    "               'Random Forest Classifier', \n",
    "               'Gradient Boosting Classifier',\n",
    "               'Logistic Regression',\n",
    "               'K-Nearest Neighbors Classifier',\n",
    "               'Decision Tree Classifier', \n",
    "               'Random Forest Classifier', \n",
    "               'Gradient Boosting Classifier',\n",
    "               'Logistic Regression',\n",
    "               'K-Nearest Neighbors Classifier',\n",
    "               'Decision Tree Classifier', \n",
    "               'Random Forest Classifier', \n",
    "               'Gradient Boosting Classifier']\n",
    "feature_counts = [12, 12, 12, 12, 12, 12, 12, 12, 12, 12, 12, 12, 12, 12, 12, 5, 6, 4, 12, 8]\n",
    "with_cv_statuses = ['No', 'No', 'No', 'No', 'No', 'Yes', 'Yes', 'Yes', 'Yes', 'Yes', 'Yes', 'Yes', 'Yes', 'Yes', 'Yes', 'Yes', 'Yes', 'Yes', 'Yes', 'Yes']\n",
    "with_hp_statuses = ['No', 'No', 'No', 'No', 'No', 'No', 'No', 'No', 'No', 'No', 'Yes', 'Yes', 'Yes', 'Yes', 'Yes', 'Yes', 'Yes', 'Yes', 'Yes', 'Yes']\n",
    "mean_cross_val_accuracies = ['Not applicable',\n",
    "                             'Not applicable',\n",
    "                             'Not applicable',\n",
    "                             'Not applicable',\n",
    "                             'Not applicable',\n",
    "                             cv_score_mean_model6,\n",
    "                             cv_score_mean_model7,\n",
    "                             cv_score_mean_model8,\n",
    "                             cv_score_mean_model9,\n",
    "                             cv_score_mean_model10,\n",
    "                             cv_score_mean_model11,\n",
    "                             cv_score_mean_model12,\n",
    "                             cv_score_mean_model13,\n",
    "                             cv_score_mean_model14,\n",
    "                             cv_score_mean_model15,\n",
    "                             cv_score_mean_model16,\n",
    "                             cv_score_mean_model17,\n",
    "                             cv_score_mean_model18,\n",
    "                             cv_score_mean_model19,\n",
    "                             cv_score_mean_model20]\n",
    "train_accuracies = [train_accuracy_model1,\n",
    "                    train_accuracy_model2,\n",
    "                    train_accuracy_model3,\n",
    "                    train_accuracy_model4,\n",
    "                    train_accuracy_model5,\n",
    "                    train_accuracy_model6,\n",
    "                    train_accuracy_model7,\n",
    "                    train_accuracy_model8,\n",
    "                    train_accuracy_model9,\n",
    "                    train_accuracy_model10,\n",
    "                    train_accuracy_model11,\n",
    "                    train_accuracy_model12,\n",
    "                    train_accuracy_model13,\n",
    "                    train_accuracy_model14,\n",
    "                    train_accuracy_model15,\n",
    "                    train_accuracy_model16,\n",
    "                    train_accuracy_model17,\n",
    "                    train_accuracy_model18,\n",
    "                    train_accuracy_model19,\n",
    "                    train_accuracy_model20]\n",
    "test_accuracies = [0.77990, 0.74880, 0.75119, 0.74880, 0.76794, 0.77990, 0.74880, 0.75119, 0.74880, 0.76794, 0.78947, 0.75119, 0.77751, 0.75837, 0.77751, 0.78468, 0.78229, 0.77751, 0.76076, 0.77511]\n",
    "\n",
    "# Create the DataFrame\n",
    "data = {\n",
    "    'Model Number': model_numbers,\n",
    "    'Classifier': classifiers,\n",
    "    'Number of Features': feature_counts,\n",
    "    'With Cross-Validation?': with_cv_statuses,\n",
    "    'With Hyperparameter Tuning?': with_hp_statuses,\n",
    "    'Mean Cross-Validation Accuracy': mean_cross_val_accuracies,\n",
    "    'Training Set Accuracy': train_accuracies,\n",
    "    'Test Set Accuracy (according to Kaggle)': test_accuracies\n",
    "}\n",
    "\n",
    "results = pd.DataFrame(data)\n",
    "\n",
    "# Print results\n",
    "display(results)"
   ]
  },
  {
   "cell_type": "markdown",
   "id": "8852fe73-46a1-4b83-92e0-c4d96e78c3e4",
   "metadata": {},
   "source": [
    "Of the 20 models that were built and tested, the model that produced the highest test accuracy was Model 11. Model 11 is a logistic regression model that uses 12 features ('Pclass', 'Title', 'AgeGroup', 'IsMr', 'FamilySize', 'FareGroup', 'SibSp', 'IsAlone', 'Embarked', 'Sex', 'Parch', 'IsElderly'). It uses the following parameters: {'solver': 'saga', 'max_iter': 300, 'C': 0.1}.\n",
    "\n",
    "It has a mean cross-validation accuracy of 0.815963 and a training set accuracy of 0.818182. Even though it was outperformed by Random Forest Classifier and Gradient Boosting Classifier models on these two accuracy measures, it yielded the highest test accuracy. According to Kaggle, its test accuracy is 0.78947. Interestingly, its test accuracy is lower than its mean cross-validation accuracy and training set accuracy.\n",
    "\n",
    "'Pclass', 'Title', 'AgeGroup', 'IsMr', 'FamilySize', and 'FareGroup' are the six features of the model with the highest absolute coefficient values.\n",
    "\n",
    "Considering this, the demographics of Titanic passengers who are more likely to survive are those who belong to a higher ticket class, do not have a title of Mr, are female, are not elderly, or are traveling with 1 to 3 other family members."
   ]
  }
 ],
 "metadata": {
  "celltoolbar": "Tags",
  "kernelspec": {
   "display_name": "Python 3 (ipykernel)",
   "language": "python",
   "name": "python3"
  },
  "language_info": {
   "codemirror_mode": {
    "name": "ipython",
    "version": 3
   },
   "file_extension": ".py",
   "mimetype": "text/x-python",
   "name": "python",
   "nbconvert_exporter": "python",
   "pygments_lexer": "ipython3",
   "version": "3.11.7"
  }
 },
 "nbformat": 4,
 "nbformat_minor": 5
}
